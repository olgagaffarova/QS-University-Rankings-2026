{
 "cells": [
  {
   "cell_type": "code",
   "execution_count": 1,
   "id": "8655db85-d8c2-45aa-968b-00690c1bdff8",
   "metadata": {},
   "outputs": [],
   "source": [
    "# 01 Import libraries"
   ]
  },
  {
   "cell_type": "code",
   "execution_count": 2,
   "id": "b3b3e75a-9a21-4f82-9287-52a54a80178f",
   "metadata": {},
   "outputs": [],
   "source": [
    "import pandas as pd\n",
    "import numpy as np \n",
    "import os \n",
    "import seaborn as sns\n",
    "import matplotlib.pyplot as plt\n",
    "import matplotlib\n",
    "import plotly.express as px\n",
    "import folium\n",
    "import json"
   ]
  },
  {
   "cell_type": "code",
   "execution_count": 115,
   "id": "c6ef113e-a1df-4e72-aede-b3ba9afa3384",
   "metadata": {},
   "outputs": [],
   "source": [
    "import seaborn as sns\n",
    "from scipy import stats\n",
    "from sklearn.cluster import KMeans\n",
    "from sklearn.preprocessing import StandardScaler\n",
    "import plotly.express as px\n",
    "import plotly.graph_objects as go\n",
    "from plotly.subplots import make_subplots"
   ]
  },
  {
   "cell_type": "code",
   "execution_count": 3,
   "id": "aa07068b-153b-4357-9820-3f012695a3a9",
   "metadata": {},
   "outputs": [],
   "source": [
    "# Display settings\n",
    "pd.set_option('display.max_columns', 100)\n",
    "pd.set_option('display.width', 200)"
   ]
  },
  {
   "cell_type": "code",
   "execution_count": 4,
   "id": "e50a4ea6-0d22-4cde-abf6-12d587879910",
   "metadata": {},
   "outputs": [],
   "source": [
    "%matplotlib inline"
   ]
  },
  {
   "cell_type": "code",
   "execution_count": 5,
   "id": "02ec9ef7-8206-4d62-a1e1-ae87ba73f9c7",
   "metadata": {},
   "outputs": [],
   "source": [
    "# 02 Import data "
   ]
  },
  {
   "cell_type": "code",
   "execution_count": 6,
   "id": "37794244-de37-4f4d-b0e3-3004e83cfa6a",
   "metadata": {},
   "outputs": [],
   "source": [
    "path = r'/Users/woodoooo/Desktop/World University Rankings'"
   ]
  },
  {
   "cell_type": "code",
   "execution_count": 7,
   "id": "2a8fcb35-11e8-4dd4-86e0-c72c7bce988d",
   "metadata": {},
   "outputs": [],
   "source": [
    "file = os.path.join(path, '02_Data', 'Prepared Data', 'QS_Rankings_selected_col_cleaned.xlsx')"
   ]
  },
  {
   "cell_type": "code",
   "execution_count": 8,
   "id": "1cf98ec8-1c89-4b24-843f-02ef36dae264",
   "metadata": {},
   "outputs": [],
   "source": [
    "df = pd.read_excel(file)"
   ]
  },
  {
   "cell_type": "code",
   "execution_count": 12,
   "id": "22983c60-8e92-4745-837c-a06624aa3702",
   "metadata": {},
   "outputs": [
    {
     "data": {
      "text/plain": [
       "Index(['Rank_num', 'Rank_sym', 'Previous Rank_num', 'Previous Rank_sym', 'Name', 'Country/Territory', 'Region', 'Size', 'Focus', 'Research', 'Status', 'AR SCORE', 'ER SCORE', 'FSR SCORE',\n",
       "       'CPF SCORE', 'IFR SCORE', 'ISR SCORE', 'ISD SCORE', 'IRN SCORE', 'EO SCORE', 'SUS SCORE', 'AR RANK_num', 'AR RANK_sym', 'ER RANK_num', 'ER RANK_sym', 'FSR RANK_num', 'FSR RANK_sym',\n",
       "       'CPF RANK_num', 'CPF RANK_sym', 'IFR RANK_num', 'IFR RANK_sym', 'ISR RANK_num', 'ISR RANK_sym', 'ISD RANK_num', 'ISD RANK_sym', 'IRN RANK_num', 'IRN RANK_sym', 'EO RANK_num', 'EO RANK_sym',\n",
       "       'SUS RANK_num', 'SUS RANK_sym', 'Overall SCORE'],\n",
       "      dtype='object')"
      ]
     },
     "execution_count": 12,
     "metadata": {},
     "output_type": "execute_result"
    }
   ],
   "source": [
    "df.columns"
   ]
  },
  {
   "cell_type": "code",
   "execution_count": 9,
   "id": "aa193f9f-63b8-47e0-a3b4-58b6994c44ef",
   "metadata": {},
   "outputs": [],
   "source": [
    "# 03 search"
   ]
  },
  {
   "cell_type": "code",
   "execution_count": 28,
   "id": "c0c97dac-33a8-4e69-8855-160331efeafc",
   "metadata": {},
   "outputs": [],
   "source": [
    "top100fsr = df.sort_values(\n",
    "    by= 'FSR SCORE',\n",
    "    ascending=False).head(100)"
   ]
  },
  {
   "cell_type": "code",
   "execution_count": 35,
   "id": "3cc74401-bbc4-441b-a574-9052f1312980",
   "metadata": {},
   "outputs": [],
   "source": [
    "fsr_to_ar = top100fsr[[\"Name\", \"FSR SCORE\", \"AR SCORE\"]]"
   ]
  },
  {
   "cell_type": "code",
   "execution_count": 37,
   "id": "f957bdb4-b2be-45bf-b9bd-a505e844cc7d",
   "metadata": {},
   "outputs": [
    {
     "data": {
      "text/html": [
       "<div>\n",
       "<style scoped>\n",
       "    .dataframe tbody tr th:only-of-type {\n",
       "        vertical-align: middle;\n",
       "    }\n",
       "\n",
       "    .dataframe tbody tr th {\n",
       "        vertical-align: top;\n",
       "    }\n",
       "\n",
       "    .dataframe thead th {\n",
       "        text-align: right;\n",
       "    }\n",
       "</style>\n",
       "<table border=\"1\" class=\"dataframe\">\n",
       "  <thead>\n",
       "    <tr style=\"text-align: right;\">\n",
       "      <th></th>\n",
       "      <th>Name</th>\n",
       "      <th>FSR SCORE</th>\n",
       "      <th>AR SCORE</th>\n",
       "    </tr>\n",
       "  </thead>\n",
       "  <tbody>\n",
       "    <tr>\n",
       "      <th>23</th>\n",
       "      <td>Johns Hopkins University</td>\n",
       "      <td>100.0</td>\n",
       "      <td>93.2</td>\n",
       "    </tr>\n",
       "    <tr>\n",
       "      <th>0</th>\n",
       "      <td>Massachusetts Institute of Technology (MIT)</td>\n",
       "      <td>100.0</td>\n",
       "      <td>100.0</td>\n",
       "    </tr>\n",
       "    <tr>\n",
       "      <th>577</th>\n",
       "      <td>Universität Jena</td>\n",
       "      <td>100.0</td>\n",
       "      <td>23.4</td>\n",
       "    </tr>\n",
       "    <tr>\n",
       "      <th>517</th>\n",
       "      <td>Pontificia Universidad Católica Argentina Sant...</td>\n",
       "      <td>100.0</td>\n",
       "      <td>30.2</td>\n",
       "    </tr>\n",
       "    <tr>\n",
       "      <th>20</th>\n",
       "      <td>Yale University</td>\n",
       "      <td>100.0</td>\n",
       "      <td>100.0</td>\n",
       "    </tr>\n",
       "  </tbody>\n",
       "</table>\n",
       "</div>"
      ],
      "text/plain": [
       "                                                  Name  FSR SCORE  AR SCORE\n",
       "23                            Johns Hopkins University      100.0      93.2\n",
       "0          Massachusetts Institute of Technology (MIT)      100.0     100.0\n",
       "577                                   Universität Jena      100.0      23.4\n",
       "517  Pontificia Universidad Católica Argentina Sant...      100.0      30.2\n",
       "20                                     Yale University      100.0     100.0"
      ]
     },
     "execution_count": 37,
     "metadata": {},
     "output_type": "execute_result"
    }
   ],
   "source": [
    "fsr_to_ar.head()"
   ]
  },
  {
   "cell_type": "code",
   "execution_count": 38,
   "id": "d2a886eb-cccd-47a7-943e-8cb5763ce631",
   "metadata": {},
   "outputs": [
    {
     "data": {
      "text/html": [
       "<div>\n",
       "<style scoped>\n",
       "    .dataframe tbody tr th:only-of-type {\n",
       "        vertical-align: middle;\n",
       "    }\n",
       "\n",
       "    .dataframe tbody tr th {\n",
       "        vertical-align: top;\n",
       "    }\n",
       "\n",
       "    .dataframe thead th {\n",
       "        text-align: right;\n",
       "    }\n",
       "</style>\n",
       "<table border=\"1\" class=\"dataframe\">\n",
       "  <thead>\n",
       "    <tr style=\"text-align: right;\">\n",
       "      <th></th>\n",
       "      <th>FSR SCORE</th>\n",
       "      <th>AR SCORE</th>\n",
       "    </tr>\n",
       "  </thead>\n",
       "  <tbody>\n",
       "    <tr>\n",
       "      <th>count</th>\n",
       "      <td>100.000000</td>\n",
       "      <td>100.000000</td>\n",
       "    </tr>\n",
       "    <tr>\n",
       "      <th>mean</th>\n",
       "      <td>97.334000</td>\n",
       "      <td>41.287000</td>\n",
       "    </tr>\n",
       "    <tr>\n",
       "      <th>std</th>\n",
       "      <td>2.819923</td>\n",
       "      <td>34.815432</td>\n",
       "    </tr>\n",
       "    <tr>\n",
       "      <th>min</th>\n",
       "      <td>91.200000</td>\n",
       "      <td>3.300000</td>\n",
       "    </tr>\n",
       "    <tr>\n",
       "      <th>25%</th>\n",
       "      <td>94.800000</td>\n",
       "      <td>11.075000</td>\n",
       "    </tr>\n",
       "    <tr>\n",
       "      <th>50%</th>\n",
       "      <td>98.250000</td>\n",
       "      <td>27.650000</td>\n",
       "    </tr>\n",
       "    <tr>\n",
       "      <th>75%</th>\n",
       "      <td>99.900000</td>\n",
       "      <td>75.350000</td>\n",
       "    </tr>\n",
       "    <tr>\n",
       "      <th>max</th>\n",
       "      <td>100.000000</td>\n",
       "      <td>100.000000</td>\n",
       "    </tr>\n",
       "  </tbody>\n",
       "</table>\n",
       "</div>"
      ],
      "text/plain": [
       "        FSR SCORE    AR SCORE\n",
       "count  100.000000  100.000000\n",
       "mean    97.334000   41.287000\n",
       "std      2.819923   34.815432\n",
       "min     91.200000    3.300000\n",
       "25%     94.800000   11.075000\n",
       "50%     98.250000   27.650000\n",
       "75%     99.900000   75.350000\n",
       "max    100.000000  100.000000"
      ]
     },
     "execution_count": 38,
     "metadata": {},
     "output_type": "execute_result"
    }
   ],
   "source": [
    "fsr_to_ar.describe()"
   ]
  },
  {
   "cell_type": "code",
   "execution_count": 39,
   "id": "fe10c843-25a9-4ece-a87a-f607af8625c1",
   "metadata": {},
   "outputs": [],
   "source": [
    "top100sus = df.sort_values(\n",
    "    by= 'SUS SCORE',\n",
    "    ascending=False).head(100)"
   ]
  },
  {
   "cell_type": "code",
   "execution_count": 40,
   "id": "f1479cf3-5ece-48db-9dc7-815d3f75b753",
   "metadata": {},
   "outputs": [],
   "source": [
    "sus_to_ar = top100sus[[\"Name\", \"SUS SCORE\", \"AR SCORE\"]]"
   ]
  },
  {
   "cell_type": "code",
   "execution_count": 41,
   "id": "3df469dd-f0d6-4e80-9a26-a9155b7f80c3",
   "metadata": {},
   "outputs": [
    {
     "data": {
      "text/html": [
       "<div>\n",
       "<style scoped>\n",
       "    .dataframe tbody tr th:only-of-type {\n",
       "        vertical-align: middle;\n",
       "    }\n",
       "\n",
       "    .dataframe tbody tr th {\n",
       "        vertical-align: top;\n",
       "    }\n",
       "\n",
       "    .dataframe thead th {\n",
       "        text-align: right;\n",
       "    }\n",
       "</style>\n",
       "<table border=\"1\" class=\"dataframe\">\n",
       "  <thead>\n",
       "    <tr style=\"text-align: right;\">\n",
       "      <th></th>\n",
       "      <th>SUS SCORE</th>\n",
       "      <th>AR SCORE</th>\n",
       "    </tr>\n",
       "  </thead>\n",
       "  <tbody>\n",
       "    <tr>\n",
       "      <th>count</th>\n",
       "      <td>100.000000</td>\n",
       "      <td>100.000000</td>\n",
       "    </tr>\n",
       "    <tr>\n",
       "      <th>mean</th>\n",
       "      <td>91.796000</td>\n",
       "      <td>71.603000</td>\n",
       "    </tr>\n",
       "    <tr>\n",
       "      <th>std</th>\n",
       "      <td>3.816072</td>\n",
       "      <td>22.358184</td>\n",
       "    </tr>\n",
       "    <tr>\n",
       "      <th>min</th>\n",
       "      <td>86.000000</td>\n",
       "      <td>23.800000</td>\n",
       "    </tr>\n",
       "    <tr>\n",
       "      <th>25%</th>\n",
       "      <td>88.400000</td>\n",
       "      <td>52.275000</td>\n",
       "    </tr>\n",
       "    <tr>\n",
       "      <th>50%</th>\n",
       "      <td>91.700000</td>\n",
       "      <td>71.950000</td>\n",
       "    </tr>\n",
       "    <tr>\n",
       "      <th>75%</th>\n",
       "      <td>94.475000</td>\n",
       "      <td>95.825000</td>\n",
       "    </tr>\n",
       "    <tr>\n",
       "      <th>max</th>\n",
       "      <td>100.000000</td>\n",
       "      <td>100.000000</td>\n",
       "    </tr>\n",
       "  </tbody>\n",
       "</table>\n",
       "</div>"
      ],
      "text/plain": [
       "        SUS SCORE    AR SCORE\n",
       "count  100.000000  100.000000\n",
       "mean    91.796000   71.603000\n",
       "std      3.816072   22.358184\n",
       "min     86.000000   23.800000\n",
       "25%     88.400000   52.275000\n",
       "50%     91.700000   71.950000\n",
       "75%     94.475000   95.825000\n",
       "max    100.000000  100.000000"
      ]
     },
     "execution_count": 41,
     "metadata": {},
     "output_type": "execute_result"
    }
   ],
   "source": [
    "sus_to_ar.describe()"
   ]
  },
  {
   "cell_type": "code",
   "execution_count": 42,
   "id": "2bbc6969-be7e-411c-8923-4299dc5dba5e",
   "metadata": {},
   "outputs": [],
   "source": [
    "sus_to_ar_full = df[[\"Name\", \"SUS SCORE\", \"AR SCORE\"]]"
   ]
  },
  {
   "cell_type": "code",
   "execution_count": 43,
   "id": "cf4dd1bf-50a1-434b-a7a2-4bef8a4e5f52",
   "metadata": {},
   "outputs": [
    {
     "data": {
      "text/html": [
       "<div>\n",
       "<style scoped>\n",
       "    .dataframe tbody tr th:only-of-type {\n",
       "        vertical-align: middle;\n",
       "    }\n",
       "\n",
       "    .dataframe tbody tr th {\n",
       "        vertical-align: top;\n",
       "    }\n",
       "\n",
       "    .dataframe thead th {\n",
       "        text-align: right;\n",
       "    }\n",
       "</style>\n",
       "<table border=\"1\" class=\"dataframe\">\n",
       "  <thead>\n",
       "    <tr style=\"text-align: right;\">\n",
       "      <th></th>\n",
       "      <th>SUS SCORE</th>\n",
       "      <th>AR SCORE</th>\n",
       "    </tr>\n",
       "  </thead>\n",
       "  <tbody>\n",
       "    <tr>\n",
       "      <th>count</th>\n",
       "      <td>1479.000000</td>\n",
       "      <td>1503.000000</td>\n",
       "    </tr>\n",
       "    <tr>\n",
       "      <th>mean</th>\n",
       "      <td>51.229750</td>\n",
       "      <td>25.764937</td>\n",
       "    </tr>\n",
       "    <tr>\n",
       "      <th>std</th>\n",
       "      <td>21.262767</td>\n",
       "      <td>24.491393</td>\n",
       "    </tr>\n",
       "    <tr>\n",
       "      <th>min</th>\n",
       "      <td>3.000000</td>\n",
       "      <td>1.000000</td>\n",
       "    </tr>\n",
       "    <tr>\n",
       "      <th>25%</th>\n",
       "      <td>35.700000</td>\n",
       "      <td>8.800000</td>\n",
       "    </tr>\n",
       "    <tr>\n",
       "      <th>50%</th>\n",
       "      <td>48.700000</td>\n",
       "      <td>16.000000</td>\n",
       "    </tr>\n",
       "    <tr>\n",
       "      <th>75%</th>\n",
       "      <td>66.450000</td>\n",
       "      <td>32.600000</td>\n",
       "    </tr>\n",
       "    <tr>\n",
       "      <th>max</th>\n",
       "      <td>100.000000</td>\n",
       "      <td>100.000000</td>\n",
       "    </tr>\n",
       "  </tbody>\n",
       "</table>\n",
       "</div>"
      ],
      "text/plain": [
       "         SUS SCORE     AR SCORE\n",
       "count  1479.000000  1503.000000\n",
       "mean     51.229750    25.764937\n",
       "std      21.262767    24.491393\n",
       "min       3.000000     1.000000\n",
       "25%      35.700000     8.800000\n",
       "50%      48.700000    16.000000\n",
       "75%      66.450000    32.600000\n",
       "max     100.000000   100.000000"
      ]
     },
     "execution_count": 43,
     "metadata": {},
     "output_type": "execute_result"
    }
   ],
   "source": [
    "sus_to_ar_full.describe()"
   ]
  },
  {
   "cell_type": "code",
   "execution_count": 48,
   "id": "159446ca-aabd-4665-947f-a919d33749d8",
   "metadata": {},
   "outputs": [],
   "source": [
    "fsr_to_ar_full = df[[\"Name\", \"Country/Territory\", \"FSR SCORE\", \"AR SCORE\"]]"
   ]
  },
  {
   "cell_type": "code",
   "execution_count": 49,
   "id": "d60ae701-d18d-471a-8c48-e28060505be2",
   "metadata": {},
   "outputs": [
    {
     "data": {
      "text/html": [
       "<div>\n",
       "<style scoped>\n",
       "    .dataframe tbody tr th:only-of-type {\n",
       "        vertical-align: middle;\n",
       "    }\n",
       "\n",
       "    .dataframe tbody tr th {\n",
       "        vertical-align: top;\n",
       "    }\n",
       "\n",
       "    .dataframe thead th {\n",
       "        text-align: right;\n",
       "    }\n",
       "</style>\n",
       "<table border=\"1\" class=\"dataframe\">\n",
       "  <thead>\n",
       "    <tr style=\"text-align: right;\">\n",
       "      <th></th>\n",
       "      <th>FSR SCORE</th>\n",
       "      <th>AR SCORE</th>\n",
       "    </tr>\n",
       "  </thead>\n",
       "  <tbody>\n",
       "    <tr>\n",
       "      <th>count</th>\n",
       "      <td>1503.000000</td>\n",
       "      <td>1503.000000</td>\n",
       "    </tr>\n",
       "    <tr>\n",
       "      <th>mean</th>\n",
       "      <td>33.979907</td>\n",
       "      <td>25.764937</td>\n",
       "    </tr>\n",
       "    <tr>\n",
       "      <th>std</th>\n",
       "      <td>28.451886</td>\n",
       "      <td>24.491393</td>\n",
       "    </tr>\n",
       "    <tr>\n",
       "      <th>min</th>\n",
       "      <td>1.000000</td>\n",
       "      <td>1.000000</td>\n",
       "    </tr>\n",
       "    <tr>\n",
       "      <th>25%</th>\n",
       "      <td>10.800000</td>\n",
       "      <td>8.800000</td>\n",
       "    </tr>\n",
       "    <tr>\n",
       "      <th>50%</th>\n",
       "      <td>23.600000</td>\n",
       "      <td>16.000000</td>\n",
       "    </tr>\n",
       "    <tr>\n",
       "      <th>75%</th>\n",
       "      <td>50.550000</td>\n",
       "      <td>32.600000</td>\n",
       "    </tr>\n",
       "    <tr>\n",
       "      <th>max</th>\n",
       "      <td>100.000000</td>\n",
       "      <td>100.000000</td>\n",
       "    </tr>\n",
       "  </tbody>\n",
       "</table>\n",
       "</div>"
      ],
      "text/plain": [
       "         FSR SCORE     AR SCORE\n",
       "count  1503.000000  1503.000000\n",
       "mean     33.979907    25.764937\n",
       "std      28.451886    24.491393\n",
       "min       1.000000     1.000000\n",
       "25%      10.800000     8.800000\n",
       "50%      23.600000    16.000000\n",
       "75%      50.550000    32.600000\n",
       "max     100.000000   100.000000"
      ]
     },
     "execution_count": 49,
     "metadata": {},
     "output_type": "execute_result"
    }
   ],
   "source": [
    "fsr_to_ar_full.describe()"
   ]
  },
  {
   "cell_type": "code",
   "execution_count": 70,
   "id": "2ce31e1b-acac-4855-abed-8b68655fd0fe",
   "metadata": {},
   "outputs": [],
   "source": [
    "df_200_500 = df[(df[\"Rank_num\"] >= 200) & (df[\"Rank_num\"] <= 500)].sort_values(\n",
    "    by= 'SUS SCORE',\n",
    "    ascending=False)"
   ]
  },
  {
   "cell_type": "code",
   "execution_count": 72,
   "id": "7f7f8edf-70b6-482a-a287-a319de5d550e",
   "metadata": {},
   "outputs": [
    {
     "data": {
      "application/vnd.plotly.v1+json": {
       "config": {
        "plotlyServerURL": "https://plot.ly"
       },
       "data": [
        {
         "alignmentgroup": "True",
         "hovertemplate": "Country/Territory=%{x}<br>SUS SCORE=%{y}<extra></extra>",
         "legendgroup": "",
         "marker": {
          "color": "#636efa"
         },
         "name": "",
         "notched": false,
         "offsetgroup": "",
         "orientation": "v",
         "showlegend": false,
         "type": "box",
         "x": [
          "Sweden",
          "Australia",
          "United Kingdom",
          "United States of America",
          "United States of America",
          "United Kingdom",
          "Germany",
          "Australia",
          "New Zealand",
          "United Kingdom",
          "Germany",
          "United Kingdom",
          "United States of America",
          "Canada",
          "Australia",
          "United States of America",
          "Germany",
          "United States of America",
          "Canada",
          "Germany",
          "South Africa",
          "Canada",
          "Canada",
          "Italy",
          "Denmark",
          "Australia",
          "New Zealand",
          "United Kingdom",
          "United States of America",
          "Canada",
          "United Kingdom",
          "United States of America",
          "Australia",
          "Ireland",
          "New Zealand",
          "Canada",
          "New Zealand",
          "Germany",
          "United States of America",
          "Australia",
          "United States of America",
          "Ireland",
          "United States of America",
          "Australia",
          "Australia",
          "Canada",
          "Australia",
          "Canada",
          "United Kingdom",
          "Belgium",
          "United Kingdom",
          "Norway",
          "Netherlands",
          "United States of America",
          "South Africa",
          "Belgium",
          "Thailand",
          "Canada",
          "Belgium",
          "Ireland",
          "Taiwan",
          "Netherlands",
          "Brazil",
          "Spain",
          "Portugal",
          "Denmark",
          "Italy",
          "Germany",
          "United Kingdom",
          "Germany",
          "United States of America",
          "India",
          "Lebanon",
          "Spain",
          "Portugal",
          "United Kingdom",
          "Sweden",
          "Czechia",
          "Spain",
          "Israel",
          "Czechia",
          "Italy",
          "Colombia",
          "Ireland",
          "Portugal",
          "Germany",
          "Germany",
          "Finland",
          "United States of America",
          "Italy",
          "Republic of Korea",
          "United States of America",
          "South Africa",
          "Austria",
          "India",
          "Germany",
          "Finland",
          "Germany",
          "Spain",
          "Poland",
          "New Zealand",
          "Republic of Korea",
          "Italy",
          "Japan",
          "Australia",
          "Japan",
          "Japan",
          "Australia",
          "Italy",
          "Italy",
          "United States of America",
          "Spain",
          "Germany",
          "United States of America",
          "Finland",
          "Türkiye",
          "Poland",
          "India",
          "Brazil",
          "United States of America",
          "United States of America",
          "Spain",
          "Finland",
          "Italy",
          "Lithuania",
          "Switzerland",
          "Germany",
          "Germany",
          "Oman",
          "Colombia",
          "United States of America",
          "Republic of Korea",
          "United States of America",
          "Japan",
          "Philippines",
          "United Arab Emirates",
          "Türkiye",
          "Türkiye",
          "United States of America",
          "Taiwan",
          "Sweden",
          "Netherlands",
          "United Kingdom",
          "Hong Kong SAR, China",
          "Taiwan",
          "Portugal",
          "United States of America",
          "United States of America",
          "Egypt",
          "Greece",
          "Spain",
          "India",
          "Spain",
          "Spain",
          "United States of America",
          "Indonesia",
          "Australia",
          "United Kingdom",
          "Israel",
          "China (Mainland)",
          "Belgium",
          "Norway",
          "United States of America",
          "United States of America",
          "Portugal",
          "United States of America",
          "Germany",
          "India",
          "Greece",
          "Australia",
          "Estonia",
          "Jordan",
          "Pakistan",
          "France",
          "Indonesia",
          "Türkiye",
          "United Kingdom",
          "United States of America",
          "New Zealand",
          "Italy",
          "France",
          "United States of America",
          "United Kingdom",
          "Malaysia",
          "Republic of Korea",
          "Malaysia",
          "Thailand",
          "South Africa",
          "Austria",
          "Germany",
          "United Kingdom",
          "United States of America",
          "France",
          "United States of America",
          "United Kingdom",
          "Peru",
          "Indonesia",
          "Russian Federation",
          "Taiwan",
          "China (Mainland)",
          "United Arab Emirates",
          "Viet Nam",
          "Colombia",
          "Brazil",
          "Spain",
          "Malaysia",
          "Russian Federation",
          "Italy",
          "Republic of Korea",
          "China (Mainland)",
          "India",
          "Taiwan",
          "China (Mainland)",
          "Spain",
          "Indonesia",
          "France",
          "China (Mainland)",
          "China (Mainland)",
          "China (Mainland)",
          "France",
          "United States of America",
          "China (Mainland)",
          "Saudi Arabia",
          "France",
          "Russian Federation",
          "Republic of Korea",
          "France",
          "United Kingdom",
          "United Arab Emirates",
          "China (Mainland)",
          "Costa Rica",
          "Chile",
          "Czechia",
          "Australia",
          "Germany",
          "Israel",
          "Spain",
          "Cyprus",
          "Brunei Darussalam",
          "Macao SAR, China",
          "Germany",
          "Jordan",
          "Macao SAR, China",
          "Italy",
          "Türkiye",
          "Egypt",
          "Germany",
          "Australia",
          "Netherlands",
          "Germany",
          "France",
          "China (Mainland)",
          "Türkiye",
          "Malaysia",
          "United Arab Emirates",
          "Malaysia",
          "Greece",
          "Finland",
          "Israel",
          "Kazakhstan",
          "China (Mainland)",
          "China (Mainland)",
          "Switzerland",
          "China (Mainland)",
          "China (Mainland)",
          "Russian Federation",
          "France",
          "Uzbekistan",
          "Pakistan",
          "China (Mainland)",
          "Kazakhstan",
          "United Arab Emirates",
          "United Kingdom",
          "Iran (Islamic Republic of)",
          "China (Mainland)",
          "China (Mainland)",
          "China (Mainland)",
          "Russian Federation",
          "Russian Federation",
          "India",
          "China (Mainland)",
          "Republic of Korea",
          "China (Mainland)",
          "Austria",
          "Luxembourg",
          "China (Mainland)",
          "Argentina",
          "France",
          "China (Mainland)",
          "Iran (Islamic Republic of)",
          "Qatar",
          "Poland",
          "Saudi Arabia",
          "China (Mainland)",
          "Iran (Islamic Republic of)",
          "Germany",
          "Russian Federation",
          "Iran (Islamic Republic of)",
          "Italy",
          "Russian Federation",
          "China (Mainland)",
          "Belarus"
         ],
         "x0": " ",
         "xaxis": "x",
         "y": [
          92.9,
          91.7,
          91.1,
          91.1,
          90.3,
          90,
          88.9,
          88.5,
          88.2,
          87.9,
          87.9,
          87.8,
          87.5,
          86.8,
          86.7,
          86.7,
          86.4,
          86.3,
          86,
          85.6,
          85.6,
          85.3,
          85.2,
          85,
          85,
          84.8,
          84.8,
          84.6,
          84.5,
          84.5,
          84.4,
          84.3,
          84,
          83.8,
          83.7,
          83.6,
          83.3,
          82.9,
          82.7,
          82.6,
          82.5,
          82.5,
          82.2,
          82.2,
          81.9,
          81.8,
          81.6,
          81.6,
          81.2,
          80.6,
          80.4,
          80.3,
          80.2,
          80.2,
          80.1,
          80,
          80,
          79.9,
          79.7,
          79.7,
          79.7,
          79.6,
          79.5,
          79.5,
          79.3,
          79.1,
          78.7,
          78.7,
          78.6,
          78.6,
          78.5,
          77.8,
          77.7,
          77.3,
          77.3,
          77.2,
          77.1,
          77,
          77,
          77,
          76.9,
          76.4,
          75.9,
          75.9,
          75.8,
          75.4,
          75.3,
          75.2,
          75,
          74.9,
          74.9,
          74.9,
          74.8,
          74.7,
          74.7,
          74.6,
          74.4,
          74.2,
          74.1,
          74,
          74,
          73.6,
          73.6,
          73.4,
          73.4,
          73.3,
          73.2,
          73.2,
          72.9,
          72.8,
          72.5,
          72.5,
          72.5,
          72.3,
          72.2,
          71.8,
          71.6,
          71.2,
          70.9,
          70.8,
          70.7,
          70.7,
          70.6,
          70.3,
          70.3,
          70.3,
          69.9,
          69.9,
          69.6,
          69.3,
          69.1,
          68.9,
          68.9,
          68.9,
          68.9,
          68.6,
          68.5,
          68.5,
          68.2,
          68.2,
          68.2,
          67.7,
          67.6,
          67.5,
          67,
          66.9,
          66.9,
          66.9,
          66.6,
          66.4,
          66.4,
          66.3,
          66.1,
          66.1,
          66,
          66,
          65.5,
          65.5,
          65.5,
          65.5,
          65.2,
          65.1,
          65,
          64.9,
          64.7,
          64.6,
          64.5,
          64.5,
          64.3,
          64.2,
          64.2,
          64.1,
          63.3,
          63.2,
          63.2,
          62.4,
          62.3,
          62.2,
          62,
          62,
          61.8,
          61.8,
          61.7,
          61.6,
          61.3,
          61.2,
          61.2,
          61,
          61,
          61,
          60.4,
          60.2,
          60,
          60,
          59.8,
          59.7,
          59.2,
          58.9,
          58.9,
          58.8,
          58.8,
          58.7,
          58.6,
          58.5,
          58.4,
          57.8,
          57.6,
          57.5,
          57.5,
          57.5,
          57.5,
          56.8,
          56.7,
          56.7,
          56.6,
          56.5,
          56.2,
          55.8,
          55.7,
          55.7,
          55.6,
          55.5,
          55.3,
          55.3,
          55.3,
          55.3,
          54.5,
          54.5,
          54.4,
          54.1,
          53.7,
          53.7,
          53.6,
          53.4,
          53.4,
          53.2,
          53,
          52.9,
          52.4,
          52.2,
          52.2,
          52.1,
          52,
          51.8,
          51.7,
          51.6,
          51.3,
          51,
          50.6,
          50.2,
          50.2,
          50.1,
          50.1,
          50,
          49.6,
          49.5,
          49.3,
          49.2,
          48.8,
          48.7,
          48.5,
          48.2,
          48.2,
          48.1,
          47.7,
          47.6,
          47.3,
          46.9,
          46.9,
          46.8,
          46.6,
          46.2,
          45.6,
          45.5,
          45.3,
          45,
          44.9,
          44.6,
          43.8,
          43,
          42.9,
          42.8,
          42.7,
          42.6,
          42.4,
          41.6,
          39.4,
          39.1,
          39,
          38.7,
          38.5,
          38.4,
          37.4,
          36.7,
          35.5,
          32.9,
          30.6,
          27.3,
          26.1,
          21.9,
          null,
          null
         ],
         "y0": " ",
         "yaxis": "y"
        }
       ],
       "layout": {
        "boxmode": "group",
        "legend": {
         "tracegroupgap": 0
        },
        "template": {
         "data": {
          "bar": [
           {
            "error_x": {
             "color": "#2a3f5f"
            },
            "error_y": {
             "color": "#2a3f5f"
            },
            "marker": {
             "line": {
              "color": "#E5ECF6",
              "width": 0.5
             },
             "pattern": {
              "fillmode": "overlay",
              "size": 10,
              "solidity": 0.2
             }
            },
            "type": "bar"
           }
          ],
          "barpolar": [
           {
            "marker": {
             "line": {
              "color": "#E5ECF6",
              "width": 0.5
             },
             "pattern": {
              "fillmode": "overlay",
              "size": 10,
              "solidity": 0.2
             }
            },
            "type": "barpolar"
           }
          ],
          "carpet": [
           {
            "aaxis": {
             "endlinecolor": "#2a3f5f",
             "gridcolor": "white",
             "linecolor": "white",
             "minorgridcolor": "white",
             "startlinecolor": "#2a3f5f"
            },
            "baxis": {
             "endlinecolor": "#2a3f5f",
             "gridcolor": "white",
             "linecolor": "white",
             "minorgridcolor": "white",
             "startlinecolor": "#2a3f5f"
            },
            "type": "carpet"
           }
          ],
          "choropleth": [
           {
            "colorbar": {
             "outlinewidth": 0,
             "ticks": ""
            },
            "type": "choropleth"
           }
          ],
          "contour": [
           {
            "colorbar": {
             "outlinewidth": 0,
             "ticks": ""
            },
            "colorscale": [
             [
              0,
              "#0d0887"
             ],
             [
              0.1111111111111111,
              "#46039f"
             ],
             [
              0.2222222222222222,
              "#7201a8"
             ],
             [
              0.3333333333333333,
              "#9c179e"
             ],
             [
              0.4444444444444444,
              "#bd3786"
             ],
             [
              0.5555555555555556,
              "#d8576b"
             ],
             [
              0.6666666666666666,
              "#ed7953"
             ],
             [
              0.7777777777777778,
              "#fb9f3a"
             ],
             [
              0.8888888888888888,
              "#fdca26"
             ],
             [
              1,
              "#f0f921"
             ]
            ],
            "type": "contour"
           }
          ],
          "contourcarpet": [
           {
            "colorbar": {
             "outlinewidth": 0,
             "ticks": ""
            },
            "type": "contourcarpet"
           }
          ],
          "heatmap": [
           {
            "colorbar": {
             "outlinewidth": 0,
             "ticks": ""
            },
            "colorscale": [
             [
              0,
              "#0d0887"
             ],
             [
              0.1111111111111111,
              "#46039f"
             ],
             [
              0.2222222222222222,
              "#7201a8"
             ],
             [
              0.3333333333333333,
              "#9c179e"
             ],
             [
              0.4444444444444444,
              "#bd3786"
             ],
             [
              0.5555555555555556,
              "#d8576b"
             ],
             [
              0.6666666666666666,
              "#ed7953"
             ],
             [
              0.7777777777777778,
              "#fb9f3a"
             ],
             [
              0.8888888888888888,
              "#fdca26"
             ],
             [
              1,
              "#f0f921"
             ]
            ],
            "type": "heatmap"
           }
          ],
          "heatmapgl": [
           {
            "colorbar": {
             "outlinewidth": 0,
             "ticks": ""
            },
            "colorscale": [
             [
              0,
              "#0d0887"
             ],
             [
              0.1111111111111111,
              "#46039f"
             ],
             [
              0.2222222222222222,
              "#7201a8"
             ],
             [
              0.3333333333333333,
              "#9c179e"
             ],
             [
              0.4444444444444444,
              "#bd3786"
             ],
             [
              0.5555555555555556,
              "#d8576b"
             ],
             [
              0.6666666666666666,
              "#ed7953"
             ],
             [
              0.7777777777777778,
              "#fb9f3a"
             ],
             [
              0.8888888888888888,
              "#fdca26"
             ],
             [
              1,
              "#f0f921"
             ]
            ],
            "type": "heatmapgl"
           }
          ],
          "histogram": [
           {
            "marker": {
             "pattern": {
              "fillmode": "overlay",
              "size": 10,
              "solidity": 0.2
             }
            },
            "type": "histogram"
           }
          ],
          "histogram2d": [
           {
            "colorbar": {
             "outlinewidth": 0,
             "ticks": ""
            },
            "colorscale": [
             [
              0,
              "#0d0887"
             ],
             [
              0.1111111111111111,
              "#46039f"
             ],
             [
              0.2222222222222222,
              "#7201a8"
             ],
             [
              0.3333333333333333,
              "#9c179e"
             ],
             [
              0.4444444444444444,
              "#bd3786"
             ],
             [
              0.5555555555555556,
              "#d8576b"
             ],
             [
              0.6666666666666666,
              "#ed7953"
             ],
             [
              0.7777777777777778,
              "#fb9f3a"
             ],
             [
              0.8888888888888888,
              "#fdca26"
             ],
             [
              1,
              "#f0f921"
             ]
            ],
            "type": "histogram2d"
           }
          ],
          "histogram2dcontour": [
           {
            "colorbar": {
             "outlinewidth": 0,
             "ticks": ""
            },
            "colorscale": [
             [
              0,
              "#0d0887"
             ],
             [
              0.1111111111111111,
              "#46039f"
             ],
             [
              0.2222222222222222,
              "#7201a8"
             ],
             [
              0.3333333333333333,
              "#9c179e"
             ],
             [
              0.4444444444444444,
              "#bd3786"
             ],
             [
              0.5555555555555556,
              "#d8576b"
             ],
             [
              0.6666666666666666,
              "#ed7953"
             ],
             [
              0.7777777777777778,
              "#fb9f3a"
             ],
             [
              0.8888888888888888,
              "#fdca26"
             ],
             [
              1,
              "#f0f921"
             ]
            ],
            "type": "histogram2dcontour"
           }
          ],
          "mesh3d": [
           {
            "colorbar": {
             "outlinewidth": 0,
             "ticks": ""
            },
            "type": "mesh3d"
           }
          ],
          "parcoords": [
           {
            "line": {
             "colorbar": {
              "outlinewidth": 0,
              "ticks": ""
             }
            },
            "type": "parcoords"
           }
          ],
          "pie": [
           {
            "automargin": true,
            "type": "pie"
           }
          ],
          "scatter": [
           {
            "fillpattern": {
             "fillmode": "overlay",
             "size": 10,
             "solidity": 0.2
            },
            "type": "scatter"
           }
          ],
          "scatter3d": [
           {
            "line": {
             "colorbar": {
              "outlinewidth": 0,
              "ticks": ""
             }
            },
            "marker": {
             "colorbar": {
              "outlinewidth": 0,
              "ticks": ""
             }
            },
            "type": "scatter3d"
           }
          ],
          "scattercarpet": [
           {
            "marker": {
             "colorbar": {
              "outlinewidth": 0,
              "ticks": ""
             }
            },
            "type": "scattercarpet"
           }
          ],
          "scattergeo": [
           {
            "marker": {
             "colorbar": {
              "outlinewidth": 0,
              "ticks": ""
             }
            },
            "type": "scattergeo"
           }
          ],
          "scattergl": [
           {
            "marker": {
             "colorbar": {
              "outlinewidth": 0,
              "ticks": ""
             }
            },
            "type": "scattergl"
           }
          ],
          "scattermapbox": [
           {
            "marker": {
             "colorbar": {
              "outlinewidth": 0,
              "ticks": ""
             }
            },
            "type": "scattermapbox"
           }
          ],
          "scatterpolar": [
           {
            "marker": {
             "colorbar": {
              "outlinewidth": 0,
              "ticks": ""
             }
            },
            "type": "scatterpolar"
           }
          ],
          "scatterpolargl": [
           {
            "marker": {
             "colorbar": {
              "outlinewidth": 0,
              "ticks": ""
             }
            },
            "type": "scatterpolargl"
           }
          ],
          "scatterternary": [
           {
            "marker": {
             "colorbar": {
              "outlinewidth": 0,
              "ticks": ""
             }
            },
            "type": "scatterternary"
           }
          ],
          "surface": [
           {
            "colorbar": {
             "outlinewidth": 0,
             "ticks": ""
            },
            "colorscale": [
             [
              0,
              "#0d0887"
             ],
             [
              0.1111111111111111,
              "#46039f"
             ],
             [
              0.2222222222222222,
              "#7201a8"
             ],
             [
              0.3333333333333333,
              "#9c179e"
             ],
             [
              0.4444444444444444,
              "#bd3786"
             ],
             [
              0.5555555555555556,
              "#d8576b"
             ],
             [
              0.6666666666666666,
              "#ed7953"
             ],
             [
              0.7777777777777778,
              "#fb9f3a"
             ],
             [
              0.8888888888888888,
              "#fdca26"
             ],
             [
              1,
              "#f0f921"
             ]
            ],
            "type": "surface"
           }
          ],
          "table": [
           {
            "cells": {
             "fill": {
              "color": "#EBF0F8"
             },
             "line": {
              "color": "white"
             }
            },
            "header": {
             "fill": {
              "color": "#C8D4E3"
             },
             "line": {
              "color": "white"
             }
            },
            "type": "table"
           }
          ]
         },
         "layout": {
          "annotationdefaults": {
           "arrowcolor": "#2a3f5f",
           "arrowhead": 0,
           "arrowwidth": 1
          },
          "autotypenumbers": "strict",
          "coloraxis": {
           "colorbar": {
            "outlinewidth": 0,
            "ticks": ""
           }
          },
          "colorscale": {
           "diverging": [
            [
             0,
             "#8e0152"
            ],
            [
             0.1,
             "#c51b7d"
            ],
            [
             0.2,
             "#de77ae"
            ],
            [
             0.3,
             "#f1b6da"
            ],
            [
             0.4,
             "#fde0ef"
            ],
            [
             0.5,
             "#f7f7f7"
            ],
            [
             0.6,
             "#e6f5d0"
            ],
            [
             0.7,
             "#b8e186"
            ],
            [
             0.8,
             "#7fbc41"
            ],
            [
             0.9,
             "#4d9221"
            ],
            [
             1,
             "#276419"
            ]
           ],
           "sequential": [
            [
             0,
             "#0d0887"
            ],
            [
             0.1111111111111111,
             "#46039f"
            ],
            [
             0.2222222222222222,
             "#7201a8"
            ],
            [
             0.3333333333333333,
             "#9c179e"
            ],
            [
             0.4444444444444444,
             "#bd3786"
            ],
            [
             0.5555555555555556,
             "#d8576b"
            ],
            [
             0.6666666666666666,
             "#ed7953"
            ],
            [
             0.7777777777777778,
             "#fb9f3a"
            ],
            [
             0.8888888888888888,
             "#fdca26"
            ],
            [
             1,
             "#f0f921"
            ]
           ],
           "sequentialminus": [
            [
             0,
             "#0d0887"
            ],
            [
             0.1111111111111111,
             "#46039f"
            ],
            [
             0.2222222222222222,
             "#7201a8"
            ],
            [
             0.3333333333333333,
             "#9c179e"
            ],
            [
             0.4444444444444444,
             "#bd3786"
            ],
            [
             0.5555555555555556,
             "#d8576b"
            ],
            [
             0.6666666666666666,
             "#ed7953"
            ],
            [
             0.7777777777777778,
             "#fb9f3a"
            ],
            [
             0.8888888888888888,
             "#fdca26"
            ],
            [
             1,
             "#f0f921"
            ]
           ]
          },
          "colorway": [
           "#636efa",
           "#EF553B",
           "#00cc96",
           "#ab63fa",
           "#FFA15A",
           "#19d3f3",
           "#FF6692",
           "#B6E880",
           "#FF97FF",
           "#FECB52"
          ],
          "font": {
           "color": "#2a3f5f"
          },
          "geo": {
           "bgcolor": "white",
           "lakecolor": "white",
           "landcolor": "#E5ECF6",
           "showlakes": true,
           "showland": true,
           "subunitcolor": "white"
          },
          "hoverlabel": {
           "align": "left"
          },
          "hovermode": "closest",
          "mapbox": {
           "style": "light"
          },
          "paper_bgcolor": "white",
          "plot_bgcolor": "#E5ECF6",
          "polar": {
           "angularaxis": {
            "gridcolor": "white",
            "linecolor": "white",
            "ticks": ""
           },
           "bgcolor": "#E5ECF6",
           "radialaxis": {
            "gridcolor": "white",
            "linecolor": "white",
            "ticks": ""
           }
          },
          "scene": {
           "xaxis": {
            "backgroundcolor": "#E5ECF6",
            "gridcolor": "white",
            "gridwidth": 2,
            "linecolor": "white",
            "showbackground": true,
            "ticks": "",
            "zerolinecolor": "white"
           },
           "yaxis": {
            "backgroundcolor": "#E5ECF6",
            "gridcolor": "white",
            "gridwidth": 2,
            "linecolor": "white",
            "showbackground": true,
            "ticks": "",
            "zerolinecolor": "white"
           },
           "zaxis": {
            "backgroundcolor": "#E5ECF6",
            "gridcolor": "white",
            "gridwidth": 2,
            "linecolor": "white",
            "showbackground": true,
            "ticks": "",
            "zerolinecolor": "white"
           }
          },
          "shapedefaults": {
           "line": {
            "color": "#2a3f5f"
           }
          },
          "ternary": {
           "aaxis": {
            "gridcolor": "white",
            "linecolor": "white",
            "ticks": ""
           },
           "baxis": {
            "gridcolor": "white",
            "linecolor": "white",
            "ticks": ""
           },
           "bgcolor": "#E5ECF6",
           "caxis": {
            "gridcolor": "white",
            "linecolor": "white",
            "ticks": ""
           }
          },
          "title": {
           "x": 0.05
          },
          "xaxis": {
           "automargin": true,
           "gridcolor": "white",
           "linecolor": "white",
           "ticks": "",
           "title": {
            "standoff": 15
           },
           "zerolinecolor": "white",
           "zerolinewidth": 2
          },
          "yaxis": {
           "automargin": true,
           "gridcolor": "white",
           "linecolor": "white",
           "ticks": "",
           "title": {
            "standoff": 15
           },
           "zerolinecolor": "white",
           "zerolinewidth": 2
          }
         }
        },
        "title": {
         "text": "SUS Score per Countires (200-500 rank)"
        },
        "xaxis": {
         "anchor": "y",
         "domain": [
          0,
          1
         ],
         "title": {
          "text": "Country/Territory"
         }
        },
        "yaxis": {
         "anchor": "x",
         "domain": [
          0,
          1
         ],
         "title": {
          "text": "SUS SCORE"
         }
        }
       }
      },
      "image/png": "[encoded data removed]",
      "text/html": [
       "<div>                            <div id=\"9b0e5166-3cd3-49e8-91e2-59fa72819183\" class=\"plotly-graph-div\" style=\"height:525px; width:100%;\"></div>            <script type=\"text/javascript\">                require([\"plotly\"], function(Plotly) {                    window.PLOTLYENV=window.PLOTLYENV || {};                                    if (document.getElementById(\"9b0e5166-3cd3-49e8-91e2-59fa72819183\")) {                    Plotly.newPlot(                        \"9b0e5166-3cd3-49e8-91e2-59fa72819183\",                        [{\"alignmentgroup\":\"True\",\"hovertemplate\":\"Country\\u002fTerritory=%{x}\\u003cbr\\u003eSUS SCORE=%{y}\\u003cextra\\u003e\\u003c\\u002fextra\\u003e\",\"legendgroup\":\"\",\"marker\":{\"color\":\"#636efa\"},\"name\":\"\",\"notched\":false,\"offsetgroup\":\"\",\"orientation\":\"v\",\"showlegend\":false,\"x\":[\"Sweden\",\"Australia\",\"United Kingdom\",\"United States of America\",\"United States of America\",\"United Kingdom\",\"Germany\",\"Australia\",\"New Zealand\",\"United Kingdom\",\"Germany\",\"United Kingdom\",\"United States of America\",\"Canada\",\"Australia\",\"United States of America\",\"Germany\",\"United States of America\",\"Canada\",\"Germany\",\"South Africa\",\"Canada\",\"Canada\",\"Italy\",\"Denmark\",\"Australia\",\"New Zealand\",\"United Kingdom\",\"United States of America\",\"Canada\",\"United Kingdom\",\"United States of America\",\"Australia\",\"Ireland\",\"New Zealand\",\"Canada\",\"New Zealand\",\"Germany\",\"United States of America\",\"Australia\",\"United States of America\",\"Ireland\",\"United States of America\",\"Australia\",\"Australia\",\"Canada\",\"Australia\",\"Canada\",\"United Kingdom\",\"Belgium\",\"United Kingdom\",\"Norway\",\"Netherlands\",\"United States of America\",\"South Africa\",\"Belgium\",\"Thailand\",\"Canada\",\"Belgium\",\"Ireland\",\"Taiwan\",\"Netherlands\",\"Brazil\",\"Spain\",\"Portugal\",\"Denmark\",\"Italy\",\"Germany\",\"United Kingdom\",\"Germany\",\"United States of America\",\"India\",\"Lebanon\",\"Spain\",\"Portugal\",\"United Kingdom\",\"Sweden\",\"Czechia\",\"Spain\",\"Israel\",\"Czechia\",\"Italy\",\"Colombia\",\"Ireland\",\"Portugal\",\"Germany\",\"Germany\",\"Finland\",\"United States of America\",\"Italy\",\"Republic of Korea\",\"United States of America\",\"South Africa\",\"Austria\",\"India\",\"Germany\",\"Finland\",\"Germany\",\"Spain\",\"Poland\",\"New Zealand\",\"Republic of Korea\",\"Italy\",\"Japan\",\"Australia\",\"Japan\",\"Japan\",\"Australia\",\"Italy\",\"Italy\",\"United States of America\",\"Spain\",\"Germany\",\"United States of America\",\"Finland\",\"T\\u00fcrkiye\",\"Poland\",\"India\",\"Brazil\",\"United States of America\",\"United States of America\",\"Spain\",\"Finland\",\"Italy\",\"Lithuania\",\"Switzerland\",\"Germany\",\"Germany\",\"Oman\",\"Colombia\",\"United States of America\",\"Republic of Korea\",\"United States of America\",\"Japan\",\"Philippines\",\"United Arab Emirates\",\"T\\u00fcrkiye\",\"T\\u00fcrkiye\",\"United States of America\",\"Taiwan\",\"Sweden\",\"Netherlands\",\"United Kingdom\",\"Hong Kong SAR, China\",\"Taiwan\",\"Portugal\",\"United States of America\",\"United States of America\",\"Egypt\",\"Greece\",\"Spain\",\"India\",\"Spain\",\"Spain\",\"United States of America\",\"Indonesia\",\"Australia\",\"United Kingdom\",\"Israel\",\"China (Mainland)\",\"Belgium\",\"Norway\",\"United States of America\",\"United States of America\",\"Portugal\",\"United States of America\",\"Germany\",\"India\",\"Greece\",\"Australia\",\"Estonia\",\"Jordan\",\"Pakistan\",\"France\",\"Indonesia\",\"T\\u00fcrkiye\",\"United Kingdom\",\"United States of America\",\"New Zealand\",\"Italy\",\"France\",\"United States of America\",\"United Kingdom\",\"Malaysia\",\"Republic of Korea\",\"Malaysia\",\"Thailand\",\"South Africa\",\"Austria\",\"Germany\",\"United Kingdom\",\"United States of America\",\"France\",\"United States of America\",\"United Kingdom\",\"Peru\",\"Indonesia\",\"Russian Federation\",\"Taiwan\",\"China (Mainland)\",\"United Arab Emirates\",\"Viet Nam\",\"Colombia\",\"Brazil\",\"Spain\",\"Malaysia\",\"Russian Federation\",\"Italy\",\"Republic of Korea\",\"China (Mainland)\",\"India\",\"Taiwan\",\"China (Mainland)\",\"Spain\",\"Indonesia\",\"France\",\"China (Mainland)\",\"China (Mainland)\",\"China (Mainland)\",\"France\",\"United States of America\",\"China (Mainland)\",\"Saudi Arabia\",\"France\",\"Russian Federation\",\"Republic of Korea\",\"France\",\"United Kingdom\",\"United Arab Emirates\",\"China (Mainland)\",\"Costa Rica\",\"Chile\",\"Czechia\",\"Australia\",\"Germany\",\"Israel\",\"Spain\",\"Cyprus\",\"Brunei Darussalam\",\"Macao SAR, China\",\"Germany\",\"Jordan\",\"Macao SAR, China\",\"Italy\",\"T\\u00fcrkiye\",\"Egypt\",\"Germany\",\"Australia\",\"Netherlands\",\"Germany\",\"France\",\"China (Mainland)\",\"T\\u00fcrkiye\",\"Malaysia\",\"United Arab Emirates\",\"Malaysia\",\"Greece\",\"Finland\",\"Israel\",\"Kazakhstan\",\"China (Mainland)\",\"China (Mainland)\",\"Switzerland\",\"China (Mainland)\",\"China (Mainland)\",\"Russian Federation\",\"France\",\"Uzbekistan\",\"Pakistan\",\"China (Mainland)\",\"Kazakhstan\",\"United Arab Emirates\",\"United Kingdom\",\"Iran (Islamic Republic of)\",\"China (Mainland)\",\"China (Mainland)\",\"China (Mainland)\",\"Russian Federation\",\"Russian Federation\",\"India\",\"China (Mainland)\",\"Republic of Korea\",\"China (Mainland)\",\"Austria\",\"Luxembourg\",\"China (Mainland)\",\"Argentina\",\"France\",\"China (Mainland)\",\"Iran (Islamic Republic of)\",\"Qatar\",\"Poland\",\"Saudi Arabia\",\"China (Mainland)\",\"Iran (Islamic Republic of)\",\"Germany\",\"Russian Federation\",\"Iran (Islamic Republic of)\",\"Italy\",\"Russian Federation\",\"China (Mainland)\",\"Belarus\"],\"x0\":\" \",\"xaxis\":\"x\",\"y\":[92.9,91.7,91.1,91.1,90.3,90.0,88.9,88.5,88.2,87.9,87.9,87.8,87.5,86.8,86.7,86.7,86.4,86.3,86.0,85.6,85.6,85.3,85.2,85.0,85.0,84.8,84.8,84.6,84.5,84.5,84.4,84.3,84.0,83.8,83.7,83.6,83.3,82.9,82.7,82.6,82.5,82.5,82.2,82.2,81.9,81.8,81.6,81.6,81.2,80.6,80.4,80.3,80.2,80.2,80.1,80.0,80.0,79.9,79.7,79.7,79.7,79.6,79.5,79.5,79.3,79.1,78.7,78.7,78.6,78.6,78.5,77.8,77.7,77.3,77.3,77.2,77.1,77.0,77.0,77.0,76.9,76.4,75.9,75.9,75.8,75.4,75.3,75.2,75.0,74.9,74.9,74.9,74.8,74.7,74.7,74.6,74.4,74.2,74.1,74.0,74.0,73.6,73.6,73.4,73.4,73.3,73.2,73.2,72.9,72.8,72.5,72.5,72.5,72.3,72.2,71.8,71.6,71.2,70.9,70.8,70.7,70.7,70.6,70.3,70.3,70.3,69.9,69.9,69.6,69.3,69.1,68.9,68.9,68.9,68.9,68.6,68.5,68.5,68.2,68.2,68.2,67.7,67.6,67.5,67.0,66.9,66.9,66.9,66.6,66.4,66.4,66.3,66.1,66.1,66.0,66.0,65.5,65.5,65.5,65.5,65.2,65.1,65.0,64.9,64.7,64.6,64.5,64.5,64.3,64.2,64.2,64.1,63.3,63.2,63.2,62.4,62.3,62.2,62.0,62.0,61.8,61.8,61.7,61.6,61.3,61.2,61.2,61.0,61.0,61.0,60.4,60.2,60.0,60.0,59.8,59.7,59.2,58.9,58.9,58.8,58.8,58.7,58.6,58.5,58.4,57.8,57.6,57.5,57.5,57.5,57.5,56.8,56.7,56.7,56.6,56.5,56.2,55.8,55.7,55.7,55.6,55.5,55.3,55.3,55.3,55.3,54.5,54.5,54.4,54.1,53.7,53.7,53.6,53.4,53.4,53.2,53.0,52.9,52.4,52.2,52.2,52.1,52.0,51.8,51.7,51.6,51.3,51.0,50.6,50.2,50.2,50.1,50.1,50.0,49.6,49.5,49.3,49.2,48.8,48.7,48.5,48.2,48.2,48.1,47.7,47.6,47.3,46.9,46.9,46.8,46.6,46.2,45.6,45.5,45.3,45.0,44.9,44.6,43.8,43.0,42.9,42.8,42.7,42.6,42.4,41.6,39.4,39.1,39.0,38.7,38.5,38.4,37.4,36.7,35.5,32.9,30.6,27.3,26.1,21.9,null,null],\"y0\":\" \",\"yaxis\":\"y\",\"type\":\"box\"}],                        {\"template\":{\"data\":{\"histogram2dcontour\":[{\"type\":\"histogram2dcontour\",\"colorbar\":{\"outlinewidth\":0,\"ticks\":\"\"},\"colorscale\":[[0.0,\"#0d0887\"],[0.1111111111111111,\"#46039f\"],[0.2222222222222222,\"#7201a8\"],[0.3333333333333333,\"#9c179e\"],[0.4444444444444444,\"#bd3786\"],[0.5555555555555556,\"#d8576b\"],[0.6666666666666666,\"#ed7953\"],[0.7777777777777778,\"#fb9f3a\"],[0.8888888888888888,\"#fdca26\"],[1.0,\"#f0f921\"]]}],\"choropleth\":[{\"type\":\"choropleth\",\"colorbar\":{\"outlinewidth\":0,\"ticks\":\"\"}}],\"histogram2d\":[{\"type\":\"histogram2d\",\"colorbar\":{\"outlinewidth\":0,\"ticks\":\"\"},\"colorscale\":[[0.0,\"#0d0887\"],[0.1111111111111111,\"#46039f\"],[0.2222222222222222,\"#7201a8\"],[0.3333333333333333,\"#9c179e\"],[0.4444444444444444,\"#bd3786\"],[0.5555555555555556,\"#d8576b\"],[0.6666666666666666,\"#ed7953\"],[0.7777777777777778,\"#fb9f3a\"],[0.8888888888888888,\"#fdca26\"],[1.0,\"#f0f921\"]]}],\"heatmap\":[{\"type\":\"heatmap\",\"colorbar\":{\"outlinewidth\":0,\"ticks\":\"\"},\"colorscale\":[[0.0,\"#0d0887\"],[0.1111111111111111,\"#46039f\"],[0.2222222222222222,\"#7201a8\"],[0.3333333333333333,\"#9c179e\"],[0.4444444444444444,\"#bd3786\"],[0.5555555555555556,\"#d8576b\"],[0.6666666666666666,\"#ed7953\"],[0.7777777777777778,\"#fb9f3a\"],[0.8888888888888888,\"#fdca26\"],[1.0,\"#f0f921\"]]}],\"heatmapgl\":[{\"type\":\"heatmapgl\",\"colorbar\":{\"outlinewidth\":0,\"ticks\":\"\"},\"colorscale\":[[0.0,\"#0d0887\"],[0.1111111111111111,\"#46039f\"],[0.2222222222222222,\"#7201a8\"],[0.3333333333333333,\"#9c179e\"],[0.4444444444444444,\"#bd3786\"],[0.5555555555555556,\"#d8576b\"],[0.6666666666666666,\"#ed7953\"],[0.7777777777777778,\"#fb9f3a\"],[0.8888888888888888,\"#fdca26\"],[1.0,\"#f0f921\"]]}],\"contourcarpet\":[{\"type\":\"contourcarpet\",\"colorbar\":{\"outlinewidth\":0,\"ticks\":\"\"}}],\"contour\":[{\"type\":\"contour\",\"colorbar\":{\"outlinewidth\":0,\"ticks\":\"\"},\"colorscale\":[[0.0,\"#0d0887\"],[0.1111111111111111,\"#46039f\"],[0.2222222222222222,\"#7201a8\"],[0.3333333333333333,\"#9c179e\"],[0.4444444444444444,\"#bd3786\"],[0.5555555555555556,\"#d8576b\"],[0.6666666666666666,\"#ed7953\"],[0.7777777777777778,\"#fb9f3a\"],[0.8888888888888888,\"#fdca26\"],[1.0,\"#f0f921\"]]}],\"surface\":[{\"type\":\"surface\",\"colorbar\":{\"outlinewidth\":0,\"ticks\":\"\"},\"colorscale\":[[0.0,\"#0d0887\"],[0.1111111111111111,\"#46039f\"],[0.2222222222222222,\"#7201a8\"],[0.3333333333333333,\"#9c179e\"],[0.4444444444444444,\"#bd3786\"],[0.5555555555555556,\"#d8576b\"],[0.6666666666666666,\"#ed7953\"],[0.7777777777777778,\"#fb9f3a\"],[0.8888888888888888,\"#fdca26\"],[1.0,\"#f0f921\"]]}],\"mesh3d\":[{\"type\":\"mesh3d\",\"colorbar\":{\"outlinewidth\":0,\"ticks\":\"\"}}],\"scatter\":[{\"fillpattern\":{\"fillmode\":\"overlay\",\"size\":10,\"solidity\":0.2},\"type\":\"scatter\"}],\"parcoords\":[{\"type\":\"parcoords\",\"line\":{\"colorbar\":{\"outlinewidth\":0,\"ticks\":\"\"}}}],\"scatterpolargl\":[{\"type\":\"scatterpolargl\",\"marker\":{\"colorbar\":{\"outlinewidth\":0,\"ticks\":\"\"}}}],\"bar\":[{\"error_x\":{\"color\":\"#2a3f5f\"},\"error_y\":{\"color\":\"#2a3f5f\"},\"marker\":{\"line\":{\"color\":\"#E5ECF6\",\"width\":0.5},\"pattern\":{\"fillmode\":\"overlay\",\"size\":10,\"solidity\":0.2}},\"type\":\"bar\"}],\"scattergeo\":[{\"type\":\"scattergeo\",\"marker\":{\"colorbar\":{\"outlinewidth\":0,\"ticks\":\"\"}}}],\"scatterpolar\":[{\"type\":\"scatterpolar\",\"marker\":{\"colorbar\":{\"outlinewidth\":0,\"ticks\":\"\"}}}],\"histogram\":[{\"marker\":{\"pattern\":{\"fillmode\":\"overlay\",\"size\":10,\"solidity\":0.2}},\"type\":\"histogram\"}],\"scattergl\":[{\"type\":\"scattergl\",\"marker\":{\"colorbar\":{\"outlinewidth\":0,\"ticks\":\"\"}}}],\"scatter3d\":[{\"type\":\"scatter3d\",\"line\":{\"colorbar\":{\"outlinewidth\":0,\"ticks\":\"\"}},\"marker\":{\"colorbar\":{\"outlinewidth\":0,\"ticks\":\"\"}}}],\"scattermapbox\":[{\"type\":\"scattermapbox\",\"marker\":{\"colorbar\":{\"outlinewidth\":0,\"ticks\":\"\"}}}],\"scatterternary\":[{\"type\":\"scatterternary\",\"marker\":{\"colorbar\":{\"outlinewidth\":0,\"ticks\":\"\"}}}],\"scattercarpet\":[{\"type\":\"scattercarpet\",\"marker\":{\"colorbar\":{\"outlinewidth\":0,\"ticks\":\"\"}}}],\"carpet\":[{\"aaxis\":{\"endlinecolor\":\"#2a3f5f\",\"gridcolor\":\"white\",\"linecolor\":\"white\",\"minorgridcolor\":\"white\",\"startlinecolor\":\"#2a3f5f\"},\"baxis\":{\"endlinecolor\":\"#2a3f5f\",\"gridcolor\":\"white\",\"linecolor\":\"white\",\"minorgridcolor\":\"white\",\"startlinecolor\":\"#2a3f5f\"},\"type\":\"carpet\"}],\"table\":[{\"cells\":{\"fill\":{\"color\":\"#EBF0F8\"},\"line\":{\"color\":\"white\"}},\"header\":{\"fill\":{\"color\":\"#C8D4E3\"},\"line\":{\"color\":\"white\"}},\"type\":\"table\"}],\"barpolar\":[{\"marker\":{\"line\":{\"color\":\"#E5ECF6\",\"width\":0.5},\"pattern\":{\"fillmode\":\"overlay\",\"size\":10,\"solidity\":0.2}},\"type\":\"barpolar\"}],\"pie\":[{\"automargin\":true,\"type\":\"pie\"}]},\"layout\":{\"autotypenumbers\":\"strict\",\"colorway\":[\"#636efa\",\"#EF553B\",\"#00cc96\",\"#ab63fa\",\"#FFA15A\",\"#19d3f3\",\"#FF6692\",\"#B6E880\",\"#FF97FF\",\"#FECB52\"],\"font\":{\"color\":\"#2a3f5f\"},\"hovermode\":\"closest\",\"hoverlabel\":{\"align\":\"left\"},\"paper_bgcolor\":\"white\",\"plot_bgcolor\":\"#E5ECF6\",\"polar\":{\"bgcolor\":\"#E5ECF6\",\"angularaxis\":{\"gridcolor\":\"white\",\"linecolor\":\"white\",\"ticks\":\"\"},\"radialaxis\":{\"gridcolor\":\"white\",\"linecolor\":\"white\",\"ticks\":\"\"}},\"ternary\":{\"bgcolor\":\"#E5ECF6\",\"aaxis\":{\"gridcolor\":\"white\",\"linecolor\":\"white\",\"ticks\":\"\"},\"baxis\":{\"gridcolor\":\"white\",\"linecolor\":\"white\",\"ticks\":\"\"},\"caxis\":{\"gridcolor\":\"white\",\"linecolor\":\"white\",\"ticks\":\"\"}},\"coloraxis\":{\"colorbar\":{\"outlinewidth\":0,\"ticks\":\"\"}},\"colorscale\":{\"sequential\":[[0.0,\"#0d0887\"],[0.1111111111111111,\"#46039f\"],[0.2222222222222222,\"#7201a8\"],[0.3333333333333333,\"#9c179e\"],[0.4444444444444444,\"#bd3786\"],[0.5555555555555556,\"#d8576b\"],[0.6666666666666666,\"#ed7953\"],[0.7777777777777778,\"#fb9f3a\"],[0.8888888888888888,\"#fdca26\"],[1.0,\"#f0f921\"]],\"sequentialminus\":[[0.0,\"#0d0887\"],[0.1111111111111111,\"#46039f\"],[0.2222222222222222,\"#7201a8\"],[0.3333333333333333,\"#9c179e\"],[0.4444444444444444,\"#bd3786\"],[0.5555555555555556,\"#d8576b\"],[0.6666666666666666,\"#ed7953\"],[0.7777777777777778,\"#fb9f3a\"],[0.8888888888888888,\"#fdca26\"],[1.0,\"#f0f921\"]],\"diverging\":[[0,\"#8e0152\"],[0.1,\"#c51b7d\"],[0.2,\"#de77ae\"],[0.3,\"#f1b6da\"],[0.4,\"#fde0ef\"],[0.5,\"#f7f7f7\"],[0.6,\"#e6f5d0\"],[0.7,\"#b8e186\"],[0.8,\"#7fbc41\"],[0.9,\"#4d9221\"],[1,\"#276419\"]]},\"xaxis\":{\"gridcolor\":\"white\",\"linecolor\":\"white\",\"ticks\":\"\",\"title\":{\"standoff\":15},\"zerolinecolor\":\"white\",\"automargin\":true,\"zerolinewidth\":2},\"yaxis\":{\"gridcolor\":\"white\",\"linecolor\":\"white\",\"ticks\":\"\",\"title\":{\"standoff\":15},\"zerolinecolor\":\"white\",\"automargin\":true,\"zerolinewidth\":2},\"scene\":{\"xaxis\":{\"backgroundcolor\":\"#E5ECF6\",\"gridcolor\":\"white\",\"linecolor\":\"white\",\"showbackground\":true,\"ticks\":\"\",\"zerolinecolor\":\"white\",\"gridwidth\":2},\"yaxis\":{\"backgroundcolor\":\"#E5ECF6\",\"gridcolor\":\"white\",\"linecolor\":\"white\",\"showbackground\":true,\"ticks\":\"\",\"zerolinecolor\":\"white\",\"gridwidth\":2},\"zaxis\":{\"backgroundcolor\":\"#E5ECF6\",\"gridcolor\":\"white\",\"linecolor\":\"white\",\"showbackground\":true,\"ticks\":\"\",\"zerolinecolor\":\"white\",\"gridwidth\":2}},\"shapedefaults\":{\"line\":{\"color\":\"#2a3f5f\"}},\"annotationdefaults\":{\"arrowcolor\":\"#2a3f5f\",\"arrowhead\":0,\"arrowwidth\":1},\"geo\":{\"bgcolor\":\"white\",\"landcolor\":\"#E5ECF6\",\"subunitcolor\":\"white\",\"showland\":true,\"showlakes\":true,\"lakecolor\":\"white\"},\"title\":{\"x\":0.05},\"mapbox\":{\"style\":\"light\"}}},\"xaxis\":{\"anchor\":\"y\",\"domain\":[0.0,1.0],\"title\":{\"text\":\"Country\\u002fTerritory\"}},\"yaxis\":{\"anchor\":\"x\",\"domain\":[0.0,1.0],\"title\":{\"text\":\"SUS SCORE\"}},\"legend\":{\"tracegroupgap\":0},\"title\":{\"text\":\"SUS Score per Countires (200-500 rank)\"},\"boxmode\":\"group\"},                        {\"responsive\": true}                    ).then(function(){\n",
       "                            \n",
       "var gd = document.getElementById('9b0e5166-3cd3-49e8-91e2-59fa72819183');\n",
       "var x = new MutationObserver(function (mutations, observer) {{\n",
       "        var display = window.getComputedStyle(gd).display;\n",
       "        if (!display || display === 'none') {{\n",
       "            console.log([gd, 'removed!']);\n",
       "            Plotly.purge(gd);\n",
       "            observer.disconnect();\n",
       "        }}\n",
       "}});\n",
       "\n",
       "// Listen for the removal of the full notebook cells\n",
       "var notebookContainer = gd.closest('#notebook-container');\n",
       "if (notebookContainer) {{\n",
       "    x.observe(notebookContainer, {childList: true});\n",
       "}}\n",
       "\n",
       "// Listen for the clearing of the current output cell\n",
       "var outputEl = gd.closest('.output');\n",
       "if (outputEl) {{\n",
       "    x.observe(outputEl, {childList: true});\n",
       "}}\n",
       "\n",
       "                        })                };                });            </script>        </div>"
      ]
     },
     "metadata": {},
     "output_type": "display_data"
    }
   ],
   "source": [
    "# boxplot для FSR Score по странам\n",
    "fig_fsr = px.box(df_200_500,\n",
    "    x=\"Country/Territory\",\n",
    "    y=\"SUS SCORE\",\n",
    "    title=\"SUS Score per Countires (200-500 rank)\",\n",
    ")\n",
    "fig_fsr.show()"
   ]
  },
  {
   "cell_type": "code",
   "execution_count": 75,
   "id": "c3c8d4b4-a87c-4d99-a662-aedc971b56f1",
   "metadata": {},
   "outputs": [],
   "source": [
    "df_200_500_fsr = df[(df[\"Rank_num\"] >= 200) & (df[\"Rank_num\"] <= 500)].sort_values(\n",
    "    by= 'FSR SCORE',\n",
    "    ascending=False)"
   ]
  },
  {
   "cell_type": "code",
   "execution_count": 77,
   "id": "6406b00e-a03d-4302-ab99-cb01e751b08b",
   "metadata": {},
   "outputs": [
    {
     "data": {
      "text/html": [
       "<div>\n",
       "<style scoped>\n",
       "    .dataframe tbody tr th:only-of-type {\n",
       "        vertical-align: middle;\n",
       "    }\n",
       "\n",
       "    .dataframe tbody tr th {\n",
       "        vertical-align: top;\n",
       "    }\n",
       "\n",
       "    .dataframe thead th {\n",
       "        text-align: right;\n",
       "    }\n",
       "</style>\n",
       "<table border=\"1\" class=\"dataframe\">\n",
       "  <thead>\n",
       "    <tr style=\"text-align: right;\">\n",
       "      <th></th>\n",
       "      <th>Rank_num</th>\n",
       "      <th>Rank_sym</th>\n",
       "      <th>Previous Rank_num</th>\n",
       "      <th>Previous Rank_sym</th>\n",
       "      <th>Name</th>\n",
       "      <th>Country/Territory</th>\n",
       "      <th>Region</th>\n",
       "      <th>Size</th>\n",
       "      <th>Focus</th>\n",
       "      <th>Research</th>\n",
       "      <th>Status</th>\n",
       "      <th>AR SCORE</th>\n",
       "      <th>ER SCORE</th>\n",
       "      <th>FSR SCORE</th>\n",
       "      <th>CPF SCORE</th>\n",
       "      <th>IFR SCORE</th>\n",
       "      <th>ISR SCORE</th>\n",
       "      <th>ISD SCORE</th>\n",
       "      <th>IRN SCORE</th>\n",
       "      <th>EO SCORE</th>\n",
       "      <th>SUS SCORE</th>\n",
       "      <th>AR RANK_num</th>\n",
       "      <th>AR RANK_sym</th>\n",
       "      <th>ER RANK_num</th>\n",
       "      <th>ER RANK_sym</th>\n",
       "      <th>FSR RANK_num</th>\n",
       "      <th>FSR RANK_sym</th>\n",
       "      <th>CPF RANK_num</th>\n",
       "      <th>CPF RANK_sym</th>\n",
       "      <th>IFR RANK_num</th>\n",
       "      <th>IFR RANK_sym</th>\n",
       "      <th>ISR RANK_num</th>\n",
       "      <th>ISR RANK_sym</th>\n",
       "      <th>ISD RANK_num</th>\n",
       "      <th>ISD RANK_sym</th>\n",
       "      <th>IRN RANK_num</th>\n",
       "      <th>IRN RANK_sym</th>\n",
       "      <th>EO RANK_num</th>\n",
       "      <th>EO RANK_sym</th>\n",
       "      <th>SUS RANK_num</th>\n",
       "      <th>SUS RANK_sym</th>\n",
       "      <th>Overall SCORE</th>\n",
       "    </tr>\n",
       "  </thead>\n",
       "  <tbody>\n",
       "    <tr>\n",
       "      <th>249</th>\n",
       "      <td>250.0</td>\n",
       "      <td>NaN</td>\n",
       "      <td>248.0</td>\n",
       "      <td>NaN</td>\n",
       "      <td>Vanderbilt University</td>\n",
       "      <td>United States of America</td>\n",
       "      <td>Americas</td>\n",
       "      <td>L</td>\n",
       "      <td>FC</td>\n",
       "      <td>VH</td>\n",
       "      <td>Private not for Profit</td>\n",
       "      <td>32.3</td>\n",
       "      <td>41.8</td>\n",
       "      <td>100.0</td>\n",
       "      <td>50.6</td>\n",
       "      <td>48.4</td>\n",
       "      <td>50.9</td>\n",
       "      <td>55.5</td>\n",
       "      <td>77.9</td>\n",
       "      <td>57.5</td>\n",
       "      <td>61.8</td>\n",
       "      <td>382</td>\n",
       "      <td>NaN</td>\n",
       "      <td>323</td>\n",
       "      <td>NaN</td>\n",
       "      <td>10</td>\n",
       "      <td>NaN</td>\n",
       "      <td>372</td>\n",
       "      <td>NaN</td>\n",
       "      <td>446.0</td>\n",
       "      <td>NaN</td>\n",
       "      <td>404.0</td>\n",
       "      <td>NaN</td>\n",
       "      <td>370.0</td>\n",
       "      <td>NaN</td>\n",
       "      <td>383.0</td>\n",
       "      <td>NaN</td>\n",
       "      <td>288</td>\n",
       "      <td>NaN</td>\n",
       "      <td>460.0</td>\n",
       "      <td>=</td>\n",
       "      <td>50.4</td>\n",
       "    </tr>\n",
       "    <tr>\n",
       "      <th>243</th>\n",
       "      <td>244.0</td>\n",
       "      <td>NaN</td>\n",
       "      <td>183.0</td>\n",
       "      <td>NaN</td>\n",
       "      <td>Hamad Bin Khalifa University</td>\n",
       "      <td>Qatar</td>\n",
       "      <td>Asia</td>\n",
       "      <td>S</td>\n",
       "      <td>FO</td>\n",
       "      <td>VH</td>\n",
       "      <td>Public</td>\n",
       "      <td>14.3</td>\n",
       "      <td>6.8</td>\n",
       "      <td>100.0</td>\n",
       "      <td>100.0</td>\n",
       "      <td>100.0</td>\n",
       "      <td>100.0</td>\n",
       "      <td>99.9</td>\n",
       "      <td>75.7</td>\n",
       "      <td>6.8</td>\n",
       "      <td>38.5</td>\n",
       "      <td>701</td>\n",
       "      <td>+</td>\n",
       "      <td>701</td>\n",
       "      <td>+</td>\n",
       "      <td>20</td>\n",
       "      <td>NaN</td>\n",
       "      <td>6</td>\n",
       "      <td>NaN</td>\n",
       "      <td>10.0</td>\n",
       "      <td>NaN</td>\n",
       "      <td>6.0</td>\n",
       "      <td>NaN</td>\n",
       "      <td>29.0</td>\n",
       "      <td>NaN</td>\n",
       "      <td>424.0</td>\n",
       "      <td>NaN</td>\n",
       "      <td>801</td>\n",
       "      <td>+</td>\n",
       "      <td>801.0</td>\n",
       "      <td>+</td>\n",
       "      <td>50.9</td>\n",
       "    </tr>\n",
       "    <tr>\n",
       "      <th>361</th>\n",
       "      <td>362.0</td>\n",
       "      <td>NaN</td>\n",
       "      <td>NaN</td>\n",
       "      <td>NaN</td>\n",
       "      <td>University of Chinese Academy of Sciences (UCAS)</td>\n",
       "      <td>China (Mainland)</td>\n",
       "      <td>Asia</td>\n",
       "      <td>XL</td>\n",
       "      <td>FC</td>\n",
       "      <td>VH</td>\n",
       "      <td>Public</td>\n",
       "      <td>30.9</td>\n",
       "      <td>11.9</td>\n",
       "      <td>100.0</td>\n",
       "      <td>75.1</td>\n",
       "      <td>NaN</td>\n",
       "      <td>3.9</td>\n",
       "      <td>3.1</td>\n",
       "      <td>93.7</td>\n",
       "      <td>15.6</td>\n",
       "      <td>NaN</td>\n",
       "      <td>396</td>\n",
       "      <td>NaN</td>\n",
       "      <td>701</td>\n",
       "      <td>+</td>\n",
       "      <td>11</td>\n",
       "      <td>NaN</td>\n",
       "      <td>179</td>\n",
       "      <td>NaN</td>\n",
       "      <td>NaN</td>\n",
       "      <td>NaN</td>\n",
       "      <td>801.0</td>\n",
       "      <td>+</td>\n",
       "      <td>801.0</td>\n",
       "      <td>+</td>\n",
       "      <td>108.0</td>\n",
       "      <td>NaN</td>\n",
       "      <td>801</td>\n",
       "      <td>+</td>\n",
       "      <td>NaN</td>\n",
       "      <td>NaN</td>\n",
       "      <td>40.9</td>\n",
       "    </tr>\n",
       "    <tr>\n",
       "      <th>319</th>\n",
       "      <td>320.0</td>\n",
       "      <td>NaN</td>\n",
       "      <td>298.0</td>\n",
       "      <td>NaN</td>\n",
       "      <td>Bauman Moscow State Technical University</td>\n",
       "      <td>Russian Federation</td>\n",
       "      <td>Europe</td>\n",
       "      <td>L</td>\n",
       "      <td>CO</td>\n",
       "      <td>VH</td>\n",
       "      <td>Public</td>\n",
       "      <td>41.1</td>\n",
       "      <td>63.8</td>\n",
       "      <td>99.9</td>\n",
       "      <td>2.0</td>\n",
       "      <td>81.0</td>\n",
       "      <td>85.8</td>\n",
       "      <td>87.1</td>\n",
       "      <td>14.2</td>\n",
       "      <td>10.1</td>\n",
       "      <td>47.6</td>\n",
       "      <td>289</td>\n",
       "      <td>NaN</td>\n",
       "      <td>168</td>\n",
       "      <td>NaN</td>\n",
       "      <td>25</td>\n",
       "      <td>NaN</td>\n",
       "      <td>801</td>\n",
       "      <td>+</td>\n",
       "      <td>287.0</td>\n",
       "      <td>NaN</td>\n",
       "      <td>190.0</td>\n",
       "      <td>NaN</td>\n",
       "      <td>160.0</td>\n",
       "      <td>NaN</td>\n",
       "      <td>801.0</td>\n",
       "      <td>+</td>\n",
       "      <td>801</td>\n",
       "      <td>+</td>\n",
       "      <td>770.0</td>\n",
       "      <td>=</td>\n",
       "      <td>43.5</td>\n",
       "    </tr>\n",
       "    <tr>\n",
       "      <th>500</th>\n",
       "      <td>499.0</td>\n",
       "      <td>NaN</td>\n",
       "      <td>431.0</td>\n",
       "      <td>NaN</td>\n",
       "      <td>Tomsk State University</td>\n",
       "      <td>Russian Federation</td>\n",
       "      <td>Europe</td>\n",
       "      <td>M</td>\n",
       "      <td>CO</td>\n",
       "      <td>VH</td>\n",
       "      <td>Public</td>\n",
       "      <td>25.3</td>\n",
       "      <td>20.0</td>\n",
       "      <td>99.3</td>\n",
       "      <td>7.0</td>\n",
       "      <td>28.0</td>\n",
       "      <td>94.7</td>\n",
       "      <td>93.2</td>\n",
       "      <td>66.4</td>\n",
       "      <td>7.1</td>\n",
       "      <td>30.6</td>\n",
       "      <td>502</td>\n",
       "      <td>NaN</td>\n",
       "      <td>656</td>\n",
       "      <td>NaN</td>\n",
       "      <td>39</td>\n",
       "      <td>NaN</td>\n",
       "      <td>801</td>\n",
       "      <td>+</td>\n",
       "      <td>609.0</td>\n",
       "      <td>NaN</td>\n",
       "      <td>131.0</td>\n",
       "      <td>NaN</td>\n",
       "      <td>125.0</td>\n",
       "      <td>NaN</td>\n",
       "      <td>599.0</td>\n",
       "      <td>NaN</td>\n",
       "      <td>801</td>\n",
       "      <td>+</td>\n",
       "      <td>801.0</td>\n",
       "      <td>+</td>\n",
       "      <td>32.2</td>\n",
       "    </tr>\n",
       "    <tr>\n",
       "      <th>426</th>\n",
       "      <td>427.0</td>\n",
       "      <td>NaN</td>\n",
       "      <td>413.0</td>\n",
       "      <td>NaN</td>\n",
       "      <td>Graz University of Technology</td>\n",
       "      <td>Austria</td>\n",
       "      <td>Europe</td>\n",
       "      <td>M</td>\n",
       "      <td>FO</td>\n",
       "      <td>VH</td>\n",
       "      <td>Public</td>\n",
       "      <td>21.9</td>\n",
       "      <td>22.1</td>\n",
       "      <td>99.2</td>\n",
       "      <td>18.8</td>\n",
       "      <td>86.6</td>\n",
       "      <td>71.3</td>\n",
       "      <td>53.1</td>\n",
       "      <td>52.3</td>\n",
       "      <td>15.2</td>\n",
       "      <td>42.6</td>\n",
       "      <td>568</td>\n",
       "      <td>NaN</td>\n",
       "      <td>601</td>\n",
       "      <td>NaN</td>\n",
       "      <td>43</td>\n",
       "      <td>NaN</td>\n",
       "      <td>735</td>\n",
       "      <td>NaN</td>\n",
       "      <td>248.0</td>\n",
       "      <td>NaN</td>\n",
       "      <td>267.0</td>\n",
       "      <td>NaN</td>\n",
       "      <td>388.0</td>\n",
       "      <td>NaN</td>\n",
       "      <td>801.0</td>\n",
       "      <td>+</td>\n",
       "      <td>801</td>\n",
       "      <td>+</td>\n",
       "      <td>801.0</td>\n",
       "      <td>+</td>\n",
       "      <td>36.0</td>\n",
       "    </tr>\n",
       "    <tr>\n",
       "      <th>204</th>\n",
       "      <td>205.0</td>\n",
       "      <td>NaN</td>\n",
       "      <td>187.0</td>\n",
       "      <td>NaN</td>\n",
       "      <td>Ecole Normale Supérieure de Lyon</td>\n",
       "      <td>France</td>\n",
       "      <td>Europe</td>\n",
       "      <td>S</td>\n",
       "      <td>CO</td>\n",
       "      <td>VH</td>\n",
       "      <td>Public</td>\n",
       "      <td>41.7</td>\n",
       "      <td>25.7</td>\n",
       "      <td>98.8</td>\n",
       "      <td>89.2</td>\n",
       "      <td>61.5</td>\n",
       "      <td>23.9</td>\n",
       "      <td>26.7</td>\n",
       "      <td>73.1</td>\n",
       "      <td>17.9</td>\n",
       "      <td>50.2</td>\n",
       "      <td>286</td>\n",
       "      <td>NaN</td>\n",
       "      <td>528</td>\n",
       "      <td>NaN</td>\n",
       "      <td>46</td>\n",
       "      <td>NaN</td>\n",
       "      <td>106</td>\n",
       "      <td>NaN</td>\n",
       "      <td>380.0</td>\n",
       "      <td>NaN</td>\n",
       "      <td>677.0</td>\n",
       "      <td>NaN</td>\n",
       "      <td>662.0</td>\n",
       "      <td>NaN</td>\n",
       "      <td>485.0</td>\n",
       "      <td>NaN</td>\n",
       "      <td>760</td>\n",
       "      <td>NaN</td>\n",
       "      <td>699.0</td>\n",
       "      <td>=</td>\n",
       "      <td>55.1</td>\n",
       "    </tr>\n",
       "    <tr>\n",
       "      <th>235</th>\n",
       "      <td>236.0</td>\n",
       "      <td>NaN</td>\n",
       "      <td>236.0</td>\n",
       "      <td>NaN</td>\n",
       "      <td>University of Rochester</td>\n",
       "      <td>United States of America</td>\n",
       "      <td>Americas</td>\n",
       "      <td>M</td>\n",
       "      <td>FC</td>\n",
       "      <td>VH</td>\n",
       "      <td>Private not for Profit</td>\n",
       "      <td>27.1</td>\n",
       "      <td>32.4</td>\n",
       "      <td>98.2</td>\n",
       "      <td>56.6</td>\n",
       "      <td>80.5</td>\n",
       "      <td>96.2</td>\n",
       "      <td>96.5</td>\n",
       "      <td>63.7</td>\n",
       "      <td>51.2</td>\n",
       "      <td>72.3</td>\n",
       "      <td>463</td>\n",
       "      <td>NaN</td>\n",
       "      <td>443</td>\n",
       "      <td>NaN</td>\n",
       "      <td>51</td>\n",
       "      <td>NaN</td>\n",
       "      <td>314</td>\n",
       "      <td>NaN</td>\n",
       "      <td>294.0</td>\n",
       "      <td>NaN</td>\n",
       "      <td>109.0</td>\n",
       "      <td>NaN</td>\n",
       "      <td>94.0</td>\n",
       "      <td>NaN</td>\n",
       "      <td>641.0</td>\n",
       "      <td>NaN</td>\n",
       "      <td>333</td>\n",
       "      <td>NaN</td>\n",
       "      <td>286.0</td>\n",
       "      <td>=</td>\n",
       "      <td>51.9</td>\n",
       "    </tr>\n",
       "    <tr>\n",
       "      <th>280</th>\n",
       "      <td>281.0</td>\n",
       "      <td>NaN</td>\n",
       "      <td>275.0</td>\n",
       "      <td>NaN</td>\n",
       "      <td>University of Pittsburgh</td>\n",
       "      <td>United States of America</td>\n",
       "      <td>Americas</td>\n",
       "      <td>L</td>\n",
       "      <td>FC</td>\n",
       "      <td>VH</td>\n",
       "      <td>Public</td>\n",
       "      <td>45.4</td>\n",
       "      <td>26.4</td>\n",
       "      <td>98.1</td>\n",
       "      <td>41.7</td>\n",
       "      <td>9.9</td>\n",
       "      <td>23.0</td>\n",
       "      <td>29.1</td>\n",
       "      <td>90.4</td>\n",
       "      <td>59.7</td>\n",
       "      <td>60.2</td>\n",
       "      <td>258</td>\n",
       "      <td>NaN</td>\n",
       "      <td>516</td>\n",
       "      <td>NaN</td>\n",
       "      <td>57</td>\n",
       "      <td>NaN</td>\n",
       "      <td>453</td>\n",
       "      <td>NaN</td>\n",
       "      <td>801.0</td>\n",
       "      <td>+</td>\n",
       "      <td>688.0</td>\n",
       "      <td>NaN</td>\n",
       "      <td>625.0</td>\n",
       "      <td>NaN</td>\n",
       "      <td>171.0</td>\n",
       "      <td>NaN</td>\n",
       "      <td>272</td>\n",
       "      <td>NaN</td>\n",
       "      <td>501.0</td>\n",
       "      <td>NaN</td>\n",
       "      <td>47.3</td>\n",
       "    </tr>\n",
       "    <tr>\n",
       "      <th>449</th>\n",
       "      <td>450.0</td>\n",
       "      <td>NaN</td>\n",
       "      <td>401.0</td>\n",
       "      <td>NaN</td>\n",
       "      <td>Kazan Federal University</td>\n",
       "      <td>Russian Federation</td>\n",
       "      <td>Europe</td>\n",
       "      <td>L</td>\n",
       "      <td>FC</td>\n",
       "      <td>VH</td>\n",
       "      <td>Public</td>\n",
       "      <td>27.2</td>\n",
       "      <td>19.5</td>\n",
       "      <td>98.1</td>\n",
       "      <td>3.8</td>\n",
       "      <td>14.0</td>\n",
       "      <td>97.7</td>\n",
       "      <td>97.8</td>\n",
       "      <td>86.7</td>\n",
       "      <td>19.6</td>\n",
       "      <td>55.3</td>\n",
       "      <td>460</td>\n",
       "      <td>NaN</td>\n",
       "      <td>669</td>\n",
       "      <td>NaN</td>\n",
       "      <td>54</td>\n",
       "      <td>NaN</td>\n",
       "      <td>801</td>\n",
       "      <td>+</td>\n",
       "      <td>801.0</td>\n",
       "      <td>+</td>\n",
       "      <td>94.0</td>\n",
       "      <td>NaN</td>\n",
       "      <td>83.0</td>\n",
       "      <td>NaN</td>\n",
       "      <td>225.0</td>\n",
       "      <td>NaN</td>\n",
       "      <td>732</td>\n",
       "      <td>NaN</td>\n",
       "      <td>596.0</td>\n",
       "      <td>=</td>\n",
       "      <td>34.3</td>\n",
       "    </tr>\n",
       "    <tr>\n",
       "      <th>476</th>\n",
       "      <td>477.0</td>\n",
       "      <td>NaN</td>\n",
       "      <td>456.0</td>\n",
       "      <td>NaN</td>\n",
       "      <td>Moscow Institute of Physics and Technology Sta...</td>\n",
       "      <td>Russian Federation</td>\n",
       "      <td>Europe</td>\n",
       "      <td>M</td>\n",
       "      <td>FO</td>\n",
       "      <td>VH</td>\n",
       "      <td>Public</td>\n",
       "      <td>20.3</td>\n",
       "      <td>34.1</td>\n",
       "      <td>95.3</td>\n",
       "      <td>18.1</td>\n",
       "      <td>38.6</td>\n",
       "      <td>54.8</td>\n",
       "      <td>55.6</td>\n",
       "      <td>47.1</td>\n",
       "      <td>38.0</td>\n",
       "      <td>21.9</td>\n",
       "      <td>606</td>\n",
       "      <td>NaN</td>\n",
       "      <td>421</td>\n",
       "      <td>NaN</td>\n",
       "      <td>71</td>\n",
       "      <td>NaN</td>\n",
       "      <td>748</td>\n",
       "      <td>NaN</td>\n",
       "      <td>512.0</td>\n",
       "      <td>NaN</td>\n",
       "      <td>380.0</td>\n",
       "      <td>NaN</td>\n",
       "      <td>368.0</td>\n",
       "      <td>NaN</td>\n",
       "      <td>801.0</td>\n",
       "      <td>+</td>\n",
       "      <td>458</td>\n",
       "      <td>NaN</td>\n",
       "      <td>801.0</td>\n",
       "      <td>+</td>\n",
       "      <td>33.4</td>\n",
       "    </tr>\n",
       "    <tr>\n",
       "      <th>491</th>\n",
       "      <td>491.0</td>\n",
       "      <td>NaN</td>\n",
       "      <td>513.0</td>\n",
       "      <td>NaN</td>\n",
       "      <td>Imam Abdulrahman Bin Faisal University (former...</td>\n",
       "      <td>Saudi Arabia</td>\n",
       "      <td>Asia</td>\n",
       "      <td>L</td>\n",
       "      <td>FC</td>\n",
       "      <td>HI</td>\n",
       "      <td>Public</td>\n",
       "      <td>16.9</td>\n",
       "      <td>31.4</td>\n",
       "      <td>94.9</td>\n",
       "      <td>5.6</td>\n",
       "      <td>99.2</td>\n",
       "      <td>34.8</td>\n",
       "      <td>35.4</td>\n",
       "      <td>73.9</td>\n",
       "      <td>2.9</td>\n",
       "      <td>55.3</td>\n",
       "      <td>701</td>\n",
       "      <td>+</td>\n",
       "      <td>456</td>\n",
       "      <td>NaN</td>\n",
       "      <td>74</td>\n",
       "      <td>NaN</td>\n",
       "      <td>801</td>\n",
       "      <td>+</td>\n",
       "      <td>125.0</td>\n",
       "      <td>NaN</td>\n",
       "      <td>544.0</td>\n",
       "      <td>NaN</td>\n",
       "      <td>544.0</td>\n",
       "      <td>NaN</td>\n",
       "      <td>471.0</td>\n",
       "      <td>NaN</td>\n",
       "      <td>801</td>\n",
       "      <td>+</td>\n",
       "      <td>596.0</td>\n",
       "      <td>=</td>\n",
       "      <td>32.6</td>\n",
       "    </tr>\n",
       "    <tr>\n",
       "      <th>316</th>\n",
       "      <td>317.0</td>\n",
       "      <td>NaN</td>\n",
       "      <td>321.0</td>\n",
       "      <td>NaN</td>\n",
       "      <td>L.N. Gumilyov Eurasian National University</td>\n",
       "      <td>Kazakhstan</td>\n",
       "      <td>Asia</td>\n",
       "      <td>L</td>\n",
       "      <td>FO</td>\n",
       "      <td>VH</td>\n",
       "      <td>Public</td>\n",
       "      <td>40.1</td>\n",
       "      <td>85.8</td>\n",
       "      <td>94.7</td>\n",
       "      <td>2.0</td>\n",
       "      <td>84.6</td>\n",
       "      <td>25.8</td>\n",
       "      <td>27.2</td>\n",
       "      <td>31.4</td>\n",
       "      <td>7.5</td>\n",
       "      <td>46.6</td>\n",
       "      <td>300</td>\n",
       "      <td>NaN</td>\n",
       "      <td>86</td>\n",
       "      <td>NaN</td>\n",
       "      <td>78</td>\n",
       "      <td>NaN</td>\n",
       "      <td>801</td>\n",
       "      <td>+</td>\n",
       "      <td>262.0</td>\n",
       "      <td>NaN</td>\n",
       "      <td>649.0</td>\n",
       "      <td>NaN</td>\n",
       "      <td>650.0</td>\n",
       "      <td>NaN</td>\n",
       "      <td>801.0</td>\n",
       "      <td>+</td>\n",
       "      <td>801</td>\n",
       "      <td>+</td>\n",
       "      <td>801.0</td>\n",
       "      <td>+</td>\n",
       "      <td>43.9</td>\n",
       "    </tr>\n",
       "    <tr>\n",
       "      <th>363</th>\n",
       "      <td>362.0</td>\n",
       "      <td>NaN</td>\n",
       "      <td>358.0</td>\n",
       "      <td>NaN</td>\n",
       "      <td>University of Tartu</td>\n",
       "      <td>Estonia</td>\n",
       "      <td>Europe</td>\n",
       "      <td>M</td>\n",
       "      <td>FC</td>\n",
       "      <td>VH</td>\n",
       "      <td>Public</td>\n",
       "      <td>28.6</td>\n",
       "      <td>23.7</td>\n",
       "      <td>94.6</td>\n",
       "      <td>19.1</td>\n",
       "      <td>62.1</td>\n",
       "      <td>20.8</td>\n",
       "      <td>26.9</td>\n",
       "      <td>89.0</td>\n",
       "      <td>89.2</td>\n",
       "      <td>64.2</td>\n",
       "      <td>437</td>\n",
       "      <td>NaN</td>\n",
       "      <td>567</td>\n",
       "      <td>NaN</td>\n",
       "      <td>79</td>\n",
       "      <td>NaN</td>\n",
       "      <td>728</td>\n",
       "      <td>NaN</td>\n",
       "      <td>374.0</td>\n",
       "      <td>NaN</td>\n",
       "      <td>712.0</td>\n",
       "      <td>NaN</td>\n",
       "      <td>654.0</td>\n",
       "      <td>NaN</td>\n",
       "      <td>186.0</td>\n",
       "      <td>NaN</td>\n",
       "      <td>112</td>\n",
       "      <td>NaN</td>\n",
       "      <td>417.0</td>\n",
       "      <td>=</td>\n",
       "      <td>40.9</td>\n",
       "    </tr>\n",
       "    <tr>\n",
       "      <th>331</th>\n",
       "      <td>331.0</td>\n",
       "      <td>NaN</td>\n",
       "      <td>405.0</td>\n",
       "      <td>NaN</td>\n",
       "      <td>Satbayev University (previously Kazakh Technic...</td>\n",
       "      <td>Kazakhstan</td>\n",
       "      <td>Asia</td>\n",
       "      <td>M</td>\n",
       "      <td>FO</td>\n",
       "      <td>VH</td>\n",
       "      <td>Public</td>\n",
       "      <td>40.6</td>\n",
       "      <td>58.8</td>\n",
       "      <td>94.2</td>\n",
       "      <td>1.7</td>\n",
       "      <td>89.2</td>\n",
       "      <td>53.7</td>\n",
       "      <td>48.5</td>\n",
       "      <td>25.7</td>\n",
       "      <td>33.0</td>\n",
       "      <td>48.7</td>\n",
       "      <td>295</td>\n",
       "      <td>NaN</td>\n",
       "      <td>196</td>\n",
       "      <td>NaN</td>\n",
       "      <td>81</td>\n",
       "      <td>NaN</td>\n",
       "      <td>801</td>\n",
       "      <td>+</td>\n",
       "      <td>229.0</td>\n",
       "      <td>NaN</td>\n",
       "      <td>383.0</td>\n",
       "      <td>NaN</td>\n",
       "      <td>427.0</td>\n",
       "      <td>NaN</td>\n",
       "      <td>801.0</td>\n",
       "      <td>+</td>\n",
       "      <td>515</td>\n",
       "      <td>NaN</td>\n",
       "      <td>737.0</td>\n",
       "      <td>=</td>\n",
       "      <td>42.5</td>\n",
       "    </tr>\n",
       "    <tr>\n",
       "      <th>368</th>\n",
       "      <td>367.0</td>\n",
       "      <td>NaN</td>\n",
       "      <td>385.0</td>\n",
       "      <td>NaN</td>\n",
       "      <td>Universiti Brunei Darussalam (UBD)</td>\n",
       "      <td>Brunei Darussalam</td>\n",
       "      <td>Asia</td>\n",
       "      <td>S</td>\n",
       "      <td>CO</td>\n",
       "      <td>VH</td>\n",
       "      <td>Public</td>\n",
       "      <td>29.9</td>\n",
       "      <td>20.5</td>\n",
       "      <td>94.2</td>\n",
       "      <td>22.5</td>\n",
       "      <td>100.0</td>\n",
       "      <td>43.5</td>\n",
       "      <td>42.1</td>\n",
       "      <td>53.0</td>\n",
       "      <td>58.2</td>\n",
       "      <td>52.4</td>\n",
       "      <td>406</td>\n",
       "      <td>NaN</td>\n",
       "      <td>643</td>\n",
       "      <td>NaN</td>\n",
       "      <td>82</td>\n",
       "      <td>NaN</td>\n",
       "      <td>679</td>\n",
       "      <td>NaN</td>\n",
       "      <td>70.0</td>\n",
       "      <td>NaN</td>\n",
       "      <td>463.0</td>\n",
       "      <td>NaN</td>\n",
       "      <td>492.0</td>\n",
       "      <td>NaN</td>\n",
       "      <td>796.0</td>\n",
       "      <td>NaN</td>\n",
       "      <td>283</td>\n",
       "      <td>NaN</td>\n",
       "      <td>655.0</td>\n",
       "      <td>NaN</td>\n",
       "      <td>40.5</td>\n",
       "    </tr>\n",
       "    <tr>\n",
       "      <th>366</th>\n",
       "      <td>367.0</td>\n",
       "      <td>NaN</td>\n",
       "      <td>316.0</td>\n",
       "      <td>NaN</td>\n",
       "      <td>RUDN University</td>\n",
       "      <td>Russian Federation</td>\n",
       "      <td>Europe</td>\n",
       "      <td>XL</td>\n",
       "      <td>FC</td>\n",
       "      <td>VH</td>\n",
       "      <td>Public</td>\n",
       "      <td>28.4</td>\n",
       "      <td>61.2</td>\n",
       "      <td>94.0</td>\n",
       "      <td>3.9</td>\n",
       "      <td>10.9</td>\n",
       "      <td>95.3</td>\n",
       "      <td>95.6</td>\n",
       "      <td>88.3</td>\n",
       "      <td>14.3</td>\n",
       "      <td>58.9</td>\n",
       "      <td>443</td>\n",
       "      <td>NaN</td>\n",
       "      <td>189</td>\n",
       "      <td>NaN</td>\n",
       "      <td>84</td>\n",
       "      <td>NaN</td>\n",
       "      <td>801</td>\n",
       "      <td>+</td>\n",
       "      <td>801.0</td>\n",
       "      <td>+</td>\n",
       "      <td>123.0</td>\n",
       "      <td>NaN</td>\n",
       "      <td>105.0</td>\n",
       "      <td>NaN</td>\n",
       "      <td>199.0</td>\n",
       "      <td>NaN</td>\n",
       "      <td>801</td>\n",
       "      <td>+</td>\n",
       "      <td>521.0</td>\n",
       "      <td>=</td>\n",
       "      <td>40.5</td>\n",
       "    </tr>\n",
       "    <tr>\n",
       "      <th>461</th>\n",
       "      <td>461.0</td>\n",
       "      <td>NaN</td>\n",
       "      <td>442.0</td>\n",
       "      <td>NaN</td>\n",
       "      <td>Novosibirsk State University</td>\n",
       "      <td>Russian Federation</td>\n",
       "      <td>Europe</td>\n",
       "      <td>M</td>\n",
       "      <td>FO</td>\n",
       "      <td>VH</td>\n",
       "      <td>Public</td>\n",
       "      <td>28.8</td>\n",
       "      <td>31.1</td>\n",
       "      <td>93.6</td>\n",
       "      <td>13.0</td>\n",
       "      <td>9.1</td>\n",
       "      <td>70.6</td>\n",
       "      <td>69.5</td>\n",
       "      <td>55.7</td>\n",
       "      <td>13.3</td>\n",
       "      <td>43.8</td>\n",
       "      <td>432</td>\n",
       "      <td>NaN</td>\n",
       "      <td>460</td>\n",
       "      <td>NaN</td>\n",
       "      <td>87</td>\n",
       "      <td>NaN</td>\n",
       "      <td>801</td>\n",
       "      <td>+</td>\n",
       "      <td>801.0</td>\n",
       "      <td>+</td>\n",
       "      <td>272.0</td>\n",
       "      <td>NaN</td>\n",
       "      <td>274.0</td>\n",
       "      <td>NaN</td>\n",
       "      <td>758.0</td>\n",
       "      <td>NaN</td>\n",
       "      <td>801</td>\n",
       "      <td>+</td>\n",
       "      <td>801.0</td>\n",
       "      <td>+</td>\n",
       "      <td>33.9</td>\n",
       "    </tr>\n",
       "    <tr>\n",
       "      <th>311</th>\n",
       "      <td>310.0</td>\n",
       "      <td>NaN</td>\n",
       "      <td>280.0</td>\n",
       "      <td>NaN</td>\n",
       "      <td>Ulsan National Institute of Science and Techno...</td>\n",
       "      <td>Republic of Korea</td>\n",
       "      <td>Asia</td>\n",
       "      <td>S</td>\n",
       "      <td>FO</td>\n",
       "      <td>VH</td>\n",
       "      <td>Public</td>\n",
       "      <td>21.8</td>\n",
       "      <td>16.3</td>\n",
       "      <td>92.5</td>\n",
       "      <td>99.5</td>\n",
       "      <td>37.4</td>\n",
       "      <td>15.5</td>\n",
       "      <td>18.9</td>\n",
       "      <td>26.7</td>\n",
       "      <td>3.9</td>\n",
       "      <td>57.5</td>\n",
       "      <td>571</td>\n",
       "      <td>NaN</td>\n",
       "      <td>701</td>\n",
       "      <td>+</td>\n",
       "      <td>92</td>\n",
       "      <td>NaN</td>\n",
       "      <td>29</td>\n",
       "      <td>NaN</td>\n",
       "      <td>520.0</td>\n",
       "      <td>NaN</td>\n",
       "      <td>801.0</td>\n",
       "      <td>+</td>\n",
       "      <td>782.0</td>\n",
       "      <td>NaN</td>\n",
       "      <td>801.0</td>\n",
       "      <td>+</td>\n",
       "      <td>801</td>\n",
       "      <td>+</td>\n",
       "      <td>550.0</td>\n",
       "      <td>=</td>\n",
       "      <td>44.5</td>\n",
       "    </tr>\n",
       "    <tr>\n",
       "      <th>442</th>\n",
       "      <td>440.0</td>\n",
       "      <td>NaN</td>\n",
       "      <td>410.0</td>\n",
       "      <td>NaN</td>\n",
       "      <td>National Research University Higher School of ...</td>\n",
       "      <td>Russian Federation</td>\n",
       "      <td>Europe</td>\n",
       "      <td>XL</td>\n",
       "      <td>CO</td>\n",
       "      <td>VH</td>\n",
       "      <td>Public</td>\n",
       "      <td>28.1</td>\n",
       "      <td>52.9</td>\n",
       "      <td>92.0</td>\n",
       "      <td>2.7</td>\n",
       "      <td>10.2</td>\n",
       "      <td>24.0</td>\n",
       "      <td>30.1</td>\n",
       "      <td>84.7</td>\n",
       "      <td>19.4</td>\n",
       "      <td>57.6</td>\n",
       "      <td>449</td>\n",
       "      <td>NaN</td>\n",
       "      <td>231</td>\n",
       "      <td>NaN</td>\n",
       "      <td>96</td>\n",
       "      <td>NaN</td>\n",
       "      <td>801</td>\n",
       "      <td>+</td>\n",
       "      <td>801.0</td>\n",
       "      <td>+</td>\n",
       "      <td>675.0</td>\n",
       "      <td>NaN</td>\n",
       "      <td>614.0</td>\n",
       "      <td>NaN</td>\n",
       "      <td>261.0</td>\n",
       "      <td>NaN</td>\n",
       "      <td>737</td>\n",
       "      <td>NaN</td>\n",
       "      <td>549.0</td>\n",
       "      <td>NaN</td>\n",
       "      <td>34.9</td>\n",
       "    </tr>\n",
       "  </tbody>\n",
       "</table>\n",
       "</div>"
      ],
      "text/plain": [
       "     Rank_num Rank_sym  Previous Rank_num Previous Rank_sym                                               Name         Country/Territory    Region Size Focus Research                  Status  \\\n",
       "249     250.0      NaN              248.0               NaN                              Vanderbilt University  United States of America  Americas    L    FC       VH  Private not for Profit   \n",
       "243     244.0      NaN              183.0               NaN                       Hamad Bin Khalifa University                     Qatar      Asia    S    FO       VH                  Public   \n",
       "361     362.0      NaN                NaN               NaN   University of Chinese Academy of Sciences (UCAS)          China (Mainland)      Asia   XL    FC       VH                  Public   \n",
       "319     320.0      NaN              298.0               NaN           Bauman Moscow State Technical University        Russian Federation    Europe    L    CO       VH                  Public   \n",
       "500     499.0      NaN              431.0               NaN                             Tomsk State University        Russian Federation    Europe    M    CO       VH                  Public   \n",
       "426     427.0      NaN              413.0               NaN                      Graz University of Technology                   Austria    Europe    M    FO       VH                  Public   \n",
       "204     205.0      NaN              187.0               NaN                   Ecole Normale Supérieure de Lyon                    France    Europe    S    CO       VH                  Public   \n",
       "235     236.0      NaN              236.0               NaN                            University of Rochester  United States of America  Americas    M    FC       VH  Private not for Profit   \n",
       "280     281.0      NaN              275.0               NaN                           University of Pittsburgh  United States of America  Americas    L    FC       VH                  Public   \n",
       "449     450.0      NaN              401.0               NaN                           Kazan Federal University        Russian Federation    Europe    L    FC       VH                  Public   \n",
       "476     477.0      NaN              456.0               NaN  Moscow Institute of Physics and Technology Sta...        Russian Federation    Europe    M    FO       VH                  Public   \n",
       "491     491.0      NaN              513.0               NaN  Imam Abdulrahman Bin Faisal University (former...              Saudi Arabia      Asia    L    FC       HI                  Public   \n",
       "316     317.0      NaN              321.0               NaN         L.N. Gumilyov Eurasian National University                Kazakhstan      Asia    L    FO       VH                  Public   \n",
       "363     362.0      NaN              358.0               NaN                                University of Tartu                   Estonia    Europe    M    FC       VH                  Public   \n",
       "331     331.0      NaN              405.0               NaN  Satbayev University (previously Kazakh Technic...                Kazakhstan      Asia    M    FO       VH                  Public   \n",
       "368     367.0      NaN              385.0               NaN                 Universiti Brunei Darussalam (UBD)         Brunei Darussalam      Asia    S    CO       VH                  Public   \n",
       "366     367.0      NaN              316.0               NaN                                    RUDN University        Russian Federation    Europe   XL    FC       VH                  Public   \n",
       "461     461.0      NaN              442.0               NaN                       Novosibirsk State University        Russian Federation    Europe    M    FO       VH                  Public   \n",
       "311     310.0      NaN              280.0               NaN  Ulsan National Institute of Science and Techno...         Republic of Korea      Asia    S    FO       VH                  Public   \n",
       "442     440.0      NaN              410.0               NaN  National Research University Higher School of ...        Russian Federation    Europe   XL    CO       VH                  Public   \n",
       "\n",
       "     AR SCORE  ER SCORE  FSR SCORE  CPF SCORE  IFR SCORE  ISR SCORE  ISD SCORE  IRN SCORE  EO SCORE  SUS SCORE  AR RANK_num AR RANK_sym  ER RANK_num ER RANK_sym  FSR RANK_num FSR RANK_sym  \\\n",
       "249      32.3      41.8      100.0       50.6       48.4       50.9       55.5       77.9      57.5       61.8          382         NaN          323         NaN            10          NaN   \n",
       "243      14.3       6.8      100.0      100.0      100.0      100.0       99.9       75.7       6.8       38.5          701           +          701           +            20          NaN   \n",
       "361      30.9      11.9      100.0       75.1        NaN        3.9        3.1       93.7      15.6        NaN          396         NaN          701           +            11          NaN   \n",
       "319      41.1      63.8       99.9        2.0       81.0       85.8       87.1       14.2      10.1       47.6          289         NaN          168         NaN            25          NaN   \n",
       "500      25.3      20.0       99.3        7.0       28.0       94.7       93.2       66.4       7.1       30.6          502         NaN          656         NaN            39          NaN   \n",
       "426      21.9      22.1       99.2       18.8       86.6       71.3       53.1       52.3      15.2       42.6          568         NaN          601         NaN            43          NaN   \n",
       "204      41.7      25.7       98.8       89.2       61.5       23.9       26.7       73.1      17.9       50.2          286         NaN          528         NaN            46          NaN   \n",
       "235      27.1      32.4       98.2       56.6       80.5       96.2       96.5       63.7      51.2       72.3          463         NaN          443         NaN            51          NaN   \n",
       "280      45.4      26.4       98.1       41.7        9.9       23.0       29.1       90.4      59.7       60.2          258         NaN          516         NaN            57          NaN   \n",
       "449      27.2      19.5       98.1        3.8       14.0       97.7       97.8       86.7      19.6       55.3          460         NaN          669         NaN            54          NaN   \n",
       "476      20.3      34.1       95.3       18.1       38.6       54.8       55.6       47.1      38.0       21.9          606         NaN          421         NaN            71          NaN   \n",
       "491      16.9      31.4       94.9        5.6       99.2       34.8       35.4       73.9       2.9       55.3          701           +          456         NaN            74          NaN   \n",
       "316      40.1      85.8       94.7        2.0       84.6       25.8       27.2       31.4       7.5       46.6          300         NaN           86         NaN            78          NaN   \n",
       "363      28.6      23.7       94.6       19.1       62.1       20.8       26.9       89.0      89.2       64.2          437         NaN          567         NaN            79          NaN   \n",
       "331      40.6      58.8       94.2        1.7       89.2       53.7       48.5       25.7      33.0       48.7          295         NaN          196         NaN            81          NaN   \n",
       "368      29.9      20.5       94.2       22.5      100.0       43.5       42.1       53.0      58.2       52.4          406         NaN          643         NaN            82          NaN   \n",
       "366      28.4      61.2       94.0        3.9       10.9       95.3       95.6       88.3      14.3       58.9          443         NaN          189         NaN            84          NaN   \n",
       "461      28.8      31.1       93.6       13.0        9.1       70.6       69.5       55.7      13.3       43.8          432         NaN          460         NaN            87          NaN   \n",
       "311      21.8      16.3       92.5       99.5       37.4       15.5       18.9       26.7       3.9       57.5          571         NaN          701           +            92          NaN   \n",
       "442      28.1      52.9       92.0        2.7       10.2       24.0       30.1       84.7      19.4       57.6          449         NaN          231         NaN            96          NaN   \n",
       "\n",
       "     CPF RANK_num CPF RANK_sym  IFR RANK_num IFR RANK_sym  ISR RANK_num ISR RANK_sym  ISD RANK_num ISD RANK_sym  IRN RANK_num IRN RANK_sym  EO RANK_num EO RANK_sym  SUS RANK_num SUS RANK_sym  \\\n",
       "249           372          NaN         446.0          NaN         404.0          NaN         370.0          NaN         383.0          NaN          288         NaN         460.0            =   \n",
       "243             6          NaN          10.0          NaN           6.0          NaN          29.0          NaN         424.0          NaN          801           +         801.0            +   \n",
       "361           179          NaN           NaN          NaN         801.0            +         801.0            +         108.0          NaN          801           +           NaN          NaN   \n",
       "319           801            +         287.0          NaN         190.0          NaN         160.0          NaN         801.0            +          801           +         770.0            =   \n",
       "500           801            +         609.0          NaN         131.0          NaN         125.0          NaN         599.0          NaN          801           +         801.0            +   \n",
       "426           735          NaN         248.0          NaN         267.0          NaN         388.0          NaN         801.0            +          801           +         801.0            +   \n",
       "204           106          NaN         380.0          NaN         677.0          NaN         662.0          NaN         485.0          NaN          760         NaN         699.0            =   \n",
       "235           314          NaN         294.0          NaN         109.0          NaN          94.0          NaN         641.0          NaN          333         NaN         286.0            =   \n",
       "280           453          NaN         801.0            +         688.0          NaN         625.0          NaN         171.0          NaN          272         NaN         501.0          NaN   \n",
       "449           801            +         801.0            +          94.0          NaN          83.0          NaN         225.0          NaN          732         NaN         596.0            =   \n",
       "476           748          NaN         512.0          NaN         380.0          NaN         368.0          NaN         801.0            +          458         NaN         801.0            +   \n",
       "491           801            +         125.0          NaN         544.0          NaN         544.0          NaN         471.0          NaN          801           +         596.0            =   \n",
       "316           801            +         262.0          NaN         649.0          NaN         650.0          NaN         801.0            +          801           +         801.0            +   \n",
       "363           728          NaN         374.0          NaN         712.0          NaN         654.0          NaN         186.0          NaN          112         NaN         417.0            =   \n",
       "331           801            +         229.0          NaN         383.0          NaN         427.0          NaN         801.0            +          515         NaN         737.0            =   \n",
       "368           679          NaN          70.0          NaN         463.0          NaN         492.0          NaN         796.0          NaN          283         NaN         655.0          NaN   \n",
       "366           801            +         801.0            +         123.0          NaN         105.0          NaN         199.0          NaN          801           +         521.0            =   \n",
       "461           801            +         801.0            +         272.0          NaN         274.0          NaN         758.0          NaN          801           +         801.0            +   \n",
       "311            29          NaN         520.0          NaN         801.0            +         782.0          NaN         801.0            +          801           +         550.0            =   \n",
       "442           801            +         801.0            +         675.0          NaN         614.0          NaN         261.0          NaN          737         NaN         549.0          NaN   \n",
       "\n",
       "     Overall SCORE  \n",
       "249           50.4  \n",
       "243           50.9  \n",
       "361           40.9  \n",
       "319           43.5  \n",
       "500           32.2  \n",
       "426           36.0  \n",
       "204           55.1  \n",
       "235           51.9  \n",
       "280           47.3  \n",
       "449           34.3  \n",
       "476           33.4  \n",
       "491           32.6  \n",
       "316           43.9  \n",
       "363           40.9  \n",
       "331           42.5  \n",
       "368           40.5  \n",
       "366           40.5  \n",
       "461           33.9  \n",
       "311           44.5  \n",
       "442           34.9  "
      ]
     },
     "execution_count": 77,
     "metadata": {},
     "output_type": "execute_result"
    }
   ],
   "source": [
    "df_200_500_fsr.head(20)"
   ]
  },
  {
   "cell_type": "code",
   "execution_count": 76,
   "id": "bfc39c77-8e44-4be0-b07e-b44dd8106269",
   "metadata": {},
   "outputs": [
    {
     "data": {
      "application/vnd.plotly.v1+json": {
       "config": {
        "plotlyServerURL": "https://plot.ly"
       },
       "data": [
        {
         "alignmentgroup": "True",
         "hovertemplate": "Country/Territory=%{x}<br>FSR SCORE=%{y}<extra></extra>",
         "legendgroup": "",
         "marker": {
          "color": "#636efa"
         },
         "name": "",
         "notched": false,
         "offsetgroup": "",
         "orientation": "v",
         "showlegend": false,
         "type": "box",
         "x": [
          "United States of America",
          "Qatar",
          "China (Mainland)",
          "Russian Federation",
          "Russian Federation",
          "Austria",
          "France",
          "United States of America",
          "United States of America",
          "Russian Federation",
          "Russian Federation",
          "Saudi Arabia",
          "Kazakhstan",
          "Estonia",
          "Kazakhstan",
          "Brunei Darussalam",
          "Russian Federation",
          "Russian Federation",
          "Republic of Korea",
          "Russian Federation",
          "United States of America",
          "Belarus",
          "Czechia",
          "Italy",
          "United States of America",
          "Finland",
          "Malaysia",
          "China (Mainland)",
          "Luxembourg",
          "Uzbekistan",
          "Germany",
          "Republic of Korea",
          "Germany",
          "Indonesia",
          "Thailand",
          "Republic of Korea",
          "France",
          "Sweden",
          "Austria",
          "United States of America",
          "Japan",
          "Germany",
          "Republic of Korea",
          "Austria",
          "Germany",
          "Belgium",
          "Poland",
          "United States of America",
          "Germany",
          "Israel",
          "United States of America",
          "United States of America",
          "Lithuania",
          "Sweden",
          "United States of America",
          "Germany",
          "Switzerland",
          "Malaysia",
          "Indonesia",
          "Ireland",
          "Taiwan",
          "United States of America",
          "Israel",
          "Hong Kong SAR, China",
          "Norway",
          "Pakistan",
          "Russian Federation",
          "United States of America",
          "Indonesia",
          "Japan",
          "Germany",
          "Finland",
          "Oman",
          "Poland",
          "Japan",
          "United States of America",
          "China (Mainland)",
          "Republic of Korea",
          "New Zealand",
          "Malaysia",
          "Republic of Korea",
          "Netherlands",
          "Poland",
          "United Arab Emirates",
          "Indonesia",
          "China (Mainland)",
          "United States of America",
          "Lebanon",
          "China (Mainland)",
          "United States of America",
          "China (Mainland)",
          "China (Mainland)",
          "Taiwan",
          "Spain",
          "Spain",
          "Germany",
          "Sweden",
          "Peru",
          "Switzerland",
          "Malaysia",
          "Spain",
          "South Africa",
          "Japan",
          "United Kingdom",
          "United Kingdom",
          "Thailand",
          "Malaysia",
          "Costa Rica",
          "United States of America",
          "United States of America",
          "United States of America",
          "Belgium",
          "Philippines",
          "China (Mainland)",
          "France",
          "Spain",
          "Australia",
          "China (Mainland)",
          "Argentina",
          "China (Mainland)",
          "United Kingdom",
          "Türkiye",
          "Spain",
          "India",
          "Egypt",
          "Colombia",
          "United States of America",
          "Czechia",
          "China (Mainland)",
          "Taiwan",
          "Spain",
          "Netherlands",
          "United States of America",
          "Australia",
          "Taiwan",
          "United Kingdom",
          "Canada",
          "Saudi Arabia",
          "United States of America",
          "Italy",
          "New Zealand",
          "Denmark",
          "Germany",
          "Norway",
          "United States of America",
          "China (Mainland)",
          "Australia",
          "Finland",
          "China (Mainland)",
          "Jordan",
          "China (Mainland)",
          "Italy",
          "United Kingdom",
          "Taiwan",
          "Germany",
          "Ireland",
          "Denmark",
          "Australia",
          "United Kingdom",
          "Germany",
          "United Kingdom",
          "United States of America",
          "United States of America",
          "China (Mainland)",
          "Spain",
          "Finland",
          "United Arab Emirates",
          "China (Mainland)",
          "Canada",
          "United Kingdom",
          "United Arab Emirates",
          "Germany",
          "Ireland",
          "China (Mainland)",
          "Spain",
          "United States of America",
          "Jordan",
          "United States of America",
          "Ireland",
          "Brazil",
          "China (Mainland)",
          "United Kingdom",
          "Canada",
          "Türkiye",
          "China (Mainland)",
          "Brazil",
          "Germany",
          "Spain",
          "United Kingdom",
          "Netherlands",
          "Brazil",
          "Portugal",
          "United Kingdom",
          "Colombia",
          "Spain",
          "United Kingdom",
          "Netherlands",
          "Republic of Korea",
          "United Kingdom",
          "New Zealand",
          "India",
          "China (Mainland)",
          "Canada",
          "United States of America",
          "New Zealand",
          "United Arab Emirates",
          "Portugal",
          "United Kingdom",
          "Israel",
          "Italy",
          "Portugal",
          "United Kingdom",
          "Australia",
          "Türkiye",
          "South Africa",
          "China (Mainland)",
          "China (Mainland)",
          "Egypt",
          "New Zealand",
          "Portugal",
          "Italy",
          "Italy",
          "France",
          "Australia",
          "Australia",
          "Portugal",
          "Czechia",
          "Italy",
          "Türkiye",
          "United Kingdom",
          "United States of America",
          "New Zealand",
          "United Kingdom",
          "Finland",
          "Macao SAR, China",
          "France",
          "Australia",
          "China (Mainland)",
          "Türkiye",
          "Chile",
          "Australia",
          "Spain",
          "France",
          "France",
          "Germany",
          "Belgium",
          "United States of America",
          "United States of America",
          "India",
          "France",
          "Spain",
          "Cyprus",
          "India",
          "Italy",
          "Germany",
          "United States of America",
          "United States of America",
          "Germany",
          "India",
          "United Arab Emirates",
          "United Kingdom",
          "India",
          "Germany",
          "Iran (Islamic Republic of)",
          "Australia",
          "Canada",
          "Iran (Islamic Republic of)",
          "Australia",
          "Australia",
          "China (Mainland)",
          "France",
          "Italy",
          "India",
          "Italy",
          "France",
          "Colombia",
          "Greece",
          "Viet Nam",
          "Canada",
          "South Africa",
          "Israel",
          "Australia",
          "Greece",
          "Australia",
          "Canada",
          "Pakistan",
          "Germany",
          "Canada",
          "Türkiye",
          "Italy",
          "South Africa",
          "Canada",
          "Macao SAR, China",
          "Belgium",
          "Germany",
          "Italy",
          "Iran (Islamic Republic of)",
          "Iran (Islamic Republic of)",
          "Germany",
          "Australia",
          "Greece",
          "Germany"
         ],
         "x0": " ",
         "xaxis": "x",
         "y": [
          100,
          100,
          100,
          99.9,
          99.3,
          99.2,
          98.8,
          98.2,
          98.1,
          98.1,
          95.3,
          94.9,
          94.7,
          94.6,
          94.2,
          94.2,
          94,
          93.6,
          92.5,
          92,
          91.9,
          91.8,
          89.4,
          89.3,
          88.6,
          87.8,
          87.7,
          87.5,
          87.2,
          87.1,
          87,
          86.2,
          85.7,
          82.9,
          82.4,
          82.3,
          81.1,
          80.7,
          80,
          79.9,
          79.8,
          79.6,
          79.2,
          76.9,
          76.5,
          75.6,
          75.3,
          75.1,
          74.9,
          74.6,
          74.2,
          73.1,
          73.1,
          73,
          70.8,
          70.5,
          70.3,
          69.7,
          69.6,
          68.6,
          68.3,
          68.2,
          67.3,
          67.3,
          67.2,
          66.7,
          65.8,
          65.6,
          65.4,
          65.2,
          64.6,
          63.2,
          62.3,
          59.5,
          58.9,
          57.9,
          57.8,
          57.6,
          57.3,
          56.9,
          56.7,
          56,
          55.7,
          55.1,
          54.7,
          53.4,
          53.4,
          52.3,
          52.3,
          52.1,
          51.6,
          51.1,
          50.6,
          50.6,
          50.5,
          50.3,
          50.2,
          50,
          49,
          48,
          47.6,
          46.5,
          45,
          44.9,
          44.8,
          44.8,
          44.6,
          44.4,
          44.2,
          43.6,
          42.8,
          42.8,
          42.7,
          42.7,
          42.7,
          42.5,
          42.2,
          42,
          40.8,
          40.1,
          40.1,
          40,
          39.7,
          39.1,
          39,
          37.8,
          37.2,
          37,
          35.8,
          35.6,
          35.3,
          34.8,
          34.4,
          34.3,
          33.8,
          33.4,
          33.3,
          33.1,
          33.1,
          32.9,
          32.4,
          31.9,
          31.1,
          30.7,
          30.3,
          30.3,
          29.7,
          29.5,
          29.4,
          28.9,
          28.8,
          28.7,
          28.6,
          28.6,
          28.4,
          27.8,
          27.7,
          27.5,
          27.3,
          27,
          26.9,
          26.8,
          26.3,
          25,
          24.8,
          24.8,
          24.6,
          24.5,
          24.4,
          24,
          23.9,
          23.6,
          23.6,
          23.4,
          23.4,
          23.3,
          23.1,
          23.1,
          22.5,
          22.1,
          21.8,
          21.4,
          21.1,
          21,
          20.2,
          20.1,
          19.9,
          19.1,
          19.1,
          18.6,
          18.2,
          18.1,
          17.8,
          17.6,
          17.3,
          17.1,
          16.8,
          16.3,
          16.2,
          16.2,
          16.1,
          15.9,
          15.8,
          15.8,
          15.7,
          15.7,
          15.5,
          15.1,
          15,
          14.9,
          14.9,
          14.8,
          14.7,
          14.5,
          14,
          14,
          13.9,
          13.8,
          13.7,
          13.6,
          13.5,
          13.5,
          13.5,
          13.3,
          13.2,
          13.1,
          13.1,
          12.8,
          12.8,
          12.2,
          12.2,
          12.1,
          12,
          11.9,
          11.7,
          11.7,
          11.6,
          11.6,
          11.5,
          11.4,
          11.3,
          11.2,
          11,
          11,
          11,
          10.8,
          10.8,
          10.7,
          10.6,
          10.4,
          10.3,
          10.3,
          10.2,
          10.2,
          10.1,
          10,
          10,
          9.8,
          9.5,
          9.3,
          9.2,
          9.2,
          8.9,
          8.2,
          7.9,
          7.6,
          7.4,
          7.4,
          7.4,
          7.3,
          7.3,
          7,
          6.9,
          6.8,
          6.8,
          6.7,
          6.4,
          6.3,
          6.2,
          6.2,
          6.1,
          6,
          5.9,
          5.9,
          5.4,
          5.3,
          5.2,
          5.2,
          5.1,
          5.1,
          5,
          5,
          4.8,
          4.6,
          4.6,
          4.5,
          4.3,
          4.2,
          3.9,
          3.4,
          3,
          2.7
         ],
         "y0": " ",
         "yaxis": "y"
        }
       ],
       "layout": {
        "boxmode": "group",
        "legend": {
         "tracegroupgap": 0
        },
        "template": {
         "data": {
          "bar": [
           {
            "error_x": {
             "color": "#2a3f5f"
            },
            "error_y": {
             "color": "#2a3f5f"
            },
            "marker": {
             "line": {
              "color": "#E5ECF6",
              "width": 0.5
             },
             "pattern": {
              "fillmode": "overlay",
              "size": 10,
              "solidity": 0.2
             }
            },
            "type": "bar"
           }
          ],
          "barpolar": [
           {
            "marker": {
             "line": {
              "color": "#E5ECF6",
              "width": 0.5
             },
             "pattern": {
              "fillmode": "overlay",
              "size": 10,
              "solidity": 0.2
             }
            },
            "type": "barpolar"
           }
          ],
          "carpet": [
           {
            "aaxis": {
             "endlinecolor": "#2a3f5f",
             "gridcolor": "white",
             "linecolor": "white",
             "minorgridcolor": "white",
             "startlinecolor": "#2a3f5f"
            },
            "baxis": {
             "endlinecolor": "#2a3f5f",
             "gridcolor": "white",
             "linecolor": "white",
             "minorgridcolor": "white",
             "startlinecolor": "#2a3f5f"
            },
            "type": "carpet"
           }
          ],
          "choropleth": [
           {
            "colorbar": {
             "outlinewidth": 0,
             "ticks": ""
            },
            "type": "choropleth"
           }
          ],
          "contour": [
           {
            "colorbar": {
             "outlinewidth": 0,
             "ticks": ""
            },
            "colorscale": [
             [
              0,
              "#0d0887"
             ],
             [
              0.1111111111111111,
              "#46039f"
             ],
             [
              0.2222222222222222,
              "#7201a8"
             ],
             [
              0.3333333333333333,
              "#9c179e"
             ],
             [
              0.4444444444444444,
              "#bd3786"
             ],
             [
              0.5555555555555556,
              "#d8576b"
             ],
             [
              0.6666666666666666,
              "#ed7953"
             ],
             [
              0.7777777777777778,
              "#fb9f3a"
             ],
             [
              0.8888888888888888,
              "#fdca26"
             ],
             [
              1,
              "#f0f921"
             ]
            ],
            "type": "contour"
           }
          ],
          "contourcarpet": [
           {
            "colorbar": {
             "outlinewidth": 0,
             "ticks": ""
            },
            "type": "contourcarpet"
           }
          ],
          "heatmap": [
           {
            "colorbar": {
             "outlinewidth": 0,
             "ticks": ""
            },
            "colorscale": [
             [
              0,
              "#0d0887"
             ],
             [
              0.1111111111111111,
              "#46039f"
             ],
             [
              0.2222222222222222,
              "#7201a8"
             ],
             [
              0.3333333333333333,
              "#9c179e"
             ],
             [
              0.4444444444444444,
              "#bd3786"
             ],
             [
              0.5555555555555556,
              "#d8576b"
             ],
             [
              0.6666666666666666,
              "#ed7953"
             ],
             [
              0.7777777777777778,
              "#fb9f3a"
             ],
             [
              0.8888888888888888,
              "#fdca26"
             ],
             [
              1,
              "#f0f921"
             ]
            ],
            "type": "heatmap"
           }
          ],
          "heatmapgl": [
           {
            "colorbar": {
             "outlinewidth": 0,
             "ticks": ""
            },
            "colorscale": [
             [
              0,
              "#0d0887"
             ],
             [
              0.1111111111111111,
              "#46039f"
             ],
             [
              0.2222222222222222,
              "#7201a8"
             ],
             [
              0.3333333333333333,
              "#9c179e"
             ],
             [
              0.4444444444444444,
              "#bd3786"
             ],
             [
              0.5555555555555556,
              "#d8576b"
             ],
             [
              0.6666666666666666,
              "#ed7953"
             ],
             [
              0.7777777777777778,
              "#fb9f3a"
             ],
             [
              0.8888888888888888,
              "#fdca26"
             ],
             [
              1,
              "#f0f921"
             ]
            ],
            "type": "heatmapgl"
           }
          ],
          "histogram": [
           {
            "marker": {
             "pattern": {
              "fillmode": "overlay",
              "size": 10,
              "solidity": 0.2
             }
            },
            "type": "histogram"
           }
          ],
          "histogram2d": [
           {
            "colorbar": {
             "outlinewidth": 0,
             "ticks": ""
            },
            "colorscale": [
             [
              0,
              "#0d0887"
             ],
             [
              0.1111111111111111,
              "#46039f"
             ],
             [
              0.2222222222222222,
              "#7201a8"
             ],
             [
              0.3333333333333333,
              "#9c179e"
             ],
             [
              0.4444444444444444,
              "#bd3786"
             ],
             [
              0.5555555555555556,
              "#d8576b"
             ],
             [
              0.6666666666666666,
              "#ed7953"
             ],
             [
              0.7777777777777778,
              "#fb9f3a"
             ],
             [
              0.8888888888888888,
              "#fdca26"
             ],
             [
              1,
              "#f0f921"
             ]
            ],
            "type": "histogram2d"
           }
          ],
          "histogram2dcontour": [
           {
            "colorbar": {
             "outlinewidth": 0,
             "ticks": ""
            },
            "colorscale": [
             [
              0,
              "#0d0887"
             ],
             [
              0.1111111111111111,
              "#46039f"
             ],
             [
              0.2222222222222222,
              "#7201a8"
             ],
             [
              0.3333333333333333,
              "#9c179e"
             ],
             [
              0.4444444444444444,
              "#bd3786"
             ],
             [
              0.5555555555555556,
              "#d8576b"
             ],
             [
              0.6666666666666666,
              "#ed7953"
             ],
             [
              0.7777777777777778,
              "#fb9f3a"
             ],
             [
              0.8888888888888888,
              "#fdca26"
             ],
             [
              1,
              "#f0f921"
             ]
            ],
            "type": "histogram2dcontour"
           }
          ],
          "mesh3d": [
           {
            "colorbar": {
             "outlinewidth": 0,
             "ticks": ""
            },
            "type": "mesh3d"
           }
          ],
          "parcoords": [
           {
            "line": {
             "colorbar": {
              "outlinewidth": 0,
              "ticks": ""
             }
            },
            "type": "parcoords"
           }
          ],
          "pie": [
           {
            "automargin": true,
            "type": "pie"
           }
          ],
          "scatter": [
           {
            "fillpattern": {
             "fillmode": "overlay",
             "size": 10,
             "solidity": 0.2
            },
            "type": "scatter"
           }
          ],
          "scatter3d": [
           {
            "line": {
             "colorbar": {
              "outlinewidth": 0,
              "ticks": ""
             }
            },
            "marker": {
             "colorbar": {
              "outlinewidth": 0,
              "ticks": ""
             }
            },
            "type": "scatter3d"
           }
          ],
          "scattercarpet": [
           {
            "marker": {
             "colorbar": {
              "outlinewidth": 0,
              "ticks": ""
             }
            },
            "type": "scattercarpet"
           }
          ],
          "scattergeo": [
           {
            "marker": {
             "colorbar": {
              "outlinewidth": 0,
              "ticks": ""
             }
            },
            "type": "scattergeo"
           }
          ],
          "scattergl": [
           {
            "marker": {
             "colorbar": {
              "outlinewidth": 0,
              "ticks": ""
             }
            },
            "type": "scattergl"
           }
          ],
          "scattermapbox": [
           {
            "marker": {
             "colorbar": {
              "outlinewidth": 0,
              "ticks": ""
             }
            },
            "type": "scattermapbox"
           }
          ],
          "scatterpolar": [
           {
            "marker": {
             "colorbar": {
              "outlinewidth": 0,
              "ticks": ""
             }
            },
            "type": "scatterpolar"
           }
          ],
          "scatterpolargl": [
           {
            "marker": {
             "colorbar": {
              "outlinewidth": 0,
              "ticks": ""
             }
            },
            "type": "scatterpolargl"
           }
          ],
          "scatterternary": [
           {
            "marker": {
             "colorbar": {
              "outlinewidth": 0,
              "ticks": ""
             }
            },
            "type": "scatterternary"
           }
          ],
          "surface": [
           {
            "colorbar": {
             "outlinewidth": 0,
             "ticks": ""
            },
            "colorscale": [
             [
              0,
              "#0d0887"
             ],
             [
              0.1111111111111111,
              "#46039f"
             ],
             [
              0.2222222222222222,
              "#7201a8"
             ],
             [
              0.3333333333333333,
              "#9c179e"
             ],
             [
              0.4444444444444444,
              "#bd3786"
             ],
             [
              0.5555555555555556,
              "#d8576b"
             ],
             [
              0.6666666666666666,
              "#ed7953"
             ],
             [
              0.7777777777777778,
              "#fb9f3a"
             ],
             [
              0.8888888888888888,
              "#fdca26"
             ],
             [
              1,
              "#f0f921"
             ]
            ],
            "type": "surface"
           }
          ],
          "table": [
           {
            "cells": {
             "fill": {
              "color": "#EBF0F8"
             },
             "line": {
              "color": "white"
             }
            },
            "header": {
             "fill": {
              "color": "#C8D4E3"
             },
             "line": {
              "color": "white"
             }
            },
            "type": "table"
           }
          ]
         },
         "layout": {
          "annotationdefaults": {
           "arrowcolor": "#2a3f5f",
           "arrowhead": 0,
           "arrowwidth": 1
          },
          "autotypenumbers": "strict",
          "coloraxis": {
           "colorbar": {
            "outlinewidth": 0,
            "ticks": ""
           }
          },
          "colorscale": {
           "diverging": [
            [
             0,
             "#8e0152"
            ],
            [
             0.1,
             "#c51b7d"
            ],
            [
             0.2,
             "#de77ae"
            ],
            [
             0.3,
             "#f1b6da"
            ],
            [
             0.4,
             "#fde0ef"
            ],
            [
             0.5,
             "#f7f7f7"
            ],
            [
             0.6,
             "#e6f5d0"
            ],
            [
             0.7,
             "#b8e186"
            ],
            [
             0.8,
             "#7fbc41"
            ],
            [
             0.9,
             "#4d9221"
            ],
            [
             1,
             "#276419"
            ]
           ],
           "sequential": [
            [
             0,
             "#0d0887"
            ],
            [
             0.1111111111111111,
             "#46039f"
            ],
            [
             0.2222222222222222,
             "#7201a8"
            ],
            [
             0.3333333333333333,
             "#9c179e"
            ],
            [
             0.4444444444444444,
             "#bd3786"
            ],
            [
             0.5555555555555556,
             "#d8576b"
            ],
            [
             0.6666666666666666,
             "#ed7953"
            ],
            [
             0.7777777777777778,
             "#fb9f3a"
            ],
            [
             0.8888888888888888,
             "#fdca26"
            ],
            [
             1,
             "#f0f921"
            ]
           ],
           "sequentialminus": [
            [
             0,
             "#0d0887"
            ],
            [
             0.1111111111111111,
             "#46039f"
            ],
            [
             0.2222222222222222,
             "#7201a8"
            ],
            [
             0.3333333333333333,
             "#9c179e"
            ],
            [
             0.4444444444444444,
             "#bd3786"
            ],
            [
             0.5555555555555556,
             "#d8576b"
            ],
            [
             0.6666666666666666,
             "#ed7953"
            ],
            [
             0.7777777777777778,
             "#fb9f3a"
            ],
            [
             0.8888888888888888,
             "#fdca26"
            ],
            [
             1,
             "#f0f921"
            ]
           ]
          },
          "colorway": [
           "#636efa",
           "#EF553B",
           "#00cc96",
           "#ab63fa",
           "#FFA15A",
           "#19d3f3",
           "#FF6692",
           "#B6E880",
           "#FF97FF",
           "#FECB52"
          ],
          "font": {
           "color": "#2a3f5f"
          },
          "geo": {
           "bgcolor": "white",
           "lakecolor": "white",
           "landcolor": "#E5ECF6",
           "showlakes": true,
           "showland": true,
           "subunitcolor": "white"
          },
          "hoverlabel": {
           "align": "left"
          },
          "hovermode": "closest",
          "mapbox": {
           "style": "light"
          },
          "paper_bgcolor": "white",
          "plot_bgcolor": "#E5ECF6",
          "polar": {
           "angularaxis": {
            "gridcolor": "white",
            "linecolor": "white",
            "ticks": ""
           },
           "bgcolor": "#E5ECF6",
           "radialaxis": {
            "gridcolor": "white",
            "linecolor": "white",
            "ticks": ""
           }
          },
          "scene": {
           "xaxis": {
            "backgroundcolor": "#E5ECF6",
            "gridcolor": "white",
            "gridwidth": 2,
            "linecolor": "white",
            "showbackground": true,
            "ticks": "",
            "zerolinecolor": "white"
           },
           "yaxis": {
            "backgroundcolor": "#E5ECF6",
            "gridcolor": "white",
            "gridwidth": 2,
            "linecolor": "white",
            "showbackground": true,
            "ticks": "",
            "zerolinecolor": "white"
           },
           "zaxis": {
            "backgroundcolor": "#E5ECF6",
            "gridcolor": "white",
            "gridwidth": 2,
            "linecolor": "white",
            "showbackground": true,
            "ticks": "",
            "zerolinecolor": "white"
           }
          },
          "shapedefaults": {
           "line": {
            "color": "#2a3f5f"
           }
          },
          "ternary": {
           "aaxis": {
            "gridcolor": "white",
            "linecolor": "white",
            "ticks": ""
           },
           "baxis": {
            "gridcolor": "white",
            "linecolor": "white",
            "ticks": ""
           },
           "bgcolor": "#E5ECF6",
           "caxis": {
            "gridcolor": "white",
            "linecolor": "white",
            "ticks": ""
           }
          },
          "title": {
           "x": 0.05
          },
          "xaxis": {
           "automargin": true,
           "gridcolor": "white",
           "linecolor": "white",
           "ticks": "",
           "title": {
            "standoff": 15
           },
           "zerolinecolor": "white",
           "zerolinewidth": 2
          },
          "yaxis": {
           "automargin": true,
           "gridcolor": "white",
           "linecolor": "white",
           "ticks": "",
           "title": {
            "standoff": 15
           },
           "zerolinecolor": "white",
           "zerolinewidth": 2
          }
         }
        },
        "title": {
         "text": "FSR Score per Countires (200-500 rank)"
        },
        "xaxis": {
         "anchor": "y",
         "domain": [
          0,
          1
         ],
         "title": {
          "text": "Country/Territory"
         }
        },
        "yaxis": {
         "anchor": "x",
         "domain": [
          0,
          1
         ],
         "title": {
          "text": "FSR SCORE"
         }
        }
       }
      },
      "image/png": "[encoded data removed]",
      "text/html": [
       "<div>                            <div id=\"01c5574b-ae69-4e2a-9bcd-c177bfdb160a\" class=\"plotly-graph-div\" style=\"height:525px; width:100%;\"></div>            <script type=\"text/javascript\">                require([\"plotly\"], function(Plotly) {                    window.PLOTLYENV=window.PLOTLYENV || {};                                    if (document.getElementById(\"01c5574b-ae69-4e2a-9bcd-c177bfdb160a\")) {                    Plotly.newPlot(                        \"01c5574b-ae69-4e2a-9bcd-c177bfdb160a\",                        [{\"alignmentgroup\":\"True\",\"hovertemplate\":\"Country\\u002fTerritory=%{x}\\u003cbr\\u003eFSR SCORE=%{y}\\u003cextra\\u003e\\u003c\\u002fextra\\u003e\",\"legendgroup\":\"\",\"marker\":{\"color\":\"#636efa\"},\"name\":\"\",\"notched\":false,\"offsetgroup\":\"\",\"orientation\":\"v\",\"showlegend\":false,\"x\":[\"United States of America\",\"Qatar\",\"China (Mainland)\",\"Russian Federation\",\"Russian Federation\",\"Austria\",\"France\",\"United States of America\",\"United States of America\",\"Russian Federation\",\"Russian Federation\",\"Saudi Arabia\",\"Kazakhstan\",\"Estonia\",\"Kazakhstan\",\"Brunei Darussalam\",\"Russian Federation\",\"Russian Federation\",\"Republic of Korea\",\"Russian Federation\",\"United States of America\",\"Belarus\",\"Czechia\",\"Italy\",\"United States of America\",\"Finland\",\"Malaysia\",\"China (Mainland)\",\"Luxembourg\",\"Uzbekistan\",\"Germany\",\"Republic of Korea\",\"Germany\",\"Indonesia\",\"Thailand\",\"Republic of Korea\",\"France\",\"Sweden\",\"Austria\",\"United States of America\",\"Japan\",\"Germany\",\"Republic of Korea\",\"Austria\",\"Germany\",\"Belgium\",\"Poland\",\"United States of America\",\"Germany\",\"Israel\",\"United States of America\",\"United States of America\",\"Lithuania\",\"Sweden\",\"United States of America\",\"Germany\",\"Switzerland\",\"Malaysia\",\"Indonesia\",\"Ireland\",\"Taiwan\",\"United States of America\",\"Israel\",\"Hong Kong SAR, China\",\"Norway\",\"Pakistan\",\"Russian Federation\",\"United States of America\",\"Indonesia\",\"Japan\",\"Germany\",\"Finland\",\"Oman\",\"Poland\",\"Japan\",\"United States of America\",\"China (Mainland)\",\"Republic of Korea\",\"New Zealand\",\"Malaysia\",\"Republic of Korea\",\"Netherlands\",\"Poland\",\"United Arab Emirates\",\"Indonesia\",\"China (Mainland)\",\"United States of America\",\"Lebanon\",\"China (Mainland)\",\"United States of America\",\"China (Mainland)\",\"China (Mainland)\",\"Taiwan\",\"Spain\",\"Spain\",\"Germany\",\"Sweden\",\"Peru\",\"Switzerland\",\"Malaysia\",\"Spain\",\"South Africa\",\"Japan\",\"United Kingdom\",\"United Kingdom\",\"Thailand\",\"Malaysia\",\"Costa Rica\",\"United States of America\",\"United States of America\",\"United States of America\",\"Belgium\",\"Philippines\",\"China (Mainland)\",\"France\",\"Spain\",\"Australia\",\"China (Mainland)\",\"Argentina\",\"China (Mainland)\",\"United Kingdom\",\"T\\u00fcrkiye\",\"Spain\",\"India\",\"Egypt\",\"Colombia\",\"United States of America\",\"Czechia\",\"China (Mainland)\",\"Taiwan\",\"Spain\",\"Netherlands\",\"United States of America\",\"Australia\",\"Taiwan\",\"United Kingdom\",\"Canada\",\"Saudi Arabia\",\"United States of America\",\"Italy\",\"New Zealand\",\"Denmark\",\"Germany\",\"Norway\",\"United States of America\",\"China (Mainland)\",\"Australia\",\"Finland\",\"China (Mainland)\",\"Jordan\",\"China (Mainland)\",\"Italy\",\"United Kingdom\",\"Taiwan\",\"Germany\",\"Ireland\",\"Denmark\",\"Australia\",\"United Kingdom\",\"Germany\",\"United Kingdom\",\"United States of America\",\"United States of America\",\"China (Mainland)\",\"Spain\",\"Finland\",\"United Arab Emirates\",\"China (Mainland)\",\"Canada\",\"United Kingdom\",\"United Arab Emirates\",\"Germany\",\"Ireland\",\"China (Mainland)\",\"Spain\",\"United States of America\",\"Jordan\",\"United States of America\",\"Ireland\",\"Brazil\",\"China (Mainland)\",\"United Kingdom\",\"Canada\",\"T\\u00fcrkiye\",\"China (Mainland)\",\"Brazil\",\"Germany\",\"Spain\",\"United Kingdom\",\"Netherlands\",\"Brazil\",\"Portugal\",\"United Kingdom\",\"Colombia\",\"Spain\",\"United Kingdom\",\"Netherlands\",\"Republic of Korea\",\"United Kingdom\",\"New Zealand\",\"India\",\"China (Mainland)\",\"Canada\",\"United States of America\",\"New Zealand\",\"United Arab Emirates\",\"Portugal\",\"United Kingdom\",\"Israel\",\"Italy\",\"Portugal\",\"United Kingdom\",\"Australia\",\"T\\u00fcrkiye\",\"South Africa\",\"China (Mainland)\",\"China (Mainland)\",\"Egypt\",\"New Zealand\",\"Portugal\",\"Italy\",\"Italy\",\"France\",\"Australia\",\"Australia\",\"Portugal\",\"Czechia\",\"Italy\",\"T\\u00fcrkiye\",\"United Kingdom\",\"United States of America\",\"New Zealand\",\"United Kingdom\",\"Finland\",\"Macao SAR, China\",\"France\",\"Australia\",\"China (Mainland)\",\"T\\u00fcrkiye\",\"Chile\",\"Australia\",\"Spain\",\"France\",\"France\",\"Germany\",\"Belgium\",\"United States of America\",\"United States of America\",\"India\",\"France\",\"Spain\",\"Cyprus\",\"India\",\"Italy\",\"Germany\",\"United States of America\",\"United States of America\",\"Germany\",\"India\",\"United Arab Emirates\",\"United Kingdom\",\"India\",\"Germany\",\"Iran (Islamic Republic of)\",\"Australia\",\"Canada\",\"Iran (Islamic Republic of)\",\"Australia\",\"Australia\",\"China (Mainland)\",\"France\",\"Italy\",\"India\",\"Italy\",\"France\",\"Colombia\",\"Greece\",\"Viet Nam\",\"Canada\",\"South Africa\",\"Israel\",\"Australia\",\"Greece\",\"Australia\",\"Canada\",\"Pakistan\",\"Germany\",\"Canada\",\"T\\u00fcrkiye\",\"Italy\",\"South Africa\",\"Canada\",\"Macao SAR, China\",\"Belgium\",\"Germany\",\"Italy\",\"Iran (Islamic Republic of)\",\"Iran (Islamic Republic of)\",\"Germany\",\"Australia\",\"Greece\",\"Germany\"],\"x0\":\" \",\"xaxis\":\"x\",\"y\":[100.0,100.0,100.0,99.9,99.3,99.2,98.8,98.2,98.1,98.1,95.3,94.9,94.7,94.6,94.2,94.2,94.0,93.6,92.5,92.0,91.9,91.8,89.4,89.3,88.6,87.8,87.7,87.5,87.2,87.1,87.0,86.2,85.7,82.9,82.4,82.3,81.1,80.7,80.0,79.9,79.8,79.6,79.2,76.9,76.5,75.6,75.3,75.1,74.9,74.6,74.2,73.1,73.1,73.0,70.8,70.5,70.3,69.7,69.6,68.6,68.3,68.2,67.3,67.3,67.2,66.7,65.8,65.6,65.4,65.2,64.6,63.2,62.3,59.5,58.9,57.9,57.8,57.6,57.3,56.9,56.7,56.0,55.7,55.1,54.7,53.4,53.4,52.3,52.3,52.1,51.6,51.1,50.6,50.6,50.5,50.3,50.2,50.0,49.0,48.0,47.6,46.5,45.0,44.9,44.8,44.8,44.6,44.4,44.2,43.6,42.8,42.8,42.7,42.7,42.7,42.5,42.2,42.0,40.8,40.1,40.1,40.0,39.7,39.1,39.0,37.8,37.2,37.0,35.8,35.6,35.3,34.8,34.4,34.3,33.8,33.4,33.3,33.1,33.1,32.9,32.4,31.9,31.1,30.7,30.3,30.3,29.7,29.5,29.4,28.9,28.8,28.7,28.6,28.6,28.4,27.8,27.7,27.5,27.3,27.0,26.9,26.8,26.3,25.0,24.8,24.8,24.6,24.5,24.4,24.0,23.9,23.6,23.6,23.4,23.4,23.3,23.1,23.1,22.5,22.1,21.8,21.4,21.1,21.0,20.2,20.1,19.9,19.1,19.1,18.6,18.2,18.1,17.8,17.6,17.3,17.1,16.8,16.3,16.2,16.2,16.1,15.9,15.8,15.8,15.7,15.7,15.5,15.1,15.0,14.9,14.9,14.8,14.7,14.5,14.0,14.0,13.9,13.8,13.7,13.6,13.5,13.5,13.5,13.3,13.2,13.1,13.1,12.8,12.8,12.2,12.2,12.1,12.0,11.9,11.7,11.7,11.6,11.6,11.5,11.4,11.3,11.2,11.0,11.0,11.0,10.8,10.8,10.7,10.6,10.4,10.3,10.3,10.2,10.2,10.1,10.0,10.0,9.8,9.5,9.3,9.2,9.2,8.9,8.2,7.9,7.6,7.4,7.4,7.4,7.3,7.3,7.0,6.9,6.8,6.8,6.7,6.4,6.3,6.2,6.2,6.1,6.0,5.9,5.9,5.4,5.3,5.2,5.2,5.1,5.1,5.0,5.0,4.8,4.6,4.6,4.5,4.3,4.2,3.9,3.4,3.0,2.7],\"y0\":\" \",\"yaxis\":\"y\",\"type\":\"box\"}],                        {\"template\":{\"data\":{\"histogram2dcontour\":[{\"type\":\"histogram2dcontour\",\"colorbar\":{\"outlinewidth\":0,\"ticks\":\"\"},\"colorscale\":[[0.0,\"#0d0887\"],[0.1111111111111111,\"#46039f\"],[0.2222222222222222,\"#7201a8\"],[0.3333333333333333,\"#9c179e\"],[0.4444444444444444,\"#bd3786\"],[0.5555555555555556,\"#d8576b\"],[0.6666666666666666,\"#ed7953\"],[0.7777777777777778,\"#fb9f3a\"],[0.8888888888888888,\"#fdca26\"],[1.0,\"#f0f921\"]]}],\"choropleth\":[{\"type\":\"choropleth\",\"colorbar\":{\"outlinewidth\":0,\"ticks\":\"\"}}],\"histogram2d\":[{\"type\":\"histogram2d\",\"colorbar\":{\"outlinewidth\":0,\"ticks\":\"\"},\"colorscale\":[[0.0,\"#0d0887\"],[0.1111111111111111,\"#46039f\"],[0.2222222222222222,\"#7201a8\"],[0.3333333333333333,\"#9c179e\"],[0.4444444444444444,\"#bd3786\"],[0.5555555555555556,\"#d8576b\"],[0.6666666666666666,\"#ed7953\"],[0.7777777777777778,\"#fb9f3a\"],[0.8888888888888888,\"#fdca26\"],[1.0,\"#f0f921\"]]}],\"heatmap\":[{\"type\":\"heatmap\",\"colorbar\":{\"outlinewidth\":0,\"ticks\":\"\"},\"colorscale\":[[0.0,\"#0d0887\"],[0.1111111111111111,\"#46039f\"],[0.2222222222222222,\"#7201a8\"],[0.3333333333333333,\"#9c179e\"],[0.4444444444444444,\"#bd3786\"],[0.5555555555555556,\"#d8576b\"],[0.6666666666666666,\"#ed7953\"],[0.7777777777777778,\"#fb9f3a\"],[0.8888888888888888,\"#fdca26\"],[1.0,\"#f0f921\"]]}],\"heatmapgl\":[{\"type\":\"heatmapgl\",\"colorbar\":{\"outlinewidth\":0,\"ticks\":\"\"},\"colorscale\":[[0.0,\"#0d0887\"],[0.1111111111111111,\"#46039f\"],[0.2222222222222222,\"#7201a8\"],[0.3333333333333333,\"#9c179e\"],[0.4444444444444444,\"#bd3786\"],[0.5555555555555556,\"#d8576b\"],[0.6666666666666666,\"#ed7953\"],[0.7777777777777778,\"#fb9f3a\"],[0.8888888888888888,\"#fdca26\"],[1.0,\"#f0f921\"]]}],\"contourcarpet\":[{\"type\":\"contourcarpet\",\"colorbar\":{\"outlinewidth\":0,\"ticks\":\"\"}}],\"contour\":[{\"type\":\"contour\",\"colorbar\":{\"outlinewidth\":0,\"ticks\":\"\"},\"colorscale\":[[0.0,\"#0d0887\"],[0.1111111111111111,\"#46039f\"],[0.2222222222222222,\"#7201a8\"],[0.3333333333333333,\"#9c179e\"],[0.4444444444444444,\"#bd3786\"],[0.5555555555555556,\"#d8576b\"],[0.6666666666666666,\"#ed7953\"],[0.7777777777777778,\"#fb9f3a\"],[0.8888888888888888,\"#fdca26\"],[1.0,\"#f0f921\"]]}],\"surface\":[{\"type\":\"surface\",\"colorbar\":{\"outlinewidth\":0,\"ticks\":\"\"},\"colorscale\":[[0.0,\"#0d0887\"],[0.1111111111111111,\"#46039f\"],[0.2222222222222222,\"#7201a8\"],[0.3333333333333333,\"#9c179e\"],[0.4444444444444444,\"#bd3786\"],[0.5555555555555556,\"#d8576b\"],[0.6666666666666666,\"#ed7953\"],[0.7777777777777778,\"#fb9f3a\"],[0.8888888888888888,\"#fdca26\"],[1.0,\"#f0f921\"]]}],\"mesh3d\":[{\"type\":\"mesh3d\",\"colorbar\":{\"outlinewidth\":0,\"ticks\":\"\"}}],\"scatter\":[{\"fillpattern\":{\"fillmode\":\"overlay\",\"size\":10,\"solidity\":0.2},\"type\":\"scatter\"}],\"parcoords\":[{\"type\":\"parcoords\",\"line\":{\"colorbar\":{\"outlinewidth\":0,\"ticks\":\"\"}}}],\"scatterpolargl\":[{\"type\":\"scatterpolargl\",\"marker\":{\"colorbar\":{\"outlinewidth\":0,\"ticks\":\"\"}}}],\"bar\":[{\"error_x\":{\"color\":\"#2a3f5f\"},\"error_y\":{\"color\":\"#2a3f5f\"},\"marker\":{\"line\":{\"color\":\"#E5ECF6\",\"width\":0.5},\"pattern\":{\"fillmode\":\"overlay\",\"size\":10,\"solidity\":0.2}},\"type\":\"bar\"}],\"scattergeo\":[{\"type\":\"scattergeo\",\"marker\":{\"colorbar\":{\"outlinewidth\":0,\"ticks\":\"\"}}}],\"scatterpolar\":[{\"type\":\"scatterpolar\",\"marker\":{\"colorbar\":{\"outlinewidth\":0,\"ticks\":\"\"}}}],\"histogram\":[{\"marker\":{\"pattern\":{\"fillmode\":\"overlay\",\"size\":10,\"solidity\":0.2}},\"type\":\"histogram\"}],\"scattergl\":[{\"type\":\"scattergl\",\"marker\":{\"colorbar\":{\"outlinewidth\":0,\"ticks\":\"\"}}}],\"scatter3d\":[{\"type\":\"scatter3d\",\"line\":{\"colorbar\":{\"outlinewidth\":0,\"ticks\":\"\"}},\"marker\":{\"colorbar\":{\"outlinewidth\":0,\"ticks\":\"\"}}}],\"scattermapbox\":[{\"type\":\"scattermapbox\",\"marker\":{\"colorbar\":{\"outlinewidth\":0,\"ticks\":\"\"}}}],\"scatterternary\":[{\"type\":\"scatterternary\",\"marker\":{\"colorbar\":{\"outlinewidth\":0,\"ticks\":\"\"}}}],\"scattercarpet\":[{\"type\":\"scattercarpet\",\"marker\":{\"colorbar\":{\"outlinewidth\":0,\"ticks\":\"\"}}}],\"carpet\":[{\"aaxis\":{\"endlinecolor\":\"#2a3f5f\",\"gridcolor\":\"white\",\"linecolor\":\"white\",\"minorgridcolor\":\"white\",\"startlinecolor\":\"#2a3f5f\"},\"baxis\":{\"endlinecolor\":\"#2a3f5f\",\"gridcolor\":\"white\",\"linecolor\":\"white\",\"minorgridcolor\":\"white\",\"startlinecolor\":\"#2a3f5f\"},\"type\":\"carpet\"}],\"table\":[{\"cells\":{\"fill\":{\"color\":\"#EBF0F8\"},\"line\":{\"color\":\"white\"}},\"header\":{\"fill\":{\"color\":\"#C8D4E3\"},\"line\":{\"color\":\"white\"}},\"type\":\"table\"}],\"barpolar\":[{\"marker\":{\"line\":{\"color\":\"#E5ECF6\",\"width\":0.5},\"pattern\":{\"fillmode\":\"overlay\",\"size\":10,\"solidity\":0.2}},\"type\":\"barpolar\"}],\"pie\":[{\"automargin\":true,\"type\":\"pie\"}]},\"layout\":{\"autotypenumbers\":\"strict\",\"colorway\":[\"#636efa\",\"#EF553B\",\"#00cc96\",\"#ab63fa\",\"#FFA15A\",\"#19d3f3\",\"#FF6692\",\"#B6E880\",\"#FF97FF\",\"#FECB52\"],\"font\":{\"color\":\"#2a3f5f\"},\"hovermode\":\"closest\",\"hoverlabel\":{\"align\":\"left\"},\"paper_bgcolor\":\"white\",\"plot_bgcolor\":\"#E5ECF6\",\"polar\":{\"bgcolor\":\"#E5ECF6\",\"angularaxis\":{\"gridcolor\":\"white\",\"linecolor\":\"white\",\"ticks\":\"\"},\"radialaxis\":{\"gridcolor\":\"white\",\"linecolor\":\"white\",\"ticks\":\"\"}},\"ternary\":{\"bgcolor\":\"#E5ECF6\",\"aaxis\":{\"gridcolor\":\"white\",\"linecolor\":\"white\",\"ticks\":\"\"},\"baxis\":{\"gridcolor\":\"white\",\"linecolor\":\"white\",\"ticks\":\"\"},\"caxis\":{\"gridcolor\":\"white\",\"linecolor\":\"white\",\"ticks\":\"\"}},\"coloraxis\":{\"colorbar\":{\"outlinewidth\":0,\"ticks\":\"\"}},\"colorscale\":{\"sequential\":[[0.0,\"#0d0887\"],[0.1111111111111111,\"#46039f\"],[0.2222222222222222,\"#7201a8\"],[0.3333333333333333,\"#9c179e\"],[0.4444444444444444,\"#bd3786\"],[0.5555555555555556,\"#d8576b\"],[0.6666666666666666,\"#ed7953\"],[0.7777777777777778,\"#fb9f3a\"],[0.8888888888888888,\"#fdca26\"],[1.0,\"#f0f921\"]],\"sequentialminus\":[[0.0,\"#0d0887\"],[0.1111111111111111,\"#46039f\"],[0.2222222222222222,\"#7201a8\"],[0.3333333333333333,\"#9c179e\"],[0.4444444444444444,\"#bd3786\"],[0.5555555555555556,\"#d8576b\"],[0.6666666666666666,\"#ed7953\"],[0.7777777777777778,\"#fb9f3a\"],[0.8888888888888888,\"#fdca26\"],[1.0,\"#f0f921\"]],\"diverging\":[[0,\"#8e0152\"],[0.1,\"#c51b7d\"],[0.2,\"#de77ae\"],[0.3,\"#f1b6da\"],[0.4,\"#fde0ef\"],[0.5,\"#f7f7f7\"],[0.6,\"#e6f5d0\"],[0.7,\"#b8e186\"],[0.8,\"#7fbc41\"],[0.9,\"#4d9221\"],[1,\"#276419\"]]},\"xaxis\":{\"gridcolor\":\"white\",\"linecolor\":\"white\",\"ticks\":\"\",\"title\":{\"standoff\":15},\"zerolinecolor\":\"white\",\"automargin\":true,\"zerolinewidth\":2},\"yaxis\":{\"gridcolor\":\"white\",\"linecolor\":\"white\",\"ticks\":\"\",\"title\":{\"standoff\":15},\"zerolinecolor\":\"white\",\"automargin\":true,\"zerolinewidth\":2},\"scene\":{\"xaxis\":{\"backgroundcolor\":\"#E5ECF6\",\"gridcolor\":\"white\",\"linecolor\":\"white\",\"showbackground\":true,\"ticks\":\"\",\"zerolinecolor\":\"white\",\"gridwidth\":2},\"yaxis\":{\"backgroundcolor\":\"#E5ECF6\",\"gridcolor\":\"white\",\"linecolor\":\"white\",\"showbackground\":true,\"ticks\":\"\",\"zerolinecolor\":\"white\",\"gridwidth\":2},\"zaxis\":{\"backgroundcolor\":\"#E5ECF6\",\"gridcolor\":\"white\",\"linecolor\":\"white\",\"showbackground\":true,\"ticks\":\"\",\"zerolinecolor\":\"white\",\"gridwidth\":2}},\"shapedefaults\":{\"line\":{\"color\":\"#2a3f5f\"}},\"annotationdefaults\":{\"arrowcolor\":\"#2a3f5f\",\"arrowhead\":0,\"arrowwidth\":1},\"geo\":{\"bgcolor\":\"white\",\"landcolor\":\"#E5ECF6\",\"subunitcolor\":\"white\",\"showland\":true,\"showlakes\":true,\"lakecolor\":\"white\"},\"title\":{\"x\":0.05},\"mapbox\":{\"style\":\"light\"}}},\"xaxis\":{\"anchor\":\"y\",\"domain\":[0.0,1.0],\"title\":{\"text\":\"Country\\u002fTerritory\"}},\"yaxis\":{\"anchor\":\"x\",\"domain\":[0.0,1.0],\"title\":{\"text\":\"FSR SCORE\"}},\"legend\":{\"tracegroupgap\":0},\"title\":{\"text\":\"FSR Score per Countires (200-500 rank)\"},\"boxmode\":\"group\"},                        {\"responsive\": true}                    ).then(function(){\n",
       "                            \n",
       "var gd = document.getElementById('01c5574b-ae69-4e2a-9bcd-c177bfdb160a');\n",
       "var x = new MutationObserver(function (mutations, observer) {{\n",
       "        var display = window.getComputedStyle(gd).display;\n",
       "        if (!display || display === 'none') {{\n",
       "            console.log([gd, 'removed!']);\n",
       "            Plotly.purge(gd);\n",
       "            observer.disconnect();\n",
       "        }}\n",
       "}});\n",
       "\n",
       "// Listen for the removal of the full notebook cells\n",
       "var notebookContainer = gd.closest('#notebook-container');\n",
       "if (notebookContainer) {{\n",
       "    x.observe(notebookContainer, {childList: true});\n",
       "}}\n",
       "\n",
       "// Listen for the clearing of the current output cell\n",
       "var outputEl = gd.closest('.output');\n",
       "if (outputEl) {{\n",
       "    x.observe(outputEl, {childList: true});\n",
       "}}\n",
       "\n",
       "                        })                };                });            </script>        </div>"
      ]
     },
     "metadata": {},
     "output_type": "display_data"
    }
   ],
   "source": [
    "# boxplot для FSR Score по странам\n",
    "fig_fsr = px.box(df_200_500_fsr,\n",
    "    x=\"Country/Territory\",\n",
    "    y=\"FSR SCORE\",\n",
    "    title=\"FSR Score per Countires (200-500 rank)\",\n",
    ")\n",
    "fig_fsr.show()"
   ]
  },
  {
   "cell_type": "code",
   "execution_count": 88,
   "id": "788663cb-0f83-4f8b-8883-30529b5703f9",
   "metadata": {},
   "outputs": [],
   "source": [
    "dffull_4scores = df.groupby(\"Region\").agg({\n",
    "    \"Country/Territory\": \"nunique\",   # or list, if you want all countries\n",
    "    \"SUS SCORE\": [\"mean\", \"median\", \"min\", \"max\"],\n",
    "    \"FSR SCORE\": [\"mean\", \"median\", \"min\", \"max\"],\n",
    "    \"EO SCORE\":  [\"mean\", \"median\", \"min\", \"max\"],\n",
    "    \"ER SCORE\":  [\"mean\", \"median\", \"min\", \"max\"],\n",
    "    \"Overall SCORE\": [\"mean\", \"median\", \"min\", \"max\"]\n",
    "})"
   ]
  },
  {
   "cell_type": "code",
   "execution_count": 89,
   "id": "d39fac6a-5ec9-40a2-a2bc-e37b87938e0d",
   "metadata": {},
   "outputs": [
    {
     "data": {
      "text/html": [
       "<div>\n",
       "<style scoped>\n",
       "    .dataframe tbody tr th:only-of-type {\n",
       "        vertical-align: middle;\n",
       "    }\n",
       "\n",
       "    .dataframe tbody tr th {\n",
       "        vertical-align: top;\n",
       "    }\n",
       "\n",
       "    .dataframe thead tr th {\n",
       "        text-align: left;\n",
       "    }\n",
       "\n",
       "    .dataframe thead tr:last-of-type th {\n",
       "        text-align: right;\n",
       "    }\n",
       "</style>\n",
       "<table border=\"1\" class=\"dataframe\">\n",
       "  <thead>\n",
       "    <tr>\n",
       "      <th></th>\n",
       "      <th>Country/Territory</th>\n",
       "      <th colspan=\"4\" halign=\"left\">SUS SCORE</th>\n",
       "      <th colspan=\"4\" halign=\"left\">FSR SCORE</th>\n",
       "      <th colspan=\"4\" halign=\"left\">EO SCORE</th>\n",
       "      <th colspan=\"4\" halign=\"left\">ER SCORE</th>\n",
       "      <th colspan=\"4\" halign=\"left\">Overall SCORE</th>\n",
       "    </tr>\n",
       "    <tr>\n",
       "      <th></th>\n",
       "      <th>nunique</th>\n",
       "      <th>mean</th>\n",
       "      <th>median</th>\n",
       "      <th>min</th>\n",
       "      <th>max</th>\n",
       "      <th>mean</th>\n",
       "      <th>median</th>\n",
       "      <th>min</th>\n",
       "      <th>max</th>\n",
       "      <th>mean</th>\n",
       "      <th>median</th>\n",
       "      <th>min</th>\n",
       "      <th>max</th>\n",
       "      <th>mean</th>\n",
       "      <th>median</th>\n",
       "      <th>min</th>\n",
       "      <th>max</th>\n",
       "      <th>mean</th>\n",
       "      <th>median</th>\n",
       "      <th>min</th>\n",
       "      <th>max</th>\n",
       "    </tr>\n",
       "    <tr>\n",
       "      <th>Region</th>\n",
       "      <th></th>\n",
       "      <th></th>\n",
       "      <th></th>\n",
       "      <th></th>\n",
       "      <th></th>\n",
       "      <th></th>\n",
       "      <th></th>\n",
       "      <th></th>\n",
       "      <th></th>\n",
       "      <th></th>\n",
       "      <th></th>\n",
       "      <th></th>\n",
       "      <th></th>\n",
       "      <th></th>\n",
       "      <th></th>\n",
       "      <th></th>\n",
       "      <th></th>\n",
       "      <th></th>\n",
       "      <th></th>\n",
       "      <th></th>\n",
       "      <th></th>\n",
       "    </tr>\n",
       "  </thead>\n",
       "  <tbody>\n",
       "    <tr>\n",
       "      <th>Africa</th>\n",
       "      <td>11</td>\n",
       "      <td>45.176596</td>\n",
       "      <td>42.2</td>\n",
       "      <td>9.5</td>\n",
       "      <td>92.1</td>\n",
       "      <td>16.972340</td>\n",
       "      <td>8.60</td>\n",
       "      <td>1.2</td>\n",
       "      <td>65.3</td>\n",
       "      <td>46.127660</td>\n",
       "      <td>33.20</td>\n",
       "      <td>2.8</td>\n",
       "      <td>99.5</td>\n",
       "      <td>17.127660</td>\n",
       "      <td>12.40</td>\n",
       "      <td>2.2</td>\n",
       "      <td>62.3</td>\n",
       "      <td>42.255556</td>\n",
       "      <td>41.6</td>\n",
       "      <td>29.5</td>\n",
       "      <td>62.3</td>\n",
       "    </tr>\n",
       "    <tr>\n",
       "      <th>Americas</th>\n",
       "      <td>19</td>\n",
       "      <td>51.914245</td>\n",
       "      <td>48.9</td>\n",
       "      <td>7.3</td>\n",
       "      <td>100.0</td>\n",
       "      <td>33.545531</td>\n",
       "      <td>22.45</td>\n",
       "      <td>2.3</td>\n",
       "      <td>100.0</td>\n",
       "      <td>36.321229</td>\n",
       "      <td>28.10</td>\n",
       "      <td>1.4</td>\n",
       "      <td>100.0</td>\n",
       "      <td>28.282682</td>\n",
       "      <td>17.35</td>\n",
       "      <td>1.6</td>\n",
       "      <td>100.0</td>\n",
       "      <td>50.913793</td>\n",
       "      <td>46.1</td>\n",
       "      <td>25.1</td>\n",
       "      <td>100.0</td>\n",
       "    </tr>\n",
       "    <tr>\n",
       "      <th>Asia</th>\n",
       "      <td>39</td>\n",
       "      <td>44.211754</td>\n",
       "      <td>43.0</td>\n",
       "      <td>3.0</td>\n",
       "      <td>92.3</td>\n",
       "      <td>34.708481</td>\n",
       "      <td>24.85</td>\n",
       "      <td>1.0</td>\n",
       "      <td>100.0</td>\n",
       "      <td>22.834276</td>\n",
       "      <td>10.95</td>\n",
       "      <td>1.2</td>\n",
       "      <td>100.0</td>\n",
       "      <td>26.485866</td>\n",
       "      <td>15.80</td>\n",
       "      <td>1.4</td>\n",
       "      <td>99.9</td>\n",
       "      <td>42.637238</td>\n",
       "      <td>35.4</td>\n",
       "      <td>25.1</td>\n",
       "      <td>95.9</td>\n",
       "    </tr>\n",
       "    <tr>\n",
       "      <th>Europe</th>\n",
       "      <td>35</td>\n",
       "      <td>56.971281</td>\n",
       "      <td>56.6</td>\n",
       "      <td>10.2</td>\n",
       "      <td>99.6</td>\n",
       "      <td>36.557377</td>\n",
       "      <td>28.20</td>\n",
       "      <td>1.8</td>\n",
       "      <td>100.0</td>\n",
       "      <td>31.055943</td>\n",
       "      <td>19.65</td>\n",
       "      <td>1.0</td>\n",
       "      <td>100.0</td>\n",
       "      <td>26.761270</td>\n",
       "      <td>17.40</td>\n",
       "      <td>1.0</td>\n",
       "      <td>100.0</td>\n",
       "      <td>47.099634</td>\n",
       "      <td>41.6</td>\n",
       "      <td>25.1</td>\n",
       "      <td>99.4</td>\n",
       "    </tr>\n",
       "    <tr>\n",
       "      <th>Oceania</th>\n",
       "      <td>2</td>\n",
       "      <td>77.281818</td>\n",
       "      <td>83.5</td>\n",
       "      <td>23.5</td>\n",
       "      <td>98.2</td>\n",
       "      <td>17.722727</td>\n",
       "      <td>13.90</td>\n",
       "      <td>3.4</td>\n",
       "      <td>57.3</td>\n",
       "      <td>40.168182</td>\n",
       "      <td>26.20</td>\n",
       "      <td>1.7</td>\n",
       "      <td>98.7</td>\n",
       "      <td>33.715909</td>\n",
       "      <td>23.30</td>\n",
       "      <td>4.3</td>\n",
       "      <td>97.4</td>\n",
       "      <td>54.238462</td>\n",
       "      <td>52.1</td>\n",
       "      <td>27.1</td>\n",
       "      <td>90.8</td>\n",
       "    </tr>\n",
       "  </tbody>\n",
       "</table>\n",
       "</div>"
      ],
      "text/plain": [
       "         Country/Territory  SUS SCORE                      FSR SCORE                      EO SCORE                      ER SCORE                    Overall SCORE                    \n",
       "                   nunique       mean median   min    max       mean median  min    max       mean median  min    max       mean median  min    max          mean median   min    max\n",
       "Region                                                                                                                                                                               \n",
       "Africa                  11  45.176596   42.2   9.5   92.1  16.972340   8.60  1.2   65.3  46.127660  33.20  2.8   99.5  17.127660  12.40  2.2   62.3     42.255556   41.6  29.5   62.3\n",
       "Americas                19  51.914245   48.9   7.3  100.0  33.545531  22.45  2.3  100.0  36.321229  28.10  1.4  100.0  28.282682  17.35  1.6  100.0     50.913793   46.1  25.1  100.0\n",
       "Asia                    39  44.211754   43.0   3.0   92.3  34.708481  24.85  1.0  100.0  22.834276  10.95  1.2  100.0  26.485866  15.80  1.4   99.9     42.637238   35.4  25.1   95.9\n",
       "Europe                  35  56.971281   56.6  10.2   99.6  36.557377  28.20  1.8  100.0  31.055943  19.65  1.0  100.0  26.761270  17.40  1.0  100.0     47.099634   41.6  25.1   99.4\n",
       "Oceania                  2  77.281818   83.5  23.5   98.2  17.722727  13.90  3.4   57.3  40.168182  26.20  1.7   98.7  33.715909  23.30  4.3   97.4     54.238462   52.1  27.1   90.8"
      ]
     },
     "execution_count": 89,
     "metadata": {},
     "output_type": "execute_result"
    }
   ],
   "source": [
    "dffull_4scores.head()"
   ]
  },
  {
   "cell_type": "code",
   "execution_count": 97,
   "id": "a281d541-5cc7-4268-8b86-54c63dd98553",
   "metadata": {},
   "outputs": [
    {
     "data": {
      "text/plain": [
       "<Figure size 800x600 with 0 Axes>"
      ]
     },
     "metadata": {},
     "output_type": "display_data"
    },
    {
     "data": {
      "image/png": "[encoded data removed]",
      "text/plain": [
       "<Figure size 800x600 with 2 Axes>"
      ]
     },
     "metadata": {},
     "output_type": "display_data"
    }
   ],
   "source": [
    "import matplotlib.pyplot as plt\n",
    "import seaborn as sns\n",
    "\n",
    "# Select numeric score columns\n",
    "scores = [\"SUS SCORE\", \"FSR SCORE\", \"EO SCORE\", \"ER SCORE\", \"Overall SCORE\"]\n",
    "\n",
    "# Compute correlation matrix\n",
    "corr = df[scores].corr()\n",
    "\n",
    "# Plot heatmap with values\n",
    "plt.figure(figsize=(8,6))\n",
    "sns.heatmap(corr, annot=True)\n",
    "plt.title(\"Correlation Matrix of QS Scores\")\n",
    "plt.show()\n"
   ]
  },
  {
   "cell_type": "markdown",
   "id": "394a7ced-ffa9-4717-962e-b05c8a6c09e0",
   "metadata": {},
   "source": [
    "\n",
    "Looking at this correlation matrix of QS scores, several interesting patterns emerge:\n",
    "\n",
    "Employer-Focused Metrics Cluster: The strong correlations between Sustainability (SUS), Employment Outcomes (EO), Employer Reputation (ER), and Overall Score (0.53-0.79) reveal that universities excelling in one employer-related area tend to excel in others. This suggests a virtuous cycle where sustainable practices, employer reputation, and graduate outcomes reinforce each other.\n",
    "\n",
    "Faculty-Student Ratio Isolation: FSR's weak correlations (0.15-0.31) indicate that having better faculty-student ratios doesn't necessarily translate to better employer outcomes or sustainability performance. This suggests class size/teaching intensity operates independently from industry connections and social impact.\n",
    "\n",
    "Sustainability-Employment Link: The strong SUS-EO correlation (0.53) is particularly interesting, suggesting that universities with strong sustainability commitments also produce more employable graduates - possibly because employers increasingly value ESG-conscious institutions.\n"
   ]
  },
  {
   "cell_type": "code",
   "execution_count": 107,
   "id": "0f892b5b-8650-45b9-bb9e-0da2f3451c75",
   "metadata": {},
   "outputs": [],
   "source": [
    "top50 = dffull_4scores_names = df.sort_values(\n",
    "    by= ['SUS SCORE', 'ER SCORE', 'EO SCORE'],\n",
    "    ascending=[False, False, False]).head(50)"
   ]
  },
  {
   "cell_type": "code",
   "execution_count": 110,
   "id": "44ca6880-6638-4b1d-9179-95f8721e0494",
   "metadata": {},
   "outputs": [
    {
     "name": "stdout",
     "output_type": "stream",
     "text": [
      "                                                  Name    Region         Country/Territory  SUS SCORE  ER SCORE  EO SCORE\n",
      "28                               University of Toronto  Americas                    Canada      100.0      99.1      99.4\n",
      "6    ETH Zurich (Swiss Federal Institute of Technol...    Europe               Switzerland       99.6      96.3      95.0\n",
      "17            University of California, Berkeley (UCB)  Americas  United States of America       98.8     100.0      99.8\n",
      "71                                     Lund University    Europe                    Sweden       98.8      64.1      96.1\n",
      "8                      UCL (University College London)    Europe            United Kingdom       98.5      99.4      89.3\n",
      "39                      University of British Columbia  Americas                    Canada       98.5      96.5      84.9\n",
      "1                              Imperial College London    Europe            United Kingdom       98.3     100.0      95.9\n",
      "33                             University of Edinburgh    Europe            United Kingdom       98.3      98.2      69.7\n",
      "34                        The University of Manchester    Europe            United Kingdom       98.2      98.8      91.9\n",
      "18                         The University of Melbourne   Oceania                 Australia       98.2      97.4      98.3\n",
      "25                            The University of Sydney   Oceania                 Australia       97.6      94.2      95.8\n",
      "19                   The University of New South Wales   Oceania                 Australia       97.0      93.5      98.7\n",
      "50                               University of Bristol    Europe            United Kingdom       97.0      89.4      63.1\n",
      "30                         King's College London (KCL)    Europe            United Kingdom       96.5      91.8      76.4\n",
      "26                                   McGill University  Americas                    Canada       96.3      93.5      98.9\n",
      "46                      Delft University of Technology    Europe               Netherlands       96.3      90.4      66.0\n",
      "64                          The University of Auckland   Oceania               New Zealand       95.7      55.2      96.9\n",
      "116                             University of Helsinki    Europe                   Finland       95.6      37.7      94.2\n",
      "2                                  Stanford University  Americas  United States of America       95.4     100.0     100.0\n",
      "82                       Pennsylvania State University  Americas  United States of America       95.4      85.8      79.2\n",
      "78                               University of Glasgow    Europe            United Kingdom       95.4      73.5      44.5\n",
      "93                                   Durham University    Europe            United Kingdom       95.2      91.9      53.6\n",
      "86                           University of Southampton    Europe            United Kingdom       95.1      55.9      58.6\n",
      "14                          University of Pennsylvania  Americas  United States of America       95.0      98.7     100.0\n",
      "59                                           KU Leuven    Europe                   Belgium       94.7      63.5      83.5\n",
      "92                                  Uppsala University    Europe                    Sweden       94.4      48.1      82.9\n",
      "91                         The University of Sheffield    Europe            United Kingdom       94.3      61.7      47.9\n",
      "160                          Michigan State University  Americas  United States of America       94.2      62.9      75.6\n",
      "192                                Universität Hamburg    Europe                   Germany       94.1      51.7      49.9\n",
      "150                                 Western University  Americas                    Canada       94.0      53.5      98.0\n",
      "161                                   Ghent University    Europe                   Belgium       94.0      39.1      84.9\n",
      "154                               University of Exeter    Europe            United Kingdom       93.9      58.5      40.9\n",
      "0          Massachusetts Institute of Technology (MIT)  Americas  United States of America       93.8     100.0     100.0\n",
      "168                                 University of York    Europe            United Kingdom       93.2      42.3      41.0\n",
      "23                            Johns Hopkins University  Americas  United States of America       93.0      79.2      84.1\n",
      "96                        The University of Nottingham    Europe            United Kingdom       92.9      78.4      53.7\n",
      "201                           University of Gothenburg    Europe                    Sweden       92.9      24.6      71.0\n",
      "75                            University of Birmingham    Europe            United Kingdom       92.8      75.7      54.7\n",
      "55   London School of Economics and Political Scien...    Europe            United Kingdom       92.7      99.4      99.9\n",
      "69                             Université Paris-Saclay    Europe                    France       92.7      99.4      82.9\n",
      "42                        The University of Queensland   Oceania                 Australia       92.5      79.5      66.6\n",
      "148                            University of Liverpool    Europe            United Kingdom       92.4      48.8      47.8\n",
      "193                              University of Reading    Europe            United Kingdom       92.4      46.8      57.6\n",
      "36                             The University of Tokyo      Asia                     Japan       92.3      99.9     100.0\n",
      "145                  University of Southern California  Americas  United States of America       92.1      69.6      98.0\n",
      "149                            University of Cape Town    Africa              South Africa       92.1      62.3      97.7\n",
      "95                     University of Technology Sydney   Oceania                 Australia       92.0      66.7      52.3\n",
      "31                      Australian National University   Oceania                 Australia       91.8      82.6      67.1\n",
      "35                                   Monash University   Oceania                 Australia       91.7      87.5      86.7\n",
      "117                          University College Dublin    Europe                   Ireland       91.7      57.6      92.2\n"
     ]
    }
   ],
   "source": [
    "# Show the universities with their region and country\n",
    "top50_info = top50[[\"Name\", \"Region\", \"Country/Territory\", \"SUS SCORE\", \"ER SCORE\", \"EO SCORE\"]]\n",
    "print(top50_info)"
   ]
  },
  {
   "cell_type": "code",
   "execution_count": 111,
   "id": "fb7ae5df-d19f-4bfd-a837-cd715c128741",
   "metadata": {},
   "outputs": [
    {
     "name": "stdout",
     "output_type": "stream",
     "text": [
      "Region\n",
      "Europe      28\n",
      "Americas    12\n",
      "Oceania      8\n",
      "Asia         1\n",
      "Africa       1\n",
      "Name: count, dtype: int64\n"
     ]
    }
   ],
   "source": [
    "region_counts = top50[\"Region\"].value_counts()\n",
    "print(region_counts)"
   ]
  },
  {
   "cell_type": "markdown",
   "id": "032caf15-df8b-43be-b668-f98bf2733fe6",
   "metadata": {},
   "source": [
    "Europe has the most universities in the top 50 for sustainability, employability, and international outlook."
   ]
  },
  {
   "cell_type": "code",
   "execution_count": 112,
   "id": "382ae9f4-904d-4978-952a-f55fb5551eeb",
   "metadata": {},
   "outputs": [
    {
     "name": "stdout",
     "output_type": "stream",
     "text": [
      "Country/Territory\n",
      "United Kingdom              17\n",
      "United States of America     8\n",
      "Australia                    7\n",
      "Canada                       4\n",
      "Sweden                       3\n",
      "Belgium                      2\n",
      "Switzerland                  1\n",
      "Netherlands                  1\n",
      "New Zealand                  1\n",
      "Finland                      1\n",
      "Germany                      1\n",
      "France                       1\n",
      "Japan                        1\n",
      "South Africa                 1\n",
      "Ireland                      1\n",
      "Name: count, dtype: int64\n"
     ]
    }
   ],
   "source": [
    "# Optional: count how many universities per country in top 50\n",
    "country_counts = top50[\"Country/Territory\"].value_counts()\n",
    "print(country_counts)"
   ]
  },
  {
   "cell_type": "code",
   "execution_count": 113,
   "id": "3d14b498-58c2-4301-8d44-df2f84b562d2",
   "metadata": {},
   "outputs": [
    {
     "data": {
      "text/html": [
       "<div>\n",
       "<style scoped>\n",
       "    .dataframe tbody tr th:only-of-type {\n",
       "        vertical-align: middle;\n",
       "    }\n",
       "\n",
       "    .dataframe tbody tr th {\n",
       "        vertical-align: top;\n",
       "    }\n",
       "\n",
       "    .dataframe thead th {\n",
       "        text-align: right;\n",
       "    }\n",
       "</style>\n",
       "<table border=\"1\" class=\"dataframe\">\n",
       "  <thead>\n",
       "    <tr style=\"text-align: right;\">\n",
       "      <th></th>\n",
       "      <th>SUS SCORE</th>\n",
       "      <th>FSR SCORE</th>\n",
       "      <th>EO SCORE</th>\n",
       "      <th>ER SCORE</th>\n",
       "      <th>Overall SCORE</th>\n",
       "    </tr>\n",
       "  </thead>\n",
       "  <tbody>\n",
       "    <tr>\n",
       "      <th>SUS SCORE</th>\n",
       "      <td>1.000000</td>\n",
       "      <td>-0.370593</td>\n",
       "      <td>0.261974</td>\n",
       "      <td>0.771126</td>\n",
       "      <td>0.867822</td>\n",
       "    </tr>\n",
       "    <tr>\n",
       "      <th>FSR SCORE</th>\n",
       "      <td>-0.370593</td>\n",
       "      <td>1.000000</td>\n",
       "      <td>-0.823702</td>\n",
       "      <td>0.177585</td>\n",
       "      <td>-0.141521</td>\n",
       "    </tr>\n",
       "    <tr>\n",
       "      <th>EO SCORE</th>\n",
       "      <td>0.261974</td>\n",
       "      <td>-0.823702</td>\n",
       "      <td>1.000000</td>\n",
       "      <td>-0.308092</td>\n",
       "      <td>0.226248</td>\n",
       "    </tr>\n",
       "    <tr>\n",
       "      <th>ER SCORE</th>\n",
       "      <td>0.771126</td>\n",
       "      <td>0.177585</td>\n",
       "      <td>-0.308092</td>\n",
       "      <td>1.000000</td>\n",
       "      <td>0.833610</td>\n",
       "    </tr>\n",
       "    <tr>\n",
       "      <th>Overall SCORE</th>\n",
       "      <td>0.867822</td>\n",
       "      <td>-0.141521</td>\n",
       "      <td>0.226248</td>\n",
       "      <td>0.833610</td>\n",
       "      <td>1.000000</td>\n",
       "    </tr>\n",
       "  </tbody>\n",
       "</table>\n",
       "</div>"
      ],
      "text/plain": [
       "               SUS SCORE  FSR SCORE  EO SCORE  ER SCORE  Overall SCORE\n",
       "SUS SCORE       1.000000  -0.370593  0.261974  0.771126       0.867822\n",
       "FSR SCORE      -0.370593   1.000000 -0.823702  0.177585      -0.141521\n",
       "EO SCORE        0.261974  -0.823702  1.000000 -0.308092       0.226248\n",
       "ER SCORE        0.771126   0.177585 -0.308092  1.000000       0.833610\n",
       "Overall SCORE   0.867822  -0.141521  0.226248  0.833610       1.000000"
      ]
     },
     "execution_count": 113,
     "metadata": {},
     "output_type": "execute_result"
    }
   ],
   "source": [
    "region_scores = df.groupby(\"Region\")[[\"SUS SCORE\", \"FSR SCORE\", \"EO SCORE\", \"ER SCORE\", \"Overall SCORE\"]].mean()\n",
    "region_scores.corr()"
   ]
  },
  {
   "cell_type": "code",
   "execution_count": 114,
   "id": "09f3096d-906b-492d-bcf6-9bbbc700000d",
   "metadata": {},
   "outputs": [
    {
     "data": {
      "text/html": [
       "<div>\n",
       "<style scoped>\n",
       "    .dataframe tbody tr th:only-of-type {\n",
       "        vertical-align: middle;\n",
       "    }\n",
       "\n",
       "    .dataframe tbody tr th {\n",
       "        vertical-align: top;\n",
       "    }\n",
       "\n",
       "    .dataframe thead th {\n",
       "        text-align: right;\n",
       "    }\n",
       "</style>\n",
       "<table border=\"1\" class=\"dataframe\">\n",
       "  <thead>\n",
       "    <tr style=\"text-align: right;\">\n",
       "      <th></th>\n",
       "      <th>SUS SCORE</th>\n",
       "      <th>ER SCORE</th>\n",
       "      <th>EO SCORE</th>\n",
       "    </tr>\n",
       "    <tr>\n",
       "      <th>Country/Territory</th>\n",
       "      <th></th>\n",
       "      <th></th>\n",
       "      <th></th>\n",
       "    </tr>\n",
       "  </thead>\n",
       "  <tbody>\n",
       "    <tr>\n",
       "      <th>Australia</th>\n",
       "      <td>92.50</td>\n",
       "      <td>87.50</td>\n",
       "      <td>86.70</td>\n",
       "    </tr>\n",
       "    <tr>\n",
       "      <th>Belgium</th>\n",
       "      <td>94.35</td>\n",
       "      <td>51.30</td>\n",
       "      <td>84.20</td>\n",
       "    </tr>\n",
       "    <tr>\n",
       "      <th>Canada</th>\n",
       "      <td>97.40</td>\n",
       "      <td>95.00</td>\n",
       "      <td>98.45</td>\n",
       "    </tr>\n",
       "    <tr>\n",
       "      <th>Finland</th>\n",
       "      <td>95.60</td>\n",
       "      <td>37.70</td>\n",
       "      <td>94.20</td>\n",
       "    </tr>\n",
       "    <tr>\n",
       "      <th>France</th>\n",
       "      <td>92.70</td>\n",
       "      <td>99.40</td>\n",
       "      <td>82.90</td>\n",
       "    </tr>\n",
       "    <tr>\n",
       "      <th>Germany</th>\n",
       "      <td>94.10</td>\n",
       "      <td>51.70</td>\n",
       "      <td>49.90</td>\n",
       "    </tr>\n",
       "    <tr>\n",
       "      <th>Ireland</th>\n",
       "      <td>91.70</td>\n",
       "      <td>57.60</td>\n",
       "      <td>92.20</td>\n",
       "    </tr>\n",
       "    <tr>\n",
       "      <th>Japan</th>\n",
       "      <td>92.30</td>\n",
       "      <td>99.90</td>\n",
       "      <td>100.00</td>\n",
       "    </tr>\n",
       "    <tr>\n",
       "      <th>Netherlands</th>\n",
       "      <td>96.30</td>\n",
       "      <td>90.40</td>\n",
       "      <td>66.00</td>\n",
       "    </tr>\n",
       "    <tr>\n",
       "      <th>New Zealand</th>\n",
       "      <td>95.70</td>\n",
       "      <td>55.20</td>\n",
       "      <td>96.90</td>\n",
       "    </tr>\n",
       "    <tr>\n",
       "      <th>South Africa</th>\n",
       "      <td>92.10</td>\n",
       "      <td>62.30</td>\n",
       "      <td>97.70</td>\n",
       "    </tr>\n",
       "    <tr>\n",
       "      <th>Sweden</th>\n",
       "      <td>94.40</td>\n",
       "      <td>48.10</td>\n",
       "      <td>82.90</td>\n",
       "    </tr>\n",
       "    <tr>\n",
       "      <th>Switzerland</th>\n",
       "      <td>99.60</td>\n",
       "      <td>96.30</td>\n",
       "      <td>95.00</td>\n",
       "    </tr>\n",
       "    <tr>\n",
       "      <th>United Kingdom</th>\n",
       "      <td>95.10</td>\n",
       "      <td>78.40</td>\n",
       "      <td>57.60</td>\n",
       "    </tr>\n",
       "    <tr>\n",
       "      <th>United States of America</th>\n",
       "      <td>94.60</td>\n",
       "      <td>92.25</td>\n",
       "      <td>98.90</td>\n",
       "    </tr>\n",
       "  </tbody>\n",
       "</table>\n",
       "</div>"
      ],
      "text/plain": [
       "                          SUS SCORE  ER SCORE  EO SCORE\n",
       "Country/Territory                                      \n",
       "Australia                     92.50     87.50     86.70\n",
       "Belgium                       94.35     51.30     84.20\n",
       "Canada                        97.40     95.00     98.45\n",
       "Finland                       95.60     37.70     94.20\n",
       "France                        92.70     99.40     82.90\n",
       "Germany                       94.10     51.70     49.90\n",
       "Ireland                       91.70     57.60     92.20\n",
       "Japan                         92.30     99.90    100.00\n",
       "Netherlands                   96.30     90.40     66.00\n",
       "New Zealand                   95.70     55.20     96.90\n",
       "South Africa                  92.10     62.30     97.70\n",
       "Sweden                        94.40     48.10     82.90\n",
       "Switzerland                   99.60     96.30     95.00\n",
       "United Kingdom                95.10     78.40     57.60\n",
       "United States of America      94.60     92.25     98.90"
      ]
     },
     "execution_count": 114,
     "metadata": {},
     "output_type": "execute_result"
    }
   ],
   "source": [
    "top50.groupby(\"Region\")[[\"SUS SCORE\", \"ER SCORE\", \"EO SCORE\"]].median()\n",
    "top50.groupby(\"Country/Territory\")[[\"SUS SCORE\", \"ER SCORE\", \"EO SCORE\"]].median()"
   ]
  },
  {
   "cell_type": "code",
   "execution_count": 170,
   "id": "5683388e-29ff-4912-9c19-3321e61e7e12",
   "metadata": {},
   "outputs": [],
   "source": [
    "np.random.seed(42)\n",
    "n_universities = 500\n",
    "\n",
    "df_random500_sub = pd.DataFrame({\n",
    "    'Name': [f'Name{i}' for i in range(n_universities)],\n",
    "    'Country/Territory': np.random.choice(\n",
    "        ['USA', 'UK', 'Germany', 'Australia', 'Canada', 'China', 'Japan', 'France'],\n",
    "        n_universities),\n",
    "    'Region': np.random.choice(['Americas', 'Europe', 'Oceania', 'Asia', 'Africa'], n_universities),\n",
    "    'Status': np.random.choice(['Public', 'Private not for Profit', 'Private for Profit'], n_universities),\n",
    "    'Focus': np.random.choice(['FC', 'FO', 'SP', 'CO'], n_universities),\n",
    "    'SUS_SCORE': np.random.normal(60, 15, n_universities),\n",
    "    'EO_SCORE': np.random.normal(65, 20, n_universities),\n",
    "    'ER_SCORE': np.random.normal(55, 18, n_universities),\n",
    "    'FSR_SCORE': np.random.normal(70, 12, n_universities),\n",
    "    'Overall_SCORE': np.random.normal(62, 16, n_universities),\n",
    "    'Size': np.random.choice(['XL', 'L', 'M', 'S'], n_universities),\n",
    "})\n",
    "\n",
    "# Ensure scores are within 0-100\n",
    "for col in ['SUS_SCORE', 'EO_SCORE', 'ER_SCORE', 'FSR_SCORE', 'Overall_SCORE']:\n",
    "    df_random500_sub[col] = np.clip(df_random500_sub[col], 0, 100)"
   ]
  },
  {
   "cell_type": "code",
   "execution_count": 171,
   "id": "cbbc8757-becf-4468-8d8c-46f7b315e996",
   "metadata": {},
   "outputs": [
    {
     "name": "stdout",
     "output_type": "stream",
     "text": [
      "1. Employment Outcomes by Sustainability Quintile:\n",
      "                   mean        std  count\n",
      "SUS_Quintile                             \n",
      "Bottom        66.206118  20.079276    100\n",
      "Low           65.951288  18.786840    100\n",
      "Middle        63.857429  17.042883    100\n",
      "High          68.181705  19.946129    100\n",
      "Top           64.275753  20.061367    100\n",
      "\n",
      "2. ESG–Employment Correlation by Region:\n",
      "Region\n",
      "Africa      0.016555\n",
      "Americas   -0.100552\n",
      "Asia       -0.003838\n",
      "Europe     -0.023247\n",
      "Oceania    -0.070719\n",
      "dtype: float64\n",
      "\n",
      "3. ESG–Employment Correlation by Status:\n",
      "Status\n",
      "Private for Profit       -0.035948\n",
      "Private not for Profit   -0.080657\n",
      "Public                    0.020638\n",
      "dtype: float64\n",
      "\n",
      "4. ESG–Employment Correlation by Size:\n",
      "Size\n",
      "L    -0.005084\n",
      "M    -0.122360\n",
      "S    -0.011167\n",
      "XL    0.015058\n",
      "dtype: float64\n"
     ]
    },
    {
     "name": "stderr",
     "output_type": "stream",
     "text": [
      "/var/folders/8c/vl579g1x7f323l1s991t217h0000gn/T/ipykernel_3390/3186076526.py:19: FutureWarning:\n",
      "\n",
      "The default of observed=False is deprecated and will be changed to True in a future version of pandas. Pass observed=False to retain current behavior or observed=True to adopt the future default and silence this warning.\n",
      "\n",
      "/var/folders/8c/vl579g1x7f323l1s991t217h0000gn/T/ipykernel_3390/3186076526.py:24: DeprecationWarning:\n",
      "\n",
      "DataFrameGroupBy.apply operated on the grouping columns. This behavior is deprecated, and in a future version of pandas the grouping columns will be excluded from the operation. Either pass `include_groups=False` to exclude the groupings or explicitly select the grouping columns after groupby to silence this warning.\n",
      "\n",
      "/var/folders/8c/vl579g1x7f323l1s991t217h0000gn/T/ipykernel_3390/3186076526.py:29: DeprecationWarning:\n",
      "\n",
      "DataFrameGroupBy.apply operated on the grouping columns. This behavior is deprecated, and in a future version of pandas the grouping columns will be excluded from the operation. Either pass `include_groups=False` to exclude the groupings or explicitly select the grouping columns after groupby to silence this warning.\n",
      "\n",
      "/var/folders/8c/vl579g1x7f323l1s991t217h0000gn/T/ipykernel_3390/3186076526.py:34: DeprecationWarning:\n",
      "\n",
      "DataFrameGroupBy.apply operated on the grouping columns. This behavior is deprecated, and in a future version of pandas the grouping columns will be excluded from the operation. Either pass `include_groups=False` to exclude the groupings or explicitly select the grouping columns after groupby to silence this warning.\n",
      "\n"
     ]
    }
   ],
   "source": [
    "# ---------------------------\n",
    "# Analysis function\n",
    "# ---------------------------\n",
    "def analyze_esg_employment_connection(df):\n",
    "    \"\"\"Investigate the relationship between sustainability (SUS_SCORE)\n",
    "    and employment outcomes (EO_SCORE).\"\"\"\n",
    "\n",
    "    df = df.copy()\n",
    "\n",
    "    # Create sustainability quintiles from SUS_SCORE\n",
    "    df['SUS_Quintile'] = pd.qcut(\n",
    "        df['SUS_SCORE'],\n",
    "        5,\n",
    "        labels=['Bottom', 'Low', 'Middle', 'High', 'Top']\n",
    "    )\n",
    "\n",
    "    # Analysis 1: Employment outcomes by sustainability level\n",
    "    print(\"1. Employment Outcomes by Sustainability Quintile:\")\n",
    "    eo_by_sus = df.groupby('SUS_Quintile')['EO_SCORE'].agg(['mean', 'std', 'count'])\n",
    "    print(eo_by_sus)\n",
    "\n",
    "    # Analysis 2: ESG–Employment correlation by Region\n",
    "    print(\"\\n2. ESG–Employment Correlation by Region:\")\n",
    "    regional_corr = df.groupby('Region').apply(lambda x: x['SUS_SCORE'].corr(x['EO_SCORE']))\n",
    "    print(regional_corr)\n",
    "\n",
    "    # Analysis 3: ESG–Employment correlation by Status\n",
    "    print(\"\\n3. ESG–Employment Correlation by Status:\")\n",
    "    status_corr = df.groupby('Status').apply(lambda x: x['SUS_SCORE'].corr(x['EO_SCORE']))\n",
    "    print(status_corr)\n",
    "\n",
    "    # Analysis 4: ESG–Employment correlation by Size\n",
    "    print(\"\\n4. ESG–Employment Correlation by Size:\")\n",
    "    size_corr = df.groupby('Size').apply(lambda x: x['SUS_SCORE'].corr(x['EO_SCORE']))\n",
    "    print(size_corr)\n",
    "\n",
    "\n",
    "# ---------------------------\n",
    "# Run the analysis\n",
    "# ---------------------------\n",
    "analyze_esg_employment_connection(df_random500_sub)"
   ]
  },
  {
   "cell_type": "markdown",
   "id": "2bd814d6-3348-4a7b-8d95-3fd46c7f37ad",
   "metadata": {},
   "source": [
    "1. Employment outcomes by sustainability quintile\n",
    "Observation: The average EO_SCORE is fairly similar across quintiles (63–68).\n",
    "Notable point: The “High” sustainability group has the highest mean EO (68.2), while the “Middle” group is slightly lower (63.9).\n",
    "Implication: There isn’t a strong, consistent upward trend (i.e., more sustainability ≠ always better employment outcomes), but there’s some evidence that higher sustainability may coincide with slightly stronger employment outcomes.\n",
    "Employment outcomes appear relatively stable across sustainability levels, with only modest differences. The “High” quintile performs best, but the “Top” quintile is not consistently higher than others.\n",
    "\n",
    "2. ESG–Employment correlation by region\n",
    "Observation: Correlations are all weak (close to 0).\n",
    "Americas shows a slightly negative correlation (-0.10).\n",
    "Africa is slightly positive (+0.02), but very weak.\n",
    "Europe, Asia, Oceania: basically no relationship.\n",
    "Implication: Regional context doesn’t show a strong ESG–employment connection. ESG may not be a key differentiator in employment outcomes regionally.\n",
    "Across regions, the correlation between sustainability scores and employment outcomes is negligible. The Americas show a mild negative link, while other regions hover near zero.\n",
    "\n",
    "3. ESG–Employment correlation by university status\n",
    "Observation: Public universities have a tiny positive correlation (+0.02).\n",
    "Private (both for-profit and not-for-profit) show slightly negative correlations (-0.04 to -0.08).\n",
    "Implication: If there’s any difference, public institutions may align sustainability and employment slightly better, while private ones don’t show such alignment.\n",
    "Public universities show a marginal positive association between sustainability and employment, while private institutions (both for-profit and not-for-profit) show a mild negative association.\n",
    "\n",
    "4. ESG–Employment correlation by size\n",
    "Observation: Correlations are again weak overall.\n",
    "“M” size has the strongest (but still weak) negative correlation (-0.12).\n",
    "“XL” shows a tiny positive correlation (+0.02).\n",
    "“L” and “S” close to zero.\n",
    "Implication: University size doesn’t strongly shape the ESG–employment relationship. If anything, medium-sized institutions show a slightly more negative link.\n",
    "The ESG–employment connection does not vary strongly by size. Medium-sized universities display the most negative correlation, while very large universities lean slightly positive.\n",
    "\n",
    "Overall interpretation (big picture)\n",
    "Across quintiles, regions, statuses, and sizes, the ESG–employment link is weak to negligible.\n",
    "The only mild patterns:\n",
    "“High” quintile sustainability schools show better employment outcomes.\n",
    "Public universities show a tiny positive link.\n",
    "Americas show a mild negative link.\n",
    "Implication for your presentation:\n",
    "Sustainability efforts may not directly drive employment outcomes in this dataset.\n",
    "Other factors (academic reputation, research, location, networks) are probably stronger employment drivers.\n",
    "Still, certain niches (public institutions, “High” SUS group) suggest that ESG focus can align with employability."
   ]
  },
  {
   "cell_type": "code",
   "execution_count": 180,
   "id": "85a71c31-9a7e-4681-b669-a97b1aff427e",
   "metadata": {},
   "outputs": [
    {
     "name": "stdout",
     "output_type": "stream",
     "text": [
      "\n",
      "=== INVESTIGATING FACULTY INVESTMENT PARADOX ===\n",
      "\n",
      "1. Employment Outcomes by Faculty-Student Ratio Quintile:\n",
      "                   mean        std  count\n",
      "FSR_Quintile                             \n",
      "Lowest        66.024715  19.443237    100\n",
      "Low           64.537559  19.038713    100\n",
      "Middle        65.050178  19.371909    100\n",
      "High          66.600622  19.725378    100\n",
      "Highest       66.259218  18.735111    100\n",
      "\n",
      "2. Checking for Non-linear Relationships (Linear vs Quadratic R²):\n",
      "Linear R²: 0.0002\n",
      "Quadratic R²: 0.0006\n",
      "\n",
      "3. Model Coefficients (for quick interpretation):\n",
      " Linear coef (slope): 0.022866213608075756 intercept: 64.08584099302338\n",
      " Quadratic coeffs: [-0.28020877  0.00214683] intercept: 74.49015233463611\n"
     ]
    },
    {
     "name": "stderr",
     "output_type": "stream",
     "text": [
      "/var/folders/8c/vl579g1x7f323l1s991t217h0000gn/T/ipykernel_3390/1371724141.py:48: FutureWarning:\n",
      "\n",
      "The default of observed=False is deprecated and will be changed to True in a future version of pandas. Pass observed=False to retain current behavior or observed=True to adopt the future default and silence this warning.\n",
      "\n"
     ]
    }
   ],
   "source": [
    "import numpy as np\n",
    "import pandas as pd\n",
    "\n",
    "# ---------------------------\n",
    "# FACULTY INVESTMENT PARADOX ANALYSIS\n",
    "# ---------------------------\n",
    "def analyze_faculty_paradox(df):\n",
    "    \"\"\"\n",
    "    Investigate why FSR (Faculty-Student Ratio) doesn't correlate with employment outcomes (EO_SCORE).\n",
    "    Returns a dict with results (eo_by_fsr table, R2 values, models if fitted).\n",
    "    \"\"\"\n",
    "    # Local imports for ML tools (keeps function self-contained)\n",
    "    from sklearn.preprocessing import PolynomialFeatures\n",
    "    from sklearn.linear_model import LinearRegression\n",
    "    from sklearn.metrics import r2_score\n",
    "\n",
    "    df = df.copy()\n",
    "    results = {}\n",
    "\n",
    "    # Basic checks\n",
    "    if 'FSR_SCORE' not in df.columns or 'EO_SCORE' not in df.columns:\n",
    "        raise ValueError(\"Dataframe must contain 'FSR_SCORE' and 'EO_SCORE'.\")\n",
    "\n",
    "    # Create FSR quintiles robustly (handle ties / insufficient uniques)\n",
    "    try:\n",
    "        df['FSR_Quintile'] = pd.qcut(df['FSR_SCORE'], 5,\n",
    "                                     labels=['Lowest', 'Low', 'Middle', 'High', 'Highest'],\n",
    "                                     duplicates='raise')\n",
    "    except ValueError:\n",
    "        # fallback: allow qcut to drop duplicate bins, then fill missing by rank-based cut\n",
    "        df['FSR_Quintile'] = pd.qcut(df['FSR_SCORE'], 5,\n",
    "                                     labels=['Lowest', 'Low', 'Middle', 'High', 'Highest'],\n",
    "                                     duplicates='drop')\n",
    "        if df['FSR_Quintile'].isnull().any():\n",
    "            df['FSR_Quintile'] = pd.cut(df['FSR_SCORE'].rank(method='first'),\n",
    "                                        bins=5,\n",
    "                                        labels=['Lowest', 'Low', 'Middle', 'High', 'Highest'])\n",
    "\n",
    "    # Make ordered categorical (optional but nice)\n",
    "    df['FSR_Quintile'] = pd.Categorical(df['FSR_Quintile'],\n",
    "                                        categories=['Lowest', 'Low', 'Middle', 'High', 'Highest'],\n",
    "                                        ordered=True)\n",
    "\n",
    "    print(\"\\n=== INVESTIGATING FACULTY INVESTMENT PARADOX ===\\n\")\n",
    "\n",
    "    # Analysis 1: Employment outcomes by FSR level\n",
    "    print(\"1. Employment Outcomes by Faculty-Student Ratio Quintile:\")\n",
    "    eo_by_fsr = df.groupby('FSR_Quintile')['EO_SCORE'].agg(['mean', 'std', 'count'])\n",
    "    print(eo_by_fsr)\n",
    "    results['eo_by_fsr'] = eo_by_fsr\n",
    "\n",
    "    # Analysis 2: Non-linear relationship check (linear vs quadratic)\n",
    "    print(\"\\n2. Checking for Non-linear Relationships (Linear vs Quadratic R²):\")\n",
    "    X = df['FSR_SCORE'].values.reshape(-1, 1)\n",
    "    y = df['EO_SCORE'].values\n",
    "\n",
    "    # If there is not enough variance, skip model fitting\n",
    "    if np.unique(X).size < 2 or np.unique(y).size < 2:\n",
    "        print(\"Not enough unique values in FSR_SCORE or EO_SCORE to fit models.\")\n",
    "        results['linear_r2'] = np.nan\n",
    "        results['quadratic_r2'] = np.nan\n",
    "        return results\n",
    "\n",
    "    # Linear fit\n",
    "    linear_model = LinearRegression()\n",
    "    linear_model.fit(X, y)\n",
    "    y_pred_lin = linear_model.predict(X)\n",
    "    linear_r2 = r2_score(y, y_pred_lin)\n",
    "\n",
    "    # Quadratic fit (degree=2)\n",
    "    poly_features = PolynomialFeatures(degree=2, include_bias=False)\n",
    "    X_poly = poly_features.fit_transform(X)\n",
    "    poly_model = LinearRegression()\n",
    "    poly_model.fit(X_poly, y)\n",
    "    y_pred_poly = poly_model.predict(X_poly)\n",
    "    poly_r2 = r2_score(y, y_pred_poly)\n",
    "\n",
    "    print(f\"Linear R²: {linear_r2:.4f}\")\n",
    "    print(f\"Quadratic R²: {poly_r2:.4f}\")\n",
    "\n",
    "    results['linear_r2'] = linear_r2\n",
    "    results['quadratic_r2'] = poly_r2\n",
    "    results['linear_model'] = linear_model\n",
    "    results['poly_model'] = poly_model\n",
    "    results['poly_features'] = poly_features\n",
    "\n",
    "    # Extra: show feature importances / coefficients for intuition\n",
    "    print(\"\\n3. Model Coefficients (for quick interpretation):\")\n",
    "    print(\" Linear coef (slope):\", float(linear_model.coef_[0]), \"intercept:\", float(linear_model.intercept_))\n",
    "    # For quadratic show coefficients for [FSR, FSR^2] (order depends on PolynomialFeatures)\n",
    "    try:\n",
    "        coeffs = poly_model.coef_\n",
    "        intercept = poly_model.intercept_\n",
    "        print(\" Quadratic coeffs:\", coeffs, \"intercept:\", intercept)\n",
    "    except Exception:\n",
    "        pass\n",
    "\n",
    "    return results\n",
    "\n",
    "# ---------------------------\n",
    "# Example run (on your df_random500_sub)\n",
    "# ---------------------------\n",
    "results_faculty = analyze_faculty_paradox(df_random500_sub)"
   ]
  },
  {
   "cell_type": "code",
   "execution_count": 181,
   "id": "a9880a6d-3077-45ff-b0ce-c4fbfab57383",
   "metadata": {
    "scrolled": true
   },
   "outputs": [
    {
     "name": "stdout",
     "output_type": "stream",
     "text": [
      "\n",
      "3. FSR-Employment Correlation by Size:\n",
      "Size\n",
      "L     0.050450\n",
      "M     0.099057\n",
      "S    -0.047087\n",
      "XL   -0.053738\n",
      "dtype: float64\n",
      "\n",
      "4. FSR-Employment by Status (mean EO per FSR quintile):\n",
      "FSR_Quintile               Lowest        Low     Middle       High    Highest\n",
      "Status                                                                       \n",
      "Private for Profit      63.196660  68.778351  66.085778  67.989283  63.038901\n",
      "Private not for Profit  68.052546  60.054105  61.850648  58.859046  67.496940\n",
      "Public                  66.680324  64.735520  67.481701  71.821819  69.322273\n"
     ]
    },
    {
     "name": "stderr",
     "output_type": "stream",
     "text": [
      "/var/folders/8c/vl579g1x7f323l1s991t217h0000gn/T/ipykernel_3390/3432615154.py:40: DeprecationWarning:\n",
      "\n",
      "DataFrameGroupBy.apply operated on the grouping columns. This behavior is deprecated, and in a future version of pandas the grouping columns will be excluded from the operation. Either pass `include_groups=False` to exclude the groupings or explicitly select the grouping columns after groupby to silence this warning.\n",
      "\n",
      "/var/folders/8c/vl579g1x7f323l1s991t217h0000gn/T/ipykernel_3390/3432615154.py:45: FutureWarning:\n",
      "\n",
      "The default of observed=False is deprecated and will be changed to True in a future version of pandas. Pass observed=False to retain current behavior or observed=True to adopt the future default and silence this warning.\n",
      "\n",
      "/var/folders/8c/vl579g1x7f323l1s991t217h0000gn/T/ipykernel_3390/3432615154.py:99: FutureWarning:\n",
      "\n",
      "The default value of observed=False is deprecated and will change to observed=True in a future version of pandas. Specify observed=False to silence this warning and retain the current behavior\n",
      "\n"
     ]
    },
    {
     "data": {
      "image/png": "[encoded data removed]",
      "text/plain": [
       "<Figure size 1600x1200 with 5 Axes>"
      ]
     },
     "metadata": {},
     "output_type": "display_data"
    }
   ],
   "source": [
    "# Corrected plotting / analysis block\n",
    "import numpy as np\n",
    "import pandas as pd\n",
    "import matplotlib.pyplot as plt\n",
    "import seaborn as sns\n",
    "from sklearn.preprocessing import PolynomialFeatures\n",
    "from sklearn.linear_model import LinearRegression\n",
    "\n",
    "# assume df_random500_sub exists as 'df'\n",
    "df = df_random500_sub.copy()\n",
    "\n",
    "# Ensure FSR_Quintile exists (robust qcut)\n",
    "try:\n",
    "    df['FSR_Quintile'] = pd.qcut(df['FSR_SCORE'], 5,\n",
    "                                 labels=['Lowest', 'Low', 'Middle', 'High', 'Highest'],\n",
    "                                 duplicates='raise')\n",
    "except ValueError:\n",
    "    df['FSR_Quintile'] = pd.qcut(df['FSR_SCORE'], 5,\n",
    "                                 labels=['Lowest', 'Low', 'Middle', 'High', 'Highest'],\n",
    "                                 duplicates='drop')\n",
    "    if df['FSR_Quintile'].isnull().any():\n",
    "        df['FSR_Quintile'] = pd.cut(df['FSR_SCORE'].rank(method='first'),\n",
    "                                    bins=5,\n",
    "                                    labels=['Lowest', 'Low', 'Middle', 'High', 'Highest'])\n",
    "\n",
    "# Fit linear and quadratic models for plotting (re-do to ensure variables exist)\n",
    "X = df['FSR_SCORE'].values.reshape(-1, 1)\n",
    "y = df['EO_SCORE'].values\n",
    "\n",
    "linear_model = LinearRegression()\n",
    "linear_model.fit(X, y)\n",
    "\n",
    "poly_features = PolynomialFeatures(degree=2, include_bias=False)\n",
    "X_poly = poly_features.fit_transform(X)\n",
    "poly_model = LinearRegression()\n",
    "poly_model.fit(X_poly, y)\n",
    "\n",
    "# Analysis 3: Size-specific correlation\n",
    "print(\"\\n3. FSR-Employment Correlation by Size:\")\n",
    "size_fsr_corr = df.groupby('Size').apply(lambda x: x['FSR_SCORE'].corr(x['EO_SCORE']))\n",
    "print(size_fsr_corr)\n",
    "\n",
    "# Analysis 4: Status x FSR_Quintile means\n",
    "print(\"\\n4. FSR-Employment by Status (mean EO per FSR quintile):\")\n",
    "status_analysis = df.groupby(['Status', 'FSR_Quintile'])['EO_SCORE'].mean().unstack()\n",
    "print(status_analysis)\n",
    "\n",
    "# Create visualization: 2x2 grid\n",
    "fig, axes = plt.subplots(2, 2, figsize=(16, 12))\n",
    "plt.subplots_adjust(hspace=0.35, wspace=0.3)\n",
    "\n",
    "# -----------------------\n",
    "# (a) Scatter + quadratic fit (color by Size)\n",
    "# -----------------------\n",
    "ax = axes[0, 0]\n",
    "sns.scatterplot(data=df, x='FSR_SCORE', y='EO_SCORE', hue='Size', ax=ax, alpha=0.7, edgecolor=None)\n",
    "# Quadratic fit line\n",
    "x_smooth = np.linspace(df['FSR_SCORE'].min(), df['FSR_SCORE'].max(), 300).reshape(-1, 1)\n",
    "x_smooth_poly = poly_features.transform(x_smooth)\n",
    "y_smooth = poly_model.predict(x_smooth_poly)\n",
    "ax.plot(x_smooth.ravel(), y_smooth, color='red', linestyle='--', linewidth=2, label='Quadratic fit')\n",
    "# Also add linear fit for reference\n",
    "y_lin = linear_model.predict(x_smooth)\n",
    "ax.plot(x_smooth.ravel(), y_lin, color='black', linestyle='-', linewidth=1.5, label='Linear fit')\n",
    "ax.set_title('FSR vs Employment Outcomes (scatter + fits)')\n",
    "ax.legend(loc='best')\n",
    "ax.grid(alpha=0.2)\n",
    "\n",
    "# -----------------------\n",
    "# (b) Boxplot by FSR quintile\n",
    "# -----------------------\n",
    "ax = axes[0, 1]\n",
    "# Ensure ordering of categories\n",
    "order = ['Lowest', 'Low', 'Middle', 'High', 'Highest']\n",
    "sns.boxplot(data=df, x='FSR_Quintile', y='EO_SCORE', order=order, ax=ax)\n",
    "ax.set_title('Employment Outcomes by FSR Quintile')\n",
    "ax.set_xlabel('FSR Quintile')\n",
    "ax.set_ylabel('EO_SCORE')\n",
    "ax.tick_params(axis='x', rotation=30)\n",
    "\n",
    "# -----------------------\n",
    "# (c) Status-specific barplot (mean EO by FSR quintile)\n",
    "# -----------------------\n",
    "ax = axes[1, 0]\n",
    "# Convert status_analysis to long form for seaborn\n",
    "status_long = status_analysis.reset_index().melt(id_vars='Status', var_name='FSR_Quintile', value_name='Mean_EO')\n",
    "# Plot bars grouped by Status and colored by FSR_Quintile\n",
    "sns.barplot(data=status_long, x='Status', y='Mean_EO', hue='FSR_Quintile', ax=ax, order=status_analysis.index)\n",
    "ax.set_title('Mean EO by Status and FSR Quintile')\n",
    "ax.set_xlabel('Status')\n",
    "ax.set_ylabel('Mean EO_SCORE')\n",
    "ax.tick_params(axis='x', rotation=30)\n",
    "ax.legend(title='FSR Quintile', bbox_to_anchor=(1.05, 1), loc='upper left')\n",
    "\n",
    "# -----------------------\n",
    "# (d) Heatmap: mean EO by FSR_Quintile x Size\n",
    "# -----------------------\n",
    "ax = axes[1, 1]\n",
    "pivot_data = df.pivot_table(values='EO_SCORE', index='FSR_Quintile', columns='Size', aggfunc='mean')\n",
    "# Reorder rows\n",
    "pivot_data = pivot_data.reindex(order)\n",
    "sns.heatmap(pivot_data, annot=True, fmt='.2f', cmap='viridis', ax=ax, cbar_kws={'label': 'Mean EO'})\n",
    "ax.set_title('Mean Employment (FSR Quintile × Size)')\n",
    "ax.set_xlabel('Size')\n",
    "ax.set_ylabel('FSR Quintile')\n",
    "\n",
    "plt.tight_layout()\n",
    "plt.show()\n"
   ]
  },
  {
   "cell_type": "code",
   "execution_count": 184,
   "id": "9e02312d-f5c9-4917-9a20-3ae89810bb0f",
   "metadata": {},
   "outputs": [
    {
     "data": {
      "image/png": "[encoded data removed]",
      "text/plain": [
       "<Figure size 640x480 with 4 Axes>"
      ]
     },
     "metadata": {},
     "output_type": "display_data"
    }
   ],
   "source": [
    "corr_matrix = df_random500_sub[['SUS_SCORE', 'ER_SCORE', 'EO_SCORE', 'FSR_SCORE']].corr()\n",
    "sns.heatmap(corr_matrix, annot=True, fmt='.2f', cmap='coolwarm')\n",
    "plt.show()"
   ]
  },
  {
   "cell_type": "code",
   "execution_count": 186,
   "id": "98122482-4697-4dd6-b8b0-0737cf9e1098",
   "metadata": {},
   "outputs": [],
   "source": [
    " df['SUS_Quintile'] = pd.qcut(\n",
    "        df['SUS_SCORE'],\n",
    "        5,\n",
    "        labels=['Bottom', 'Low', 'Middle', 'High', 'Top']\n",
    "    )"
   ]
  },
  {
   "cell_type": "code",
   "execution_count": 187,
   "id": "3ffa4b5f-5fb2-4338-a22b-abb7fb2d5813",
   "metadata": {},
   "outputs": [
    {
     "name": "stderr",
     "output_type": "stream",
     "text": [
      "/var/folders/8c/vl579g1x7f323l1s991t217h0000gn/T/ipykernel_3390/3454681644.py:1: FutureWarning:\n",
      "\n",
      "The default of observed=False is deprecated and will be changed to True in a future version of pandas. Pass observed=False to retain current behavior or observed=True to adopt the future default and silence this warning.\n",
      "\n"
     ]
    },
    {
     "data": {
      "text/html": [
       "<div>\n",
       "<style scoped>\n",
       "    .dataframe tbody tr th:only-of-type {\n",
       "        vertical-align: middle;\n",
       "    }\n",
       "\n",
       "    .dataframe tbody tr th {\n",
       "        vertical-align: top;\n",
       "    }\n",
       "\n",
       "    .dataframe thead th {\n",
       "        text-align: right;\n",
       "    }\n",
       "</style>\n",
       "<table border=\"1\" class=\"dataframe\">\n",
       "  <thead>\n",
       "    <tr style=\"text-align: right;\">\n",
       "      <th>SUS_Quintile</th>\n",
       "      <th>Bottom</th>\n",
       "      <th>Low</th>\n",
       "      <th>Middle</th>\n",
       "      <th>High</th>\n",
       "      <th>Top</th>\n",
       "    </tr>\n",
       "    <tr>\n",
       "      <th>Status</th>\n",
       "      <th></th>\n",
       "      <th></th>\n",
       "      <th></th>\n",
       "      <th></th>\n",
       "      <th></th>\n",
       "    </tr>\n",
       "  </thead>\n",
       "  <tbody>\n",
       "    <tr>\n",
       "      <th>Private for Profit</th>\n",
       "      <td>65.597211</td>\n",
       "      <td>67.496849</td>\n",
       "      <td>64.325856</td>\n",
       "      <td>63.946723</td>\n",
       "      <td>66.829235</td>\n",
       "    </tr>\n",
       "    <tr>\n",
       "      <th>Private not for Profit</th>\n",
       "      <td>64.636991</td>\n",
       "      <td>63.669916</td>\n",
       "      <td>65.555255</td>\n",
       "      <td>65.436978</td>\n",
       "      <td>59.254555</td>\n",
       "    </tr>\n",
       "    <tr>\n",
       "      <th>Public</th>\n",
       "      <td>68.580292</td>\n",
       "      <td>66.148721</td>\n",
       "      <td>61.751489</td>\n",
       "      <td>74.868465</td>\n",
       "      <td>68.994350</td>\n",
       "    </tr>\n",
       "  </tbody>\n",
       "</table>\n",
       "</div>"
      ],
      "text/plain": [
       "SUS_Quintile               Bottom        Low     Middle       High        Top\n",
       "Status                                                                       \n",
       "Private for Profit      65.597211  67.496849  64.325856  63.946723  66.829235\n",
       "Private not for Profit  64.636991  63.669916  65.555255  65.436978  59.254555\n",
       "Public                  68.580292  66.148721  61.751489  74.868465  68.994350"
      ]
     },
     "execution_count": 187,
     "metadata": {},
     "output_type": "execute_result"
    }
   ],
   "source": [
    "df.groupby(['Status', 'SUS_Quintile'])['EO_SCORE'].mean().unstack()"
   ]
  },
  {
   "cell_type": "code",
   "execution_count": 191,
   "id": "c5422370-5ef4-46e1-8628-617536d8dc98",
   "metadata": {},
   "outputs": [
    {
     "data": {
      "image/png": "[encoded data removed]",
      "text/plain": [
       "<Figure size 640x480 with 1 Axes>"
      ]
     },
     "metadata": {},
     "output_type": "display_data"
    }
   ],
   "source": [
    "# Distribution analysis\n",
    "# Check distributions & skewness of scores: SUS, EO, ER, FSR.\n",
    "# Identify outliers (maybe a small number of universities are pulling averages up).\n",
    "sns.histplot(df['SUS_SCORE'], kde=True)\n",
    "sns.boxplot(x=df['EO_SCORE'])\n",
    "plt.show()"
   ]
  },
  {
   "cell_type": "code",
   "execution_count": 192,
   "id": "fcd5cdae-ae4f-486b-b529-9057ee7691c8",
   "metadata": {},
   "outputs": [
    {
     "name": "stdout",
     "output_type": "stream",
     "text": [
      "\n",
      "=== Top 50 universities by SUS_SCORE ===\n",
      "\n",
      "Countries/Territories (top):\n",
      "Country/Territory\n",
      "Germany      10\n",
      "China         8\n",
      "Canada        6\n",
      "Australia     6\n",
      "UK            6\n",
      "USA           5\n",
      "Japan         5\n",
      "France        4\n",
      "Name: count, dtype: int64\n",
      "\n",
      "Regions (top):\n",
      "Region\n",
      "Africa      12\n",
      "Oceania     11\n",
      "Asia        11\n",
      "Americas     8\n",
      "Europe       8\n",
      "Name: count, dtype: int64\n",
      "\n",
      "Size distribution (top):\n",
      "Size\n",
      "XL    13\n",
      "M     13\n",
      "S     12\n",
      "L     12\n",
      "Name: count, dtype: int64\n",
      "\n",
      "=== Bottom 50 universities by SUS_SCORE ===\n",
      "\n",
      "Countries/Territories (bottom):\n",
      "Country/Territory\n",
      "France       11\n",
      "USA          10\n",
      "Canada        7\n",
      "Australia     6\n",
      "Germany       6\n",
      "Japan         5\n",
      "China         4\n",
      "UK            1\n",
      "Name: count, dtype: int64\n",
      "\n",
      "Regions (bottom):\n",
      "Region\n",
      "Europe      13\n",
      "Oceania     11\n",
      "Americas    10\n",
      "Africa       9\n",
      "Asia         7\n",
      "Name: count, dtype: int64\n",
      "\n",
      "Size distribution (bottom):\n",
      "Size\n",
      "S     15\n",
      "L     14\n",
      "XL    13\n",
      "M      8\n",
      "Name: count, dtype: int64\n",
      "\n",
      "=== Top 50 universities by ER_SCORE ===\n",
      "\n",
      "Countries/Territories (top):\n",
      "Country/Territory\n",
      "USA          11\n",
      "France        8\n",
      "Australia     7\n",
      "Japan         6\n",
      "Germany       5\n",
      "China         5\n",
      "Canada        4\n",
      "UK            4\n",
      "Name: count, dtype: int64\n",
      "\n",
      "Regions (top):\n",
      "Region\n",
      "Africa      14\n",
      "Asia        13\n",
      "Americas    12\n",
      "Europe       8\n",
      "Oceania      3\n",
      "Name: count, dtype: int64\n",
      "\n",
      "Size distribution (top):\n",
      "Size\n",
      "M     14\n",
      "S     13\n",
      "XL    13\n",
      "L     10\n",
      "Name: count, dtype: int64\n",
      "\n",
      "=== Bottom 50 universities by ER_SCORE ===\n",
      "\n",
      "Countries/Territories (bottom):\n",
      "Country/Territory\n",
      "Germany      9\n",
      "France       9\n",
      "USA          7\n",
      "Australia    7\n",
      "China        6\n",
      "UK           6\n",
      "Japan        5\n",
      "Canada       1\n",
      "Name: count, dtype: int64\n",
      "\n",
      "Regions (bottom):\n",
      "Region\n",
      "Oceania     13\n",
      "Americas    11\n",
      "Europe      10\n",
      "Africa       8\n",
      "Asia         8\n",
      "Name: count, dtype: int64\n",
      "\n",
      "Size distribution (bottom):\n",
      "Size\n",
      "M     20\n",
      "S     12\n",
      "XL    12\n",
      "L      6\n",
      "Name: count, dtype: int64\n",
      "\n",
      "=== Top 50 universities by EO_SCORE ===\n",
      "\n",
      "Countries/Territories (top):\n",
      "Country/Territory\n",
      "China        9\n",
      "France       8\n",
      "Australia    7\n",
      "USA          7\n",
      "Japan        6\n",
      "Canada       5\n",
      "Germany      4\n",
      "UK           4\n",
      "Name: count, dtype: int64\n",
      "\n",
      "Regions (top):\n",
      "Region\n",
      "Africa      14\n",
      "Americas    11\n",
      "Europe      10\n",
      "Asia         9\n",
      "Oceania      6\n",
      "Name: count, dtype: int64\n",
      "\n",
      "Size distribution (top):\n",
      "Size\n",
      "M     15\n",
      "XL    14\n",
      "L     11\n",
      "S     10\n",
      "Name: count, dtype: int64\n",
      "\n",
      "=== Bottom 50 universities by EO_SCORE ===\n",
      "\n",
      "Countries/Territories (bottom):\n",
      "Country/Territory\n",
      "Australia    12\n",
      "France        9\n",
      "USA           8\n",
      "China         7\n",
      "Canada        5\n",
      "Japan         3\n",
      "UK            3\n",
      "Germany       3\n",
      "Name: count, dtype: int64\n",
      "\n",
      "Regions (bottom):\n",
      "Region\n",
      "Africa      14\n",
      "Europe      10\n",
      "Asia        10\n",
      "Oceania      9\n",
      "Americas     7\n",
      "Name: count, dtype: int64\n",
      "\n",
      "Size distribution (bottom):\n",
      "Size\n",
      "M     15\n",
      "S     14\n",
      "XL    12\n",
      "L      9\n",
      "Name: count, dtype: int64\n"
     ]
    }
   ],
   "source": [
    "import pandas as pd\n",
    "\n",
    "# Function to explore top/bottom performers\n",
    "def top_bottom_performers(df, column, top_n=50):\n",
    "    \"\"\"\n",
    "    Summarize top and bottom performers for a given score column.\n",
    "    Prints the distribution of Country/Territory, Region, and Size/FSR.\n",
    "    \"\"\"\n",
    "    print(f\"\\n=== Top {top_n} universities by {column} ===\")\n",
    "    top_df = df.nlargest(top_n, column)\n",
    "    print(\"\\nCountries/Territories (top):\")\n",
    "    print(top_df['Country/Territory'].value_counts())\n",
    "    \n",
    "    print(\"\\nRegions (top):\")\n",
    "    print(top_df['Region'].value_counts())\n",
    "    \n",
    "    print(\"\\nSize distribution (top):\")\n",
    "    print(top_df['Size'].value_counts())\n",
    "    \n",
    "    print(f\"\\n=== Bottom {top_n} universities by {column} ===\")\n",
    "    bottom_df = df.nsmallest(top_n, column)\n",
    "    print(\"\\nCountries/Territories (bottom):\")\n",
    "    print(bottom_df['Country/Territory'].value_counts())\n",
    "    \n",
    "    print(\"\\nRegions (bottom):\")\n",
    "    print(bottom_df['Region'].value_counts())\n",
    "    \n",
    "    print(\"\\nSize distribution (bottom):\")\n",
    "    print(bottom_df['Size'].value_counts())\n",
    "\n",
    "# Run the function for SUS, ER, EO\n",
    "for col in ['SUS_SCORE', 'ER_SCORE', 'EO_SCORE']:\n",
    "    top_bottom_performers(df_random500_sub, col, top_n=50)\n"
   ]
  },
  {
   "cell_type": "markdown",
   "id": "6f48e29e-6f8d-4363-8db2-6e1b0e9675cd",
   "metadata": {},
   "source": [
    "SUS_SCORE (Sustainability)\n",
    "\n",
    "Top 50\n",
    "\n",
    "Countries: Germany, China, Canada, Australia, UK dominate.\n",
    "\n",
    "Regions: Surprisingly, Africa and Oceania appear high, even though top countries are Europe/Asia/Americas — likely a random artifact of the simulated data.\n",
    "\n",
    "Size: Distributed evenly across XL, M, S, L — no clear size effect.\n",
    "\n",
    "Bottom 50\n",
    "\n",
    "Countries: France, USA, Canada dominate the bottom.\n",
    "\n",
    "Regions: Europe and Oceania lead the bottom.\n",
    "\n",
    "Size: Slightly more small universities (S = 15) in the bottom → smaller schools may struggle on sustainability metric.\n",
    "\n",
    "Insight:\n",
    "\n",
    "Top SUS universities are geographically diverse, no single region dominates.\n",
    "\n",
    "SUS does not strongly depend on size.\n",
    "\n",
    "Some countries (France, USA) have many universities in the bottom 50 → possible variance within country.\n",
    "\n",
    "2️⃣ ER_SCORE (Employer Reputation)\n",
    "\n",
    "Top 50\n",
    "\n",
    "Countries: USA is dominant (11), followed by France and Australia.\n",
    "\n",
    "Regions: Africa (14) and Asia (13) surprisingly high — likely an artifact of the random dataset.\n",
    "\n",
    "Size: Medium (M = 14) and small (S = 13) universities slightly more frequent.\n",
    "\n",
    "Bottom 50\n",
    "\n",
    "Countries: Germany and France (9 each) dominate.\n",
    "\n",
    "Regions: Oceania (13) and Americas (11) — bottom includes many medium-sized universities (M = 20).\n",
    "\n",
    "Insight:\n",
    "\n",
    "Employer reputation seems more concentrated in certain countries (USA top, Germany/France bottom).\n",
    "\n",
    "Medium universities appear frequently in the bottom → FSR or size might interact with ER.\n",
    "\n",
    "3️⃣ EO_SCORE (Employment Outcomes)\n",
    "\n",
    "Top 50\n",
    "\n",
    "Countries: China (9), France (8), Australia/USA (7).\n",
    "\n",
    "Regions: Africa (14), Americas (11) lead — again possibly random, but gives a sense of spread.\n",
    "\n",
    "Size: Medium (M = 15) and XL (14) universities slightly dominate.\n",
    "\n",
    "Bottom 50\n",
    "\n",
    "Countries: Australia (12), France (9), USA (8).\n",
    "\n",
    "Regions: Africa (14), Europe (10), Asia (10).\n",
    "\n",
    "Size: Medium (M = 15) and small (S = 14) universities appear frequently.\n",
    "\n",
    "Insight:\n",
    "\n",
    "Employment outcomes don’t perfectly align with SUS or ER.\n",
    "\n",
    "Some countries (France, USA, Australia) appear both in top and bottom → high variation within country.\n",
    "\n",
    "Medium-sized universities are common in both top and bottom 50 → size alone doesn’t explain EO.\n",
    "\n",
    "🔹 Cross-cutting patterns\n",
    "\n",
    "SUS vs EO vs ER\n",
    "\n",
    "High SUS doesn’t guarantee high EO — confirms your previous correlation and “faculty investment paradox” insights.\n",
    "\n",
    "High ER sometimes aligns with high EO (USA top ER = top EO), but not universally.\n",
    "\n",
    "Size effects\n",
    "\n",
    "Distribution is fairly even; no size consistently dominates top or bottom performers.\n",
    "\n",
    "Medium universities appear often in extremes (both top and bottom) → high variance in outcomes.\n",
    "\n",
    "Country/Region patterns\n",
    "\n",
    "Some countries have both top and bottom universities → national averages may hide internal disparities.\n",
    "\n",
    "Regional patterns are noisy in your dataset (likely due to randomness), but it’s good to note diversity.\n",
    "\n",
    "💡 Slide-friendly takeaways\n",
    "\n",
    "Sustainability (SUS), Employer Reputation (ER), and Employment Outcomes (EO) show diverse distributions across countries and regions.\n",
    "\n",
    "No single university size guarantees top performance; medium universities show high variance.\n",
    "\n",
    "Top-performing universities in one metric don’t necessarily lead in others → highlights complex, multi-dimensional nature of rankings.\n",
    "\n",
    "These patterns suggest looking beyond averages and considering combinations of SUS, ER, EO, and FSR for deeper insights.\n",
    "\n",
    "If you want, I can create a visual summary of these top/bottom distributions as bar plots and heatmaps — would make your presentation very intuitive and slide-ready.\n",
    "\n",
    "Do you want me to do that next?"
   ]
  }
 ],
 "metadata": {
  "kernelspec": {
   "display_name": "Python [conda env:base] *",
   "language": "python",
   "name": "conda-base-py"
  },
  "language_info": {
   "codemirror_mode": {
    "name": "ipython",
    "version": 3
   },
   "file_extension": ".py",
   "mimetype": "text/x-python",
   "name": "python",
   "nbconvert_exporter": "python",
   "pygments_lexer": "ipython3",
   "version": "3.13.5"
  }
 },
 "nbformat": 4,
 "nbformat_minor": 5
}
